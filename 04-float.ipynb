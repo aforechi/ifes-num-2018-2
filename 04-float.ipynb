{
 "cells": [
  {
   "cell_type": "markdown",
   "metadata": {},
   "source": [
    "# Aula 4: Precisão Numérica em Computadores\n",
    "\n",
    "Exercício: Resolva o somatório a seguir e compare com o resultado obtido pelo algoritmo.\n",
    "\n",
    "$\\sum_{i=1}^{1000} 0.1$"
   ]
  },
  {
   "cell_type": "code",
   "execution_count": null,
   "metadata": {},
   "outputs": [],
   "source": [
    "1000.0 * 0.1"
   ]
  },
  {
   "cell_type": "markdown",
   "metadata": {},
   "source": [
    "Espera-se que o resultado seja o equivalente a $ 1000 \\times 0.1 $, mas o que se observa é um erro cumulativo nas mil somas que não ocorre na multiplicação."
   ]
  },
  {
   "cell_type": "code",
   "execution_count": null,
   "metadata": {},
   "outputs": [],
   "source": [
    "soma = single(0.0);\n",
    "\n",
    "for i = 1:1000\n",
    "    soma=soma + single(0.1);\n",
    "    i=i+1;\n",
    "end\n",
    "\n",
    "soma"
   ]
  },
  {
   "cell_type": "markdown",
   "metadata": {},
   "source": [
    "Contudo, a representação do número decimal 0.1 em binário consiste em uma dízima periódica: $(0.1)_{10} = (0.0001100110011...)_2$, que ao ser convertido de volta equivale aproximadamente a $0.0999999$."
   ]
  },
  {
   "cell_type": "code",
   "execution_count": null,
   "metadata": {},
   "outputs": [],
   "source": [
    "format long\n",
    "single(0.0999999) * 1000"
   ]
  },
  {
   "cell_type": "markdown",
   "metadata": {},
   "source": [
    "# Exercícios propostos\n",
    "- Implemente o algoritmo de conversão de decimal para binário de números inteiros utilizando o comando **while**, as funções de resto da divisão **mod** e truncamento **floor**. Crie um vetor vazio **b** para armazenar a sequência de bits do resto usando concatenação de vetores **b = [b resto]**. Ao final utilize a função de inversão **fliplr** para obter a sequência de bits na ordem correta."
   ]
  },
  {
   "cell_type": "code",
   "execution_count": 1,
   "metadata": {},
   "outputs": [
    {
     "name": "stdout",
     "output_type": "stream",
     "text": [
      "ans =\n",
      "\n",
      "   1   0   1   0   1\n",
      "\n"
     ]
    }
   ],
   "source": [
    "dividendo = 21;\n",
    "quociente = 21;\n",
    "binario = [];\n",
    "while quociente ~= 0\n",
    "    resto = mod(dividendo,2);\n",
    "    quociente = floor(dividendo/2);\n",
    "    dividendo = quociente;\n",
    "    binario = [binario resto];\n",
    "end\n",
    "fliplr(binario)"
   ]
  },
  {
   "cell_type": "markdown",
   "metadata": {},
   "source": [
    "- Digite numero inteiro de tres digitos e encontre o algarismo das dezenas usando as funções de truncamento floor(numero) e resto = mod(dividendo, divisor)."
   ]
  },
  {
   "cell_type": "code",
   "execution_count": 2,
   "metadata": {},
   "outputs": [
    {
     "name": "stdout",
     "output_type": "stream",
     "text": [
      "ans =  2\n"
     ]
    }
   ],
   "source": [
    "x = 123;\n",
    "mod(floor(x/10),10)"
   ]
  },
  {
   "cell_type": "code",
   "execution_count": null,
   "metadata": {},
   "outputs": [],
   "source": []
  }
 ],
 "metadata": {
  "kernelspec": {
   "display_name": "Octave",
   "language": "octave",
   "name": "octave"
  },
  "language_info": {
   "file_extension": ".m",
   "help_links": [
    {
     "text": "GNU Octave",
     "url": "https://www.gnu.org/software/octave/support.html"
    },
    {
     "text": "Octave Kernel",
     "url": "https://github.com/Calysto/octave_kernel"
    },
    {
     "text": "MetaKernel Magics",
     "url": "https://github.com/calysto/metakernel/blob/master/metakernel/magics/README.md"
    }
   ],
   "mimetype": "text/x-octave",
   "name": "octave",
   "version": "4.4.0"
  }
 },
 "nbformat": 4,
 "nbformat_minor": 2
}

{
 "cells": [
  {
   "cell_type": "markdown",
   "metadata": {},
   "source": [
    "# Resolução de Sistemas Lineares e Não-Lineares por métodos iterativos\n",
    "\n",
    "\n",
    "1 -  Desenvolva sua própria função do MATLAB para o método de Newton-Raphson para sistemas de equações não lineares, baseando-se na função [newtmult](src/newtmult.m).\n",
    "\n",
    "a - Determinar as raízes das equações do exercício 12.8 do livro com aproximações iniciais $x=y=1.2$:\n",
    "\\begin{equation}\n",
    "\\begin{cases}\n",
    "y  = -x^2 + x + 0.5\\\\\n",
    "y + 5xy = x^2\n",
    "\\end{cases}\n",
    "\\end{equation}"
   ]
  },
  {
   "cell_type": "code",
   "execution_count": null,
   "metadata": {},
   "outputs": [],
   "source": [
    "function [J,f]=jf1a(x,varargin)\n",
    "    del=0.000001;\n",
    "    df1dx1=(u(x(1)+del*x(1),x(2))-u(x(1),x(2)))/(del*x(1));\n",
    "    df1dx2=(u(x(1),x(2)+del*x(2))-u(x(1),x(2)))/(del*x(2));\n",
    "    df2dx1=(v(x(1)+del*x(1),x(2))-v(x(1),x(2)))/(del*x(1));\n",
    "    df2dx2=(v(x(1),x(2)+del*x(2))-v(x(1),x(2)))/(del*x(2));\n",
    "    J=[df1dx1 df1dx2;df2dx1 df2dx2];\n",
    "    f1=u(x(1),x(2));\n",
    "    f2=v(x(1),x(2));\n",
    "    f=[f1;f2];\n",
    "end\n",
    "\n",
    "function f=u(x,y)\n",
    "    f=-x^2+x+0.5-y;\n",
    "end\n",
    "\n",
    "function f=v(x,y)\n",
    "    f=x^2-y-5*x*y;\n",
    "end"
   ]
  },
  {
   "cell_type": "code",
   "execution_count": null,
   "metadata": {},
   "outputs": [],
   "source": [
    "addpath('src/');\n",
    "x0=[1.2;1.2];\n",
    "[x,f,ea,iter]=newtmult(@jf1a,x0)"
   ]
  },
  {
   "cell_type": "markdown",
   "metadata": {},
   "source": [
    "b - Determinar as raízes de F(x) começando com $x_1=1.5$ e $x_2=3.5$\n",
    "\\begin{equation}\n",
    "F(x) = \n",
    "\\begin{cases}\n",
    "x_1^{2} + x_1x_2 = 10\\\\\n",
    "x_2 + 3x_1x_2^{2} = 57\n",
    "\\end{cases}\n",
    "\\end{equation}\n",
    "\n"
   ]
  },
  {
   "cell_type": "code",
   "execution_count": null,
   "metadata": {},
   "outputs": [],
   "source": [
    "% Resolva F(x)"
   ]
  },
  {
   "cell_type": "markdown",
   "metadata": {},
   "source": [
    "2 -  Desenvolva sua própria função do MATLAB para o método de Gauss-Seidel para sistemas de equações lineares, baseando-se na função [GaussSeidel](src/GaussSeidel.m).\n",
    "\n",
    "a - Determinar a solução do sistema linear do exercício 12.2(a) do livro com erro relativo percentual abaixo de 5%."
   ]
  },
  {
   "cell_type": "code",
   "execution_count": null,
   "metadata": {},
   "outputs": [],
   "source": [
    "addpath('src/');\n",
    "A=[0.8 -0.4 0;-0.4 0.8 -0.4;0 -0.4 0.8];\n",
    "b=[41;25;105];\n",
    "x = GaussSeidel(A,b,5)"
   ]
  },
  {
   "cell_type": "markdown",
   "metadata": {},
   "source": [
    "b - Use o método de Gauss-Seidel para obter a solução para o sistema abaixo e depois confira o resultado com a função implementada.\n",
    "\n",
    "\\begin{equation*}\n",
    "\\left[\n",
    "\\begin{array}{rrr}\n",
    "3  & -0.1 & -0.2 \\\\\n",
    "0.1 & 7 & -0.3 \\\\\n",
    "0.3  & -0.2 & 10  \\\\\n",
    "\\end{array}\n",
    "\\right]\n",
    "\\left[\n",
    "\\begin{array}{c}\n",
    "x_1\\\\\n",
    "x_2\\\\\n",
    "x_3\\\\\n",
    "\\end{array}\n",
    "\\right]\n",
    "=\n",
    "\\left[\n",
    "\\begin{array}{r}\n",
    "7.85\\\\\n",
    "-19.3\\\\\n",
    "71.4\\\\\n",
    "\\end{array}\n",
    "\\right]\n",
    "\\end{equation*}"
   ]
  },
  {
   "cell_type": "code",
   "execution_count": null,
   "metadata": {},
   "outputs": [],
   "source": []
  }
 ],
 "metadata": {
  "kernelspec": {
   "display_name": "Octave",
   "language": "octave",
   "name": "octave"
  },
  "language_info": {
   "file_extension": ".m",
   "help_links": [
    {
     "text": "GNU Octave",
     "url": "https://www.gnu.org/software/octave/support.html"
    },
    {
     "text": "Octave Kernel",
     "url": "https://github.com/Calysto/octave_kernel"
    },
    {
     "text": "MetaKernel Magics",
     "url": "https://github.com/calysto/metakernel/blob/master/metakernel/magics/README.md"
    }
   ],
   "mimetype": "text/x-octave",
   "name": "octave",
   "version": "4.4.0"
  }
 },
 "nbformat": 4,
 "nbformat_minor": 2
}

{
 "cells": [
  {
   "cell_type": "markdown",
   "metadata": {},
   "source": [
    "# Resolução de Sistemas Lineares\n",
    "\n",
    "## Método de Gauss-Seidel\n",
    "O método de Gauss-Seidel pode ser visto como uma melhoria aplicada ao método de Jacobi. O sistema linear pode, então, ser escrito como\n",
    "$$(D+E+F)x=b \\longrightarrow (D+E)x = -Fx + b $$\n",
    "\n",
    "$$(D+E)x^{(k+1)}=-Fx^{(k)}+b \\longrightarrow Dx^{(k+1)}=-Ex^{(k+1)}-Fx^{(k)}+b$$\n",
    "\n",
    "Tal modificação pode ser vista de maneira bem simples quando utilizada a forma algébrica do sistema:\n",
    "\\begin{equation*}\n",
    "\\begin{cases}\n",
    "\\begin{array}{cl}\n",
    "x_1^{(k+1)} =& \\frac{1}{a_{11}}(-a_{12}x_2^{(k)}-a_{13}x_3^{(k)}-\\cdots-a_{1n}x_n^{(k)}+b_1),\\\\\n",
    "x_2^{(k+1)} =& \\frac{1}{a_{22}}(-a_{21}x_1^{(k+1)}-a_{23}x_3^{(k)}-\\cdots-a_{2n}x_n^{(k)}+b_2),\\\\\n",
    "x_3^{(k+1)} =& \\frac{1}{a_{33}}(-a_{31}x_1^{(k+1)}-a_{33}x_2^{(k+1)}-\\cdots-a_{3n}x_n^{(k)}+b_3),\\\\\n",
    "\\vdots   &  \\vdots\\\\\n",
    "x_n^{(k+1)} =& \\frac{1}{a_{nn}}(-a_{n1}x_1^{(k+1)}-a_{n2}x_2^{(k+1)}-\\cdots-a_{n,n-1}x_{n-1}^{(k+1)}+b_n),\\\\\n",
    "\\end{array}\n",
    "\\end{cases}\n",
    "\\end{equation*}\n",
    "\n",
    "**Exemplo:** Resolver o sistema de equações pelo método de Gauss-Seidel com $\\varepsilon=10^{-2}$ \n",
    "e $k_{max}=5$.\n",
    "\\begin{equation*}\n",
    "\\left[\n",
    "\\begin{array}{rrr}\n",
    "10  & 3 & -2 \\\\\n",
    "2 & 8 & -1 \\\\\n",
    "1  & 1 & 5  \\\\\n",
    "\\end{array}\n",
    "\\right]\n",
    "\\left[\n",
    "\\begin{array}{c}\n",
    "x_1\\\\\n",
    "x_2\\\\\n",
    "x_3\\\\\n",
    "\\end{array}\n",
    "\\right]\n",
    "=\n",
    "\\left[\n",
    "\\begin{array}{r}\n",
    "57\\\\\n",
    "20\\\\\n",
    "-4\\\\\n",
    "\\end{array}\n",
    "\\right]\n",
    "\\end{equation*}\n",
    "\n",
    "**Solução:**\n",
    "- Verificar o critério de convergência\n",
    "\t- O sistema é convergente pois a matriz é diagonal estritamente dominante.\n",
    "\t\n",
    "\t\n",
    "- Escrever a forma iterativa do sistema\n",
    "\t- O sistema pode ser reescrito como:\n",
    "\t\\begin{equation*}\n",
    "\t\\begin{cases}\n",
    "\t\\begin{array}{cc}\n",
    "\tx_1^{(k+1)} =& \\frac{1}{10}(-3x_2^{(k)}+2x_3^{(k)}+57),\\\\\n",
    "\tx_2^{(k+1)} =& \\frac{1}{8}(-2x_1^{(k+1)}+x_3^{(k)}+20),\\\\\n",
    "\tx_3^{(k+1)} =& \\frac{1}{5}(-x_1^{(k+1)}-x_2^{(k+1)}-4).\\\\\n",
    "\t\\end{array}\n",
    "\t\\end{cases}\n",
    "\t\\end{equation*}\n",
    "\t\n",
    "- Calcular o vetor $x^{(1)}$ considerando o vetor inicial nulo $x^{(0)}=[0;0;0]^T$.\n",
    "\t\\begin{equation*}\n",
    "\tx^{(1)}\n",
    "\t=\n",
    "\t\\left[\n",
    "\t\\begin{array}{r}\n",
    "\t5.7\\\\\n",
    "\t2.5\\\\\n",
    "\t-0.8\n",
    "\t\\end{array}\n",
    "\t\\right]\n",
    "\t\\end{equation*}\n",
    "\t\n",
    "- Efetuar as iterações até que um critério de parada seja atingido:\n",
    "\t- 2ª Iteração:\n",
    "\t\\begin{equation*}\n",
    "\t\\begin{cases}\n",
    "\t\\begin{array}{cc}\n",
    "\tx_1^{(2)} =& \\frac{1}{10}(-3x_2^{(1)}+2x_3^{(1)}+57)=\\frac{1}{10}(-3(2.5)+2(-0.8)+57)=4.79\\\\\n",
    "\tx_2^{(2)} =& \\frac{1}{8}(-2x_1^{(2)}+x_3^{(1)}+20)=\\frac{1}{8}(-2(4.79)+(-0.8)+20)=1.2025\\\\\n",
    "\tx_3^{(2)} =& \\frac{1}{5}(-x_1^{(2)}-x_2^{(2)}-4)=\\frac{1}{5}(-(4.79)-(1.2025)-4)=-1.9985\\\\\n",
    "\t\\end{array}\n",
    "\t\\end{cases}\n",
    "\t\\end{equation*}\t\n",
    "\t\n",
    "    Portanto, $x^{(2)}=[4.79;1.2025;-1.9985]^T$ e\n",
    "    \n",
    "\t\\begin{array}{l}\n",
    "\t\\frac{||x^{(2)}-x^{(1)}||}{||x^{(2)}||}=\\frac{max(|4.79-5.7|;|1.2025-2.5|;|-1.9985-(-0.8)|)}{max(|4.79|;|1.2025|;|-1.9985|)},\\\\\n",
    "\t\\frac{||x^{(2)}-x^{(1)}||}{||x^{(2)}||}=\\frac{max(0.91;1.2975;1.1985)}{max(4.79;1.2025;1.9985)}=0.270877>\\varepsilon.\n",
    "\t\\end{array}\n",
    "\t\n",
    "\t- 3ª Iteração:\n",
    "\t\\begin{equation*}\n",
    "\t\\begin{cases}\n",
    "\t\\begin{array}{cc}\n",
    "\tx_1^{(3)} =& \\frac{1}{10}(-3x_2^{(2)}+2x_3^{(2)}+57)=\\frac{1}{10}(-3(1.2025)+2(-1.9985)+57)=4.93955\\\\\n",
    "\tx_2^{(3)} =& \\frac{1}{8}(-2x_1^{(3)}+x_3^{(2)}+20)=\\frac{1}{8}(-2(4.93955)+(-1.9985)+20)=1.0153\\\\\n",
    "\tx_3^{(3)} =& \\frac{1}{5}(-x_1^{(3)}-x_2^{(3)}-4)=\\frac{1}{5}(-(4.93955)-(1.0153)-4)=-1.99097\\\\\n",
    "\t\\end{array}\n",
    "\t\\end{cases}\n",
    "\t\\end{equation*}\t\n",
    "\t\n",
    "    e\n",
    "    \n",
    "\t\\begin{array}{l}\n",
    "\t\\frac{||x^{(3)}-x^{(2)}||}{||x^{(3)}||}=0.0378982>\\varepsilon.\n",
    "\t\\end{array}\n",
    "\n",
    "    - 4ª Iteração:\n",
    "\t\\begin{equation*}\n",
    "\t\\begin{cases}\n",
    "\t\\begin{array}{cc}\n",
    "\tx_1^{(4)} =& 4.9972\\\\\n",
    "\tx_2^{(4)} =& 1.00182\\\\\n",
    "\tx_3^{(4)} =& -1.99981\n",
    "\t\\end{array}\n",
    "\t\\end{cases}\n",
    "\t\\end{equation*}\t\n",
    "\t\n",
    "    e\n",
    "\n",
    "    \\begin{array}{l}\n",
    "\t\\frac{||x^{(4)}-x^{(3)}||}{||x^{(4)}||}=0.015396>\\varepsilon.\n",
    "\t\\end{array}\n",
    "\n",
    "    - 5ª Iteração: \n",
    "\t\\begin{equation*}\n",
    "\t\\begin{cases}\n",
    "\t\\begin{array}{cc}\n",
    "\tx_1^{(5)} =& 4.99949\\\\\n",
    "\tx_2^{(5)} =& 1.00015\\\\\n",
    "\tx_3^{(5)} =& -1.99993\n",
    "\t\\end{array}\n",
    "\t\\end{cases}\n",
    "\t\\end{equation*}\t\n",
    "\t\n",
    "    e\n",
    "\n",
    "    \\begin{array}{l}\n",
    "\t\\frac{||x^{(5)}-x^{(4)}||}{||x^{(5)}||}=0.000455035<\\varepsilon.\n",
    "\t\\end{array}\n",
    "\n",
    "    Termina o processo e admite que a solução do sistema é \n",
    "\n",
    "    \\begin{equation*}\n",
    "\tx \\approx x^{(5)} = \n",
    "\t\\left[\n",
    "\t\\begin{array}{r}\n",
    "\t4.99949\\\\\n",
    "\t1.00015\\\\\n",
    "\t-1.99993\n",
    "\t\\end{array}\n",
    "\t\\right]\n",
    "\t\\end{equation*}\n"
   ]
  },
  {
   "cell_type": "markdown",
   "metadata": {},
   "source": [
    "**Exercício:** Compare com o código [GaussSeidel.m](src/GaussSeidel.m) em matlab com o método prático manual e teste o mesmo com o exemplo anterior.\n",
    "\n",
    "$$x = d - C\\times x^{velho}$$\n",
    "\n",
    "Considere:\n",
    "\n",
    "$$d = \n",
    "\\left[\n",
    "\\begin{array}{r}\n",
    "b_{1}/a_{11}\\\\\n",
    "b_{2}/a_{22}\\\\\n",
    "b_{3}/a_{33}\n",
    "\\end{array}\n",
    "\\right]\n",
    "$$\n",
    "\n",
    "e\n",
    "\n",
    "$$C = \n",
    "\\left[\n",
    "\\begin{array}{rrr}\n",
    "0 & a_{12}/a_{11} & a_{13}/a_{11}\\\\\n",
    "a_{21}/a_{22} & 0 & a_{23}/a_{22}\\\\\n",
    "a_{31}/a_{33} & a_{32}/a_{33} & 0\\\\\n",
    "\\end{array}\n",
    "\\right]\n",
    "$$"
   ]
  },
  {
   "cell_type": "code",
   "execution_count": 2,
   "metadata": {},
   "outputs": [
    {
     "name": "stdout",
     "output_type": "stream",
     "text": [
      "A =\n",
      "\n",
      "   10    3   -2\n",
      "    2    8   -1\n",
      "    1    1    5\n",
      "\n",
      "b =\n",
      "\n",
      "   57\n",
      "   20\n",
      "   -4\n",
      "\n"
     ]
    }
   ],
   "source": [
    "A = [10 3 -2; 2 8 -1; 1 1 5]\n",
    "b = [57; 20; -4]"
   ]
  },
  {
   "cell_type": "code",
   "execution_count": 7,
   "metadata": {},
   "outputs": [],
   "source": [
    "addpath('src/');"
   ]
  },
  {
   "cell_type": "code",
   "execution_count": 8,
   "metadata": {},
   "outputs": [
    {
     "data": {
      "text/plain": [
       "'GaussSeidel' is a function from the file /home/jovyan/src/GaussSeidel.m\r\n",
       "\r\n",
       " GaussSeidel: Método de Gauss-Seidel\r\n",
       "   x = GaussSeideI(A,b) : Gauss—Seidel sem relaxamento \r\n",
       " entrada :\r\n",
       "   A = matriz dos coeficientes\r\n",
       "   b = vetor do lado direito   \r\n",
       "   es = critério de parada (padrão\t= 0.00001%) \r\n",
       "   maxit = número máximo de iterações (padrão = 50 )\r\n",
       " output :\r\n",
       "   x = vetor solução \r\n",
       "\r\n",
       "\r\n",
       "Additional help for built-in functions and operators is\r\n",
       "available in the online version of the manual.  Use the command\r\n",
       "'doc <topic>' to search the manual index.\r\n",
       "\r\n",
       "Help and information about Octave is also available on the WWW\r\n",
       "at http://www.octave.org and via the help@octave.org\r\n",
       "mailing list.\r\n"
      ]
     },
     "metadata": {},
     "output_type": "display_data"
    }
   ],
   "source": [
    "?GaussSeidel"
   ]
  },
  {
   "cell_type": "code",
   "execution_count": 9,
   "metadata": {},
   "outputs": [
    {
     "name": "stdout",
     "output_type": "stream",
     "text": [
      "warning: Matlab-style short-circuit operation performed for operator |\n",
      "warning: called from\n",
      "    GaussSeidel at line 13 column 1\n",
      "warning: Matlab-style short-circuit operation performed for operator |\n",
      "warning: called from\n",
      "    GaussSeidel at line 45 column 5\n",
      "x =\n",
      "\n",
      "   5.0000\n",
      "   1.0000\n",
      "  -2.0000\n",
      "\n"
     ]
    }
   ],
   "source": [
    "x = GaussSeidel(A, b, 0.01)"
   ]
  },
  {
   "cell_type": "code",
   "execution_count": 10,
   "metadata": {},
   "outputs": [
    {
     "name": "stdout",
     "output_type": "stream",
     "text": [
      "y =\n",
      "\n",
      "   5.0000\n",
      "   1.0000\n",
      "  -2.0000\n",
      "\n"
     ]
    }
   ],
   "source": [
    "y = A\\b"
   ]
  },
  {
   "cell_type": "code",
   "execution_count": null,
   "metadata": {},
   "outputs": [],
   "source": []
  }
 ],
 "metadata": {
  "kernelspec": {
   "display_name": "Octave",
   "language": "octave",
   "name": "octave"
  },
  "language_info": {
   "file_extension": ".m",
   "help_links": [
    {
     "text": "GNU Octave",
     "url": "https://www.gnu.org/software/octave/support.html"
    },
    {
     "text": "Octave Kernel",
     "url": "https://github.com/Calysto/octave_kernel"
    },
    {
     "text": "MetaKernel Magics",
     "url": "https://github.com/calysto/metakernel/blob/master/metakernel/magics/README.md"
    }
   ],
   "mimetype": "text/x-octave",
   "name": "octave",
   "version": "4.2.2"
  }
 },
 "nbformat": 4,
 "nbformat_minor": 2
}

{
 "cells": [
  {
   "cell_type": "markdown",
   "metadata": {},
   "source": [
    "# Zeros de funções\n",
    "\n",
    "<div class=\"alert alert-block alert-success\">\n",
    "    <b>Notas de aula baseadas nos livros: </b> \n",
    "    <p>Cálculo Numérico - Aspectos Teóricos e Computacionais, das autoras Márcia A. G. Ruggiero e Vera L. R. Lopes\n",
    "    <p>Algoritmos Numéricos do autor Fredericos Campos\n",
    "</div>\n",
    "    \n",
    "Os métodos para resolver o problema $f(x)=0$ podem ser classificados em dois grandes grupos: \n",
    "- os métodos de encaixe e \n",
    "- os métodos de intervalo aberto.\n",
    "\n",
    "Os primeiros caracterizam-se por definir, em cada iteração, um intervalo que contém a raiz e construir, para a iteração seguinte, outro intervalo encaixado neste e que continue a conter a raiz. \n",
    "\n",
    "Os intervalos, como aparecem encaixados uns nos outros, tem amplitudes sucessivamente menores. Como exemplo de método de encaixe temos o método da **Bisseção**.\n",
    "\n",
    "No grupo dos métodos de intervalo aberto não é necessário definir um intervalo que contenha a raiz. O processo iterativo pode ser iniciado com uma única aproximação da raiz, ou mesmo duas. \n",
    "\n",
    "A convergência destes métodos depende dos valores iniciais atribuídos na primeira iteração. Deste grupo de métodos fazem parte o método do **Ponto Fixo**, o de **Newton-Raphson** e o da **Secante**.\n",
    "\n",
    "Em geral, o problema de calcular uma raiz pode ser dividido em duas fases: \n",
    "1. isolamento da raiz, isto é, encontrar um intervalo $[a,b]$ que contenha uma, e somente uma, raiz de $f(x)=0$;\n",
    "2. refinamento da raiz, ou seja, a partir de um valor inicial $x_0 \\in [a,b]$ gerar uma sequência que ${x_0,x_1,\\dots,x_k,\\dots}$ convirja para uma raiz exata $\\xi$ de $f(x)=0$.\n",
    "\n",
    "Existem alguns métodos para cálculo de raízes polinomiais que não requerem que haja um prévio isolamento de cada raiz."
   ]
  },
  {
   "cell_type": "code",
   "execution_count": 1,
   "metadata": {},
   "outputs": [],
   "source": [
    "% A função roots do Matlab é um exemplo de método que não requer isolamento das raízes."
   ]
  },
  {
   "cell_type": "code",
   "execution_count": 2,
   "metadata": {},
   "outputs": [
    {
     "data": {
      "text/plain": [
       "'roots' is a function from the file /usr/local/Cellar/octave/5.1.0_6/share/octave/5.1.0/m/polynomial/roots.m\r\n",
       "\r\n",
       " -- roots (C)\r\n",
       "\r\n",
       "     Compute the roots of the polynomial C.\r\n",
       "\r\n",
       "     For a vector C with N components, return the roots of the\r\n",
       "     polynomial\r\n",
       "\r\n",
       "          c(1) * x^(N-1) + ... + c(N-1) * x + c(N)\r\n",
       "\r\n",
       "     As an example, the following code finds the roots of the quadratic\r\n",
       "     polynomial\r\n",
       "\r\n",
       "          p(x) = x^2 - 5.\r\n",
       "\r\n",
       "          c = [1, 0, -5];\r\n",
       "          roots (c)\r\n",
       "          =>  2.2361\r\n",
       "          => -2.2361\r\n",
       "\r\n",
       "     Note that the true result is +/- sqrt(5) which is roughly +/-\r\n",
       "     2.2361.\r\n",
       "\r\n",
       "     See also: poly, compan, fzero.\r\n",
       "\r\n",
       "Additional help for built-in functions and operators is\r\n",
       "available in the online version of the manual.  Use the command\r\n",
       "'doc <topic>' to search the manual index.\r\n",
       "\r\n",
       "Help and information about Octave is also available on the WWW\r\n",
       "at https://www.octave.org and via the help@octave.org\r\n",
       "mailing list.\r\n"
      ]
     },
     "metadata": {},
     "output_type": "display_data"
    }
   ],
   "source": [
    "? roots"
   ]
  },
  {
   "cell_type": "code",
   "execution_count": 3,
   "metadata": {},
   "outputs": [
    {
     "name": "stdout",
     "output_type": "stream",
     "text": [
      "ans =\n",
      "\n",
      "  -2.2361\n",
      "   2.2361\n",
      "\n"
     ]
    }
   ],
   "source": [
    "c = [1, 0, -5];\n",
    "roots (c)"
   ]
  },
  {
   "cell_type": "code",
   "execution_count": 4,
   "metadata": {},
   "outputs": [
    {
     "data": {
      "image/png": "[encoded data removed]",
      "text/plain": [
       "<IPython.core.display.Image object>"
      ]
     },
     "metadata": {},
     "output_type": "display_data"
    }
   ],
   "source": [
    "cd = 0.25; g = 9.81; v = 36; t = 4;\n",
    "m = linspace(50,200);\n",
    "fm = sqrt(g*m/cd).*tanh(sqrt(g*cd./m)*t)-v;\n",
    "plot(m,fm), grid"
   ]
  },
  {
   "cell_type": "markdown",
   "metadata": {},
   "source": [
    "## Isolamento de raízes\n",
    "\n",
    "Nesta fase é feita uma análise teórica e gráfica da função $f(x)$. É importante ressaltar que o sucesso da fase de refinamento depende fortemente da precisão desta análise. Na análise teórica frenquentemente usaremos o **teorema de Bolzano**.\n",
    "\n",
    "### Teorema de Bolzano\n",
    "\n",
    "Seja $f(x)$ uma função contínua num intervalo $[a,b]$. Se $f(a) \\cdot f(b) < 0$ então existe pelo menos um ponto $x=\\alpha$ entre $a$ e $b$ que é raiz de $f(x)$.\n",
    "\n",
    "<img src=\"img/raizes_xi.png\" alt=\"\" title=\"\" />\n",
    "\n",
    "**Obs:** Sob as hipóteses do teorema anterior, se $f'(x)$ existir e preservar o sinal em $(a,b)$, então este intervalo contém uma única raiz de $f(x)$.\n",
    "\n",
    "<img src=\"img/derivadas_xi.png\" alt=\"\" title=\"\" />\n",
    "\n",
    "Uma forma de se isolar as raízes de $f(x)$ usando os resultados anteriores é tabelar $f(x)$ para vários valores de $x$ e analisar as mudanças de sinal de $f(x)$ e o sinal da derivada no intervalo em que $f(x)$ mudou de sinal.\n",
    "\n",
    "**Exemplo 1:** Dada a função $f(x) = x^3-9x+3$, isolar três intervalos contendo as raízes de $f(x)$.\n",
    "\n",
    "**Solução:**\n",
    "Basta construir uma tabela de valores para $f(x)$ e considerar as mudanças de sinais:\n",
    "\\begin{array}{c|cccccccccccc}\n",
    "\tx\t  & -\\infty & -100 & -10 & -5 & -3 & -1 & 0 & 1 & 2 & 3 & 4 & 5 \\\\ \\hline\n",
    "\tf(x)& - & - & - & - & + & + & + & - & - & + & + & +   \\\\ \n",
    "\\end{array} \n",
    "\n",
    "Sendo $f(x)$ contínua em todos os reais, podemos concluir que os intervalos são $I_1=[=5,-3]$, $I_2=[0,1]$ e $I_3=[2,3]$.\n",
    "\n",
    "**Exemplo 2:** Dada a função $f(x) = \\sqrt{x}-5e^{-x}$, isolar  os intervalos contendo as \n",
    "raízes de $f(x)$.\n",
    "\n",
    "**Solução:**\n",
    "Construindo a tabela:\n",
    "\\begin{array}{c|ccccc}\n",
    "    x\t  & 0 & 1 & 2 & 3 & \\cdots \\\\ \\hline\n",
    "    f(x)& - & - & + & + &     \\cdots \\\\ \n",
    "\\end{array} \n",
    "\n",
    "Ao avaliar $f'(x) = \\frac{1}{2\\sqrt{x}} + 5e^{-x}$, percebemos que $f'(x)>0$ para todo domínio, o que sugere que há uma única raiz no intervalo $I=[1,2]$.\n",
    "\n",
    "**Obs 2:** Se $f(a) \\cdot f(b) > 0$ nada é possível concluir sobre o intervalo de investigação das raízes.\n",
    "\n",
    "<img src=\"img/f_nao_conclusiva.png\" alt=\"\" title=\"\" />\n",
    "\n",
    "A análise gráfica da função $f(x)$ ou da equação $f(x)=0$ é fundamental para se obter boas aproximações para a raiz.\n",
    "\n",
    "Para tanto, é suficiente utilizar um dos seguintes processos:\n",
    "1. esboçar o gráfico da função $f(x)$ e localizar as abscissas dos pontos onde a curva intercepta o eixo $x$;\n",
    "2. a partir da função $f(x)=0$, obter a equação equivalente $g(x)=h(x)$, esboçar os gráficos das funções $g(x)$ e $h(x)$ no mesmo eixo cartesiano e localizar os pontos $x$ onde as duas curvas se interceptam, pois neste caso $f(\\alpha)=0 \\ g(\\alpha) = h(\\alpha)$;\n",
    "\n",
    "**Exemplo 3:** \n",
    "Dada a equação $x^3-9x+3=0$, podemos obter a equação equivalente $x^3=9x-3$.\n",
    "\n",
    "Nesse, caso temos $g(x)=x^3$ e $h(x)=9x-3$. Assim,\n",
    "\n",
    "<img src=\"img/f_x.png\" alt=\"\" title=\"\" />\n",
    "    \n",
    "**Exercício:** Trace os gráficos dessas funções no espaço reservado abaixo."
   ]
  },
  {
   "cell_type": "code",
   "execution_count": null,
   "metadata": {},
   "outputs": [],
   "source": []
  },
  {
   "cell_type": "markdown",
   "metadata": {},
   "source": [
    "#### Convergência da raiz\n",
    "\n",
    "Se uma raiz $\\alpha$ estiver isolada em um dado intervalo $[a,b]$, então a próxima etapa consiste em gerar uma sequência ${x_0,x_1,\\dots,x_k,\\dots,\\alpha} \\in [a,b]$ que convirja para esta raiz exata $\\alpha$ de $f(x)=0$.\n",
    "\n",
    "##### Critério de parada\n",
    "\n",
    "Antes de serem abordados os métodos iterativos que produzem tal sequência, é necessário definir um critério de parada. Existem duas interpretações para obter a raiz aproximada $x_k$:\n",
    "$$|x_{k}-x_{k-1}| < \\varepsilon$$\n",
    "$$|f(x_{k})| < \\varepsilon$$\n",
    "\n",
    "onde $\\varepsilon$ é a tolerância esperada. \n",
    "\n",
    "**Obs.**: vale ressaltar que essas conduzem a resultados não necessariamente iguais.\n",
    "\n",
    "## Método da bissecção\n",
    "\n",
    "Seja um função $f(x)$ contínua no intervalo $[a,b]$, sendo $\\alpha$ a única raiz de $f(x)=0$ neste intervalo. \n",
    "\n",
    "O método da bisseção consiste em subdividir o intervalo ao meio a cada iteração e manter o subintervalo que contenha a raiz, ou seja, aquele em que $f(x)$ tenha sinais opostos nos extremos. \n",
    "\n",
    "Desse modo, obtém-se uma sequência de intervalos encaixados $\\{[a_0,b_0],[a_1,b_1],[a_2,b_2],\\dots,[a_k,b_k]\\}$ nos quais\n",
    "\n",
    "$$f(a_i) \\cdot f(b_i) < 0, ~i=1,2,\\dots,k.$$\n",
    "\n",
    "**Exemplo 4:** Calcular a raiz aproximada da função, $f(x)=2x^3-\\cos{(x+1)}-3=0$ que pertence ao intervalo $[-1,2]$, utilizando para isso 5 iterações do método da bisseção.\n",
    "\n",
    "**Solução:**\n",
    "\n",
    "1ª Iteração:\n",
    "- $x_0  = \\dfrac{a_0+b_0}{2} = \\dfrac{-1+2}{2} = 0.5$\n",
    "- $f(a_0) = f(-1)=-6 < 0$\n",
    "- $f(b_0) = f(2) = 13.9899 > 0$\n",
    "- $f(x_0) = f(0.5) = -2.8207 <0$\n",
    "- $a_1 = x_0$\n",
    "- $b_1 = b_0$\n",
    "\n",
    "2ª Iteração:\n",
    "- $x_1  = \\dfrac{a_1+b_1}{2} = \\dfrac{0.5+2}{2} = 1.25$\n",
    "- $f(a_1) = f(0.5)=-2.82074 < 0$\n",
    "- $f(b_1) = f(2) = 13.9899 > 0$\n",
    "- $f(x_1) = f(1.25) = 1.5344 >0$\n",
    "- $a_2 = a_1$\n",
    "- $b_2 = x_1$\n",
    "\n",
    "3ª Iteração:\n",
    "- $x_2  = \\dfrac{a_2+b_2}{2} = \\dfrac{0.5+1.25}{2} = 0.875$\n",
    "- $f(a_2) = f(0.5)=-2.82074 < 0$\n",
    "- $f(b_2) = f(1.25) = 1.5344 > 0$\n",
    "- $f(x_2) = f(0.875) = -1.3606 <0$\n",
    "- $a_3 = x_2$\n",
    "- $b_3 = b_2$\n",
    " \n",
    "4ª Iteração:\n",
    "- $x_3  = \\dfrac{a_3+b_3}{2} = \\dfrac{0.875+1.25}{2} = 1.0625$\n",
    "- $f(a_3) = f(0.875)=-1.3606 < 0$\n",
    "- $f(b_3) = f(1.25) = 1.5344 > 0$\n",
    "- $f(x_3) = f(1.0625) = -0.12895<0$\n",
    "- $a_4 = x_3$\n",
    "- $b_4 = b_3$\n",
    "\n",
    "\\begin{array}{c|c|c|c|c|c|c}\n",
    "    i & a_i & b_i & x_i & f(a_i) & f(b_i) & f(x_i) \\\\\n",
    "    \\hline\n",
    "    0 & -1 & 2 & 0.5 & - & + & - \\\\\n",
    "    1 & 0.5 & 2 & 1.25 & - & + & + \\\\\n",
    "    2 & 0.5 & 1.25 & 0.875 & - & + &  - \\\\\n",
    "    3 & 0.875 & 1.25 & 1.0625 & - & + & - \\\\\n",
    "\\end{array}\n",
    "\n",
    "Por fim, a raiz aproximada é $x_4 = \\dfrac{a_4+b_4}{2}=1.15625$.\n",
    "\n",
    "### Estimativa do número de iterações\n",
    "\n",
    "O método da bisseção é um dos poucos métodos em que é possível calcular o número de iterações a priori. \n",
    "\n",
    "Estabelecidos o intervalo inicial $[a,b]$ e a tolerância $\\varepsilon$, o número de iterações $k$ é estimado da forma a seguir.\n",
    "\n",
    "- $a_0 = a$ e $b_0=b$\n",
    "- $b_1 - a_1 = \\dfrac{b_0 - a_0}{2}$\n",
    "- $b_2 - a_2 = \\dfrac{b_1 - a_1}{2} = \\dfrac{b_0 - a_0}{2^2}$\n",
    "- $\\vdots$\n",
    "- $b_k - a_k = = \\dfrac{b_{k-1} - a_{k-1}}{2} = \\cdots = \\dfrac{b_0 - a_0}{2^k} < \\varepsilon$\n",
    "\n",
    "e portanto\n",
    "\n",
    "$$k > \\log_2 \\Big(\\dfrac{b-a}{\\varepsilon}\\Big) $$\n",
    "\n",
    "**Exemplo 5:** Estimar quantas iterações seriam necessárias para calcular a raiz aproximada do exemplo anterior considerando agora uma tolerância de $10^{-7}$.\n",
    "\n",
    "**Solução:**\n",
    "\n",
    "$$k > \\log_2 \\Big(\\dfrac{b-a}{\\varepsilon}\\Big) = \\log_2 \\Big(\\dfrac{2-(-1)}{10^{-7}}\\Big) = \\log_2 3 - (-7 \\log_2 10) = \\dfrac{\\log 3}{\\log 2} + 7 \\dfrac{\\log 10}{\\log 2} = \\dfrac{\\log 3 + 7}{\\log 2} = 24.8385$$\n",
    "\n",
    "Resposta: O número $k$ de iterações é igual a 25.\n",
    "\n",
    "### Considerações sobre o método da bissecção\n",
    "\n",
    "Apesar de o método da bisseção ser robusto, ele não é eficiente devido à sua convergência lenta. \n",
    "\n",
    "Isso porque somente o sinal de $f(x_{k-1})$ é usado para o cálculo do próximo $x_k$, sem levar em consideração o seu valor. \n",
    "\n",
    "O método da bisseção é mais usado para reduzir o intervalo antes de usar um outro método de convergência mais rápida.\n",
    "\n",
    "### Algoritmo da bissecção\n",
    "\n",
    "1. Escolha as estimativas esquerda $a_k$ e direita $b_k$ para delimitar o intervalo de raízes de tal forma que a função mude o sinal no intervalo. Isto pode ser verificado garantindo que $f(a_k) \\cdot f(b_k) < 0$.\n",
    "2. A estimativa da raiz será dada por $x_k  = \\dfrac{a_k+b_k}{2}$\n",
    "3. Faça as seguintes avaliações para determinar em qual subintervalo a raiz está:\n",
    "    - Se $f(a_k) \\cdot f(x_k) < 0$, a raiz está no subintervalo inferior. Portanto, defina $b_k = x_k$ e retorne para o passo 2.\n",
    "    - Se $f(a_k) \\cdot f(x_k) > 0$, a raiz está no subintervalo superior. Portanto, defina $a_k = x_k$ e retorne para o passo 2.\n",
    "    - Se $f(a_k) \\cdot f(x_k) = 0$, a raiz é igual a $x_k$; termine o cálculo.\n",
    "\n",
    "**Exercício:** Compare com o código [bissec.m](src/bissec.m) em matlab e teste o mesmo com o exemplo anterior."
   ]
  },
  {
   "cell_type": "code",
   "execution_count": 5,
   "metadata": {},
   "outputs": [
    {
     "name": "stdout",
     "output_type": "stream",
     "text": [
      "raiz =  1.156250000000000\n",
      "fx =    6.441913278559754e-01\n",
      "ea =  8.108108108108109\n",
      "iter =  5\n"
     ]
    }
   ],
   "source": [
    "addpath('src/');\n",
    "f = @(x) 2*x^3-cos(x+1)-3;\n",
    "format long\n",
    "[raiz fx ea iter] = bissec(f,-1,2,0.00001,5)"
   ]
  },
  {
   "cell_type": "markdown",
   "metadata": {},
   "source": [
    "## Método do Ponto Fixo\n",
    "\n",
    "O método de ponto fixo pode ser definido, rearranjando a função $f(x) = 0$ de modo a que $x$ fique no lado esquerdo da equação: \n",
    "\n",
    "\\begin{equation}\n",
    "x = g(x)\n",
    "\\end{equation}\n",
    "\n",
    "Esta transformação pode ser realizada tanto por manipulação algébrica ou por simples adição de $x$ em ambos os lados da equação.\n",
    "\n",
    "Com essa equação é possível prever um novo valor de $x_{i+1}$ em função de um valor anterior de $x_i$. Assim, dada uma estimativa inicial da raiz $x_i$, a fórmula iterativa $x_{i+1} = g(x_i) $ pode ser utilizada para calcular uma nova estimativa para a raiz $x_{i+1}$.\n",
    "\n",
    "Tal como vimos anteriormente, o erro aproximado $\\varepsilon_a$ para esta equação pode ser determinada por:\n",
    "\n",
    "\\begin{equation}\n",
    "\t\\varepsilon_a = \\left|\\dfrac{x_{i+1} - x_i}{x_{i+1}}\\right| * 100\\%\n",
    "\\end{equation}\n",
    "\n",
    "**Exemplo 6:** Use o método de ponto fixo para encontrar a raíz da função $f(x) = e^{-x} - x$.\n",
    "\n",
    "**Solução:** A função pode ser expressa diretamente na forma da equação $x = g(x)$ como sendo $x_{i+1} = e^{-x_i} $. \n",
    "\n",
    "Começando com o valor inicial de $x_0=0$, a aplicação desse método iterativo encontra uma solução próxima da real $x=0.56714329$ em dez iterações, conforme demonstrado na tabela abaixo.\n",
    "\n",
    "\\begin{array}{c|c|c|c|c|c|c}\n",
    "    i & x_i & \\left|\\varepsilon_a\\right|(\\%) & \\left|\\varepsilon_v\\right|(\\%) & \\left|\\varepsilon_v\\right|_i / \\left|\\varepsilon_v\\right|_{i-1} \\\\\n",
    "    \\hline\n",
    "    0 & 0.0000 &  & 100.000 &   \\\\\n",
    "    1 & 1.0000 & 100.000 & 76.322 & 0.763  \\\\\n",
    "    2 & 0.3679 & 171.828 & 35.135 & 0.460  \\\\\n",
    "    3 & 0.6922 & 46.854 & 22.050 & 0.628  \\\\\n",
    "    4 & 0.5005 & 38.309 & 11.755 & 0.533  \\\\\n",
    "    5 & 0.6062 & 17.447 & 6.894 & 0.586  \\\\\n",
    "    6 & 0.5454 & 11.157 & 3.835 & 0.556  \\\\\n",
    "    7 & 0.5796 & 5.903 & 2.199 & 0.573  \\\\\n",
    "    8 & 0.5601 & 3.481 & 1.239 & 0.564  \\\\\n",
    "    9 & 0.5711 & 1.931 & 0.705 & 0.569  \\\\\n",
    "    10 & 0.5649 & 1.109 & 0.399 & 0.566  \\\\\n",
    "\\end{array}\n",
    "\n",
    "### Considerações sobre o método de Ponto Fixo\n",
    "\n",
    "Observe que o erro relativo verdadeiro em percentual para cada iteração do exemplo em relação ao erro da iteração anterior é aproximadamente proporcional a um fator entre 0,5 e 0,6. Esta propriedade é chamada de convergência linear, sendo característica do método de ponto fixo.\n",
    "\n",
    "A convergência do método de ponto fixo somente é garantida quando a derivada de $g(x)$ perto da raiz tiver magnitude menor que 1. Ou seja, $\\left|g'(x)\\right| < 1$.\n",
    "\n",
    "## Método de Newton-Raphson\n",
    "\n",
    "O método de Newton-Raphson é obtido geometricamente da seguinte forma:\n",
    "\n",
    "Dado o ponto $(x_k,f(x_k))$ traçamos a reta $L_k(x)$ tangente à curva neste ponto:\n",
    "\n",
    "$$L_k(x) = f(x_k) + f'(x_k)(x-x_k)$$\n",
    "\n",
    "$L_k(x)$ é um modelo linear que aproxima a função $f(x)$ numa vizinhança de $x_k$.\n",
    "\n",
    "Encontrando o zero de $L_k(x)$, obtemos:\n",
    "\n",
    "$$L_k(x)=0 \\Leftrightarrow x = x_k - \\frac{f(x_k)}{f'(x_k)}$$\n",
    "\n",
    "Fazemos então $x_{k+1} = x$, o método de Newton-Raphson é dado por:\n",
    "\n",
    "$$x_{k+1} = x_k - \\dfrac{f(x_k)}{f'(x_k)} $$\n",
    "\n",
    "Observe a motivação geométrica na figura a seguir.\n",
    "\n",
    "<img src=\"img/newton_raphson.png\" alt=\"\" title=\"\" />\n",
    "\n",
    "**Exemplo 7:** \n",
    "Dada $f(x)=x^2+x-6$ e $x_0=1.5$, aplique o método de Newton-Raphson e verifique que a sequência $x_k$ converge para $\\alpha=2$.\n",
    "\n",
    "**Solução:**\n",
    "\n",
    "Explicitando a função de iteração:\n",
    "$$f(x)=x^2+x-6$$\n",
    "$$f'(x)=2x-+1$$\n",
    "$$x_{k+1} = x_k - \\dfrac{x_k^2 + x_k-6}{2x_k+1}$$\n",
    "\n",
    "Temos, pois,\n",
    "\n",
    "$$x_0=1.5$$\n",
    "$$x_1=x_0 - \\frac{f(x_0)}{f'(x_0)} = 2.0625$$\n",
    "$$x_2=x_1 - \\frac{f(x_1)}{f'(x_1)} = 2.00076$$ \n",
    "$$x_3=x_2 - \\frac{f(x_2)}{f'(x_2)} = 2.00000$$\n",
    "\n",
    "**Obs:** Verifique o que ocorre quando escolhemos $x_0=-4$.\n",
    "\n",
    "### Considerações sobre o método de Newton-Raphson\n",
    "\n",
    "A escolha do ponto $x_0$ é algo muito importante no método de Newton-Raphson. O teorema a seguir é extremamente útil nesse aspecto.\n",
    "\n",
    "**Teorema:** Se $f(a)\\cdot f(b) < 0$, e $f'(x)$ e $f''(x)$ forem não nulas e preservarem o o sinal em $[a,b]$, então partindo-se da aproximação inicial $x_0 \\in [a,b]$ tal que $f(x_0)\\cdot f''(x_0)>0$ é possível construir, pelo método de Newton-Raphson uma sequência $\\{x_i\\}$ que convirja para a raiz $\\alpha$ de $f(x)=0$.\n",
    "\n",
    "O método de Newton-Raphson tem ordem de convergência quadrática, isso significa que, a cada iteração, a quantidade de dígitos corretos da estimativa da raiz praticamente dobra.\n",
    "\n",
    "## Método da Secante\n",
    "\n",
    "Um problema potencial na implementação do método de Newton-Raphson, é a avaliação da derivada - há certas funções cujas derivadas podem ser difíceis ou inconvenientes para calcular. Para estes casos, a derivada pode ser aproximada por uma diferença finita regressiva:\n",
    "\n",
    "\\begin{equation}\n",
    "f'(x_i) \\approxeq \\dfrac{f(x_{i-1}) - f(x_i)}{x_{i-1} -x_i}\n",
    "\\end{equation}\n",
    "\n",
    "Substituindo esta aproximação pela equação do método de Newton-Raphson temos:\n",
    "\n",
    "\\begin{equation}\n",
    "x_{i+1} = x_i - \\dfrac{f(x_i)(x_{i-1} - x_i)}{f(x_{i-1}) -f(x_i)}\n",
    "\\end{equation}\n",
    "\n",
    "### Considerações sobre o método da Secante\n",
    "\n",
    "Note que este método requer duas estimativas iniciais de $x$, mas não exige nenhuma expressão analítica da derivada."
   ]
  },
  {
   "cell_type": "code",
   "execution_count": 6,
   "metadata": {},
   "outputs": [
    {
     "name": "stdout",
     "output_type": "stream",
     "text": [
      "warning: Matlab-style short-circuit operation performed for operator |\n",
      "warning: called from\n",
      "    newtraph at line 27 column 5\n",
      "raiz = -3.000000000000000\n",
      "ea =    5.906386491005832e-11\n",
      "iter =  5\n"
     ]
    }
   ],
   "source": [
    "addpath('src/');\n",
    "f = @(x) x^2+x-6;\n",
    "df= @(x) 2*x+1;\n",
    "[raiz ea iter] = newtraph(f,df,-4.0,0.00001,50)"
   ]
  },
  {
   "cell_type": "code",
   "execution_count": 7,
   "metadata": {},
   "outputs": [
    {
     "name": "stdout",
     "output_type": "stream",
     "text": [
      "ans = -2.250000000000000\n"
     ]
    }
   ],
   "source": [
    "f(1.5)"
   ]
  },
  {
   "cell_type": "code",
   "execution_count": 8,
   "metadata": {},
   "outputs": [
    {
     "data": {
      "image/png": "[encoded data removed]",
      "text/plain": [
       "<IPython.core.display.Image object>"
      ]
     },
     "metadata": {},
     "output_type": "display_data"
    }
   ],
   "source": [
    "rho = 1.23;\n",
    "mu = 1.79e-5;\n",
    "D = 0.005;\n",
    "V = 40;\n",
    "e = 0.0015/1000;\n",
    "\n",
    "Re = rho*V*D/mu;\n",
    "\n",
    "g = @(f) 1./sqrt(f) + 2.*log10(e./(3.7.*D) + 2.51./(Re.*sqrt(f)));\n",
    "f = linspace(0.008,0.08);\n",
    "g_f = g(f);\n",
    "plot(f, g_f), grid"
   ]
  },
  {
   "cell_type": "code",
   "execution_count": 9,
   "metadata": {},
   "outputs": [
    {
     "name": "stdout",
     "output_type": "stream",
     "text": [
      "warning: Matlab-style short-circuit operation performed for operator |\n",
      "warning: called from\n",
      "    newtraph at line 18 column 1\n",
      "warning: Matlab-style short-circuit operation performed for operator |\n",
      "warning: called from\n",
      "    newtraph at line 19 column 1\n",
      "warning: Matlab-style short-circuit operation performed for operator |\n",
      "warning: called from\n",
      "    newtraph at line 27 column 5\n",
      "f =    2.896781017144046e-02\n",
      "ea =    6.870124166104233e-06\n",
      "iter =  6\n"
     ]
    }
   ],
   "source": [
    "addpath('src/');\n",
    "dg = @(f) -2/log(10)*1.255/Re*f^(-3/2)/(e/D/3.7+2.51/Re/sqrt(f))-0.5/f^(3/2);\n",
    "[f ea iter] = newtraph(g, dg, 0.008)"
   ]
  },
  {
   "cell_type": "code",
   "execution_count": 10,
   "metadata": {},
   "outputs": [
    {
     "name": "stdout",
     "output_type": "stream",
     "text": [
      "warning: division by zero\n",
      "warning: called from\n",
      "    @<anonymous> at line 1 column 21\n",
      "    fzero at line 181 column 10\n",
      "warning: division by zero\n",
      "warning: called from\n",
      "    @<anonymous> at line 1 column 21\n",
      "    fzero at line 181 column 10\n",
      "ans =    2.896781017144057e-02\n"
     ]
    }
   ],
   "source": [
    "fzero(g, 0.008)"
   ]
  },
  {
   "cell_type": "code",
   "execution_count": 11,
   "metadata": {},
   "outputs": [
    {
     "name": "stdout",
     "output_type": "stream",
     "text": [
      "warning: Matlab-style short-circuit operation performed for operator |\n",
      "warning: called from\n",
      "    bissec at line 20 column 1\n",
      "warning: Matlab-style short-circuit operation performed for operator |\n",
      "warning: called from\n",
      "    bissec at line 21 column 1\n",
      "warning: Matlab-style short-circuit operation performed for operator |\n",
      "warning: called from\n",
      "    bissec at line 37 column 5\n",
      "raiz =    2.896780204772949e-02\n",
      "fx =    9.370927003260476e-07\n",
      "ea =    5.925937241305384e-05\n",
      "iter =  22\n"
     ]
    }
   ],
   "source": [
    "[raiz fx ea iter] = bissec(g,0.008, 0.08)"
   ]
  },
  {
   "cell_type": "code",
   "execution_count": null,
   "metadata": {},
   "outputs": [],
   "source": []
  }
 ],
 "metadata": {
  "kernelspec": {
   "display_name": "Octave",
   "language": "octave",
   "name": "octave"
  },
  "language_info": {
   "file_extension": ".m",
   "help_links": [
    {
     "text": "GNU Octave",
     "url": "https://www.gnu.org/software/octave/support.html"
    },
    {
     "text": "Octave Kernel",
     "url": "https://github.com/Calysto/octave_kernel"
    },
    {
     "text": "MetaKernel Magics",
     "url": "https://metakernel.readthedocs.io/en/latest/source/README.html"
    }
   ],
   "mimetype": "text/x-octave",
   "name": "octave",
   "version": "5.1.0"
  }
 },
 "nbformat": 4,
 "nbformat_minor": 4
}

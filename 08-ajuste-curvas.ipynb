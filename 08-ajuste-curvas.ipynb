{
 "cells": [
  {
   "cell_type": "markdown",
   "metadata": {},
   "source": [
    "# Ajuste de Curvas\n",
    "<div class=\"alert alert-block alert-success\">\n",
    "    <b>Notas de aula baseadas no livro: </b> \n",
    "    <p>Algoritmos Numéricos, do autor Frederico Campos\n",
    "</div>\n",
    "\n",
    "## Relações entre variáveis\n",
    "As relações entre as variáveis envolvidas em um experimento podem ser classificadas em três tipos: determinísticas, semideterminísticas e empíricas.\n",
    "\n",
    "- **Relações determinísticas:** quando as variáveis estão frequentemente relacionadas entre si por algum tipo de lei que pode ser expressa por uma fórmula matemática precisa e qualquer análise adicional faz-se desnecessária para relacionar estas variáveis. \n",
    "Como exemplo, a expressão da Matemática Financeira:\n",
    "$$v=r(1+j)^m$$\n",
    "denota  que um valor presente de $r$ reais investido a uma taxa $j$ ao longo de um tempo $m$ representa um valor futuro de $v$ reais.\n",
    "\n",
    "- **Relações semideterminísticas:** quando alguma teoria prescreve a relação entre as variáveis mas ainda não se conhece valores particulares dos parâmetros aparecem na relação. Por exemplo, a concentração $c$ de uma substância após um tempo $t$ em uma reação \n",
    "química de primeira ordem é\n",
    "$$c=c_0 e^{-kt},$$\n",
    "onde $c_0$ é a concentração inicial da substância e $k$ é a constante de velocidade de uma reação específica. \n",
    "\n",
    "- **Relações empíricas:** quando não se conhece uma relação entre as variáveis envolvidas e deseja-se apresentar uma fórmula matemática que modele essa relação. Somente após ter suficiente conhecimento da relação empírica que uma relação semideterminísticas\n",
    "pode ser apresentada. Existe uma área da Estatística denominada **análise de regressão** que trabalham dentre dessa perspectiva.\n",
    "\n",
    "\n",
    "O que se busca é relacionar, por meio de um modelo matemático, a **variável resposta** (ou dependente) com o conjunto de **variáveis explicativas** (ou independentes) para ter controle, determinar algum parâmetro ou mesmo fazer previsão acerca do comportamento da variável resposta."
   ]
  },
  {
   "cell_type": "markdown",
   "metadata": {},
   "source": [
    "##  Regressão linear simples\n",
    "Começaremos pela relação mais simples entre duas variáveis, no caso a relação linear, também conhecida como regressão linear.\n",
    "Dada a tabela a seguir suponha que exista uma relação linear entre as variáveis $x$ e $y$. A regressão linear consiste em determinar\n",
    "os parâmetros $a$ e $b$ na relação $y=a +bx$.\n",
    "\n",
    "\\begin{array}{|c|c|c|c|c|c|}\n",
    "\t\\hline x & 0.3 & 2.7 & 4.5 & 5.9 & 7.8\\\\ \n",
    "\t\\hline y & 1.8 & 1.9 & 3.1 & 3.9 & 3.3\\\\ \n",
    "\t\\hline \n",
    "\\end{array} \n",
    "\n",
    "\n",
    "Utilizando um gráfico de dispersão percebemos que os valores não estão contidos em um reta.\n",
    "<img src=\"img/dispersao1.png\" width=\"100%\" height=\"100%\">\n",
    "\n",
    "Inicialmente poderíamos pensar em traçar um polinômio interpolador que passa pelos pontos (0.3,1.8) e (7.8,3.3). Sendo assim, teríamos $p(x)=1.74+0.2x$.\n",
    "\n",
    "**Exercício:** Plot uma reta entre os pontos (0.3,1.8) e (7.8,3.3). "
   ]
  },
  {
   "cell_type": "code",
   "execution_count": 1,
   "metadata": {},
   "outputs": [
    {
     "name": "stdout",
     "output_type": "stream",
     "text": [
      "p =\n",
      "\n",
      "@(x) 1.74 + 0.2 * x\n",
      "\n"
     ]
    },
    {
     "data": {
      "image/png": "[encoded data removed]",
      "text/plain": [
       "<IPython.core.display.Image object>"
      ]
     },
     "metadata": {},
     "output_type": "display_data"
    }
   ],
   "source": [
    "x = [0.3 2.7 4.5 5.9 7.8];\n",
    "y = [1.8 1.9 3.1 3.9 3.3];\n",
    "scatter(x, y, 'r');\n",
    "hold on\n",
    "plot([x(1) x(5)], [y(1) y(5)])\n",
    "p = @(x) 1.74 + 0.2*x\n",
    "plot(linspace(0,8), p(linspace(0,8)))"
   ]
  },
  {
   "cell_type": "markdown",
   "metadata": {},
   "source": [
    "Dessa forma, existe um erro ao aproximar a relação entre $x$ e $y$ por uma reta,\n",
    "ou seja, $$y=a+bx + \\varepsilon$$\n",
    "onde $a$ e $b$ são os parâmetros de ajuste e $\\varepsilon$ é o erro cometido\n",
    "ao considerar a relação linear entre $x$ e $y$. \n",
    "\n",
    "Um modo de verificar a qualidade do ajuste seria calcular a soma de todas as distâncias verticais $d_i$ dos pontos tabelados $y_i$ ao correspondente valor apontado\n",
    "pelo polinômio interpolador, no caso, $p_i = p(x_i)$. Denotemos por $D(1.74,0.2)$ \n",
    "essa soma.\n",
    "$$D(1.74,0.2) = \\sum^5_{i=1}(y_i-(1.74+0.2x_i))^2=1.3164.$$\n",
    "\n",
    "Contudo, ao escolher um segundo polinômio que nem mesmo passa sobre os pontos tabelados, e que passa por, digamos, (2,2) e (6,3). Isso nos conduziria ao polinômio $q(x) = 1.5 + 0.25x$. \n",
    "\n",
    "**Exercício:** Plot uma reta entre os pontos (2,2) e (6,3). "
   ]
  },
  {
   "cell_type": "code",
   "execution_count": 3,
   "metadata": {},
   "outputs": [
    {
     "name": "stdout",
     "output_type": "stream",
     "text": [
      "q =\n",
      "\n",
      "@(x) 1.5 + 0.25 * x\n",
      "\n",
      "soma = 0\n",
      "soma =  1.2300\n"
     ]
    },
    {
     "data": {
      "image/png": "[encoded data removed]",
      "text/plain": [
       "<IPython.core.display.Image object>"
      ]
     },
     "metadata": {},
     "output_type": "display_data"
    }
   ],
   "source": [
    "q = @(x) 1.5 + 0.25*x\n",
    "soma = 0\n",
    "for i=1:5\n",
    "    soma = soma + (y(i) - q(x(i)))^2;\n",
    "end\n",
    "soma\n",
    "\n",
    "scatter(x, y, 'r');\n",
    "hold on\n",
    "plot(x, p(x), 'g')\n",
    "plot(x, q(x), 'b')"
   ]
  },
  {
   "cell_type": "markdown",
   "metadata": {},
   "source": [
    "Mais uma vez, ao analisarmos $D(1.5,0.25)$, notamos que $D(1.5,0.25) = 1.23 < D(1.74,0.2)=1.3164$ o que qualifica $q(x)$ como um melhor ajuste. \n",
    "\n",
    "Então, como proceder para obter a melhor regressão linear?"
   ]
  },
  {
   "cell_type": "markdown",
   "metadata": {},
   "source": [
    "## Método dos quadrados mínimos\n",
    "O método dos quadrados mínimos consiste em encontrar um estimativa da reta $y=a+bx$ de modo a produzir o menor valor possível do desvio \n",
    "$$D(a,b)=\\sum_{i=1}^m(y_i-u_i)^2 = \\sum_{i=1}^m(y_i-a-bx_i)^2,$$\n",
    "cujas derivadas parciais são\n",
    "\n",
    "$$\\frac{\\partial D(a,b)}{\\partial(a)} = -2 \\sum_{i=1}^m(y_i-a-bx_i) $$ e\n",
    "$$\\frac{\\partial D(a,b)}{\\partial(b)} = -2 \\sum_{i=1}^m(y_i-a-bx_i)x_i.$$\n",
    "Os valores para os quais a função $D(a,b)$ possui um mínimo são aqueles onde as derivadas parciais se anulam,\n",
    "$$-2 \\sum_{i=1}^m(y_i-a-bx_i) = 0 \\implies \\sum_{i=1}^m a + \\sum_{i=1}^m b x_i = \\sum_{i=1}^m yi$$ e\n",
    "$$-2 \\sum_{i=1}^m(y_i-a-bx_i)x_i = 0 \\implies \\sum_{i=1}^m a x_i+ \\sum_{i=1}^m b x^2_i = \\sum_{i=1}^m x_i yi$$\n",
    "ou na forma matricial,\n",
    "\n",
    "\\begin{equation*}\n",
    "\\left[\n",
    "\\begin{matrix}\n",
    "m & \\sum x_i \\\\\n",
    "\\sum x_i & \\sum x^2_i\\\\\n",
    "\\end{matrix}\n",
    "\\right]\n",
    "\\left[\n",
    "\\begin{array}{c}\n",
    "a\\\\\n",
    "b\\\\\n",
    "\\end{array}\n",
    "\\right]\n",
    "=\n",
    "\\left[\n",
    "\\begin{array}{c}\n",
    "\\sum y_i\\\\\n",
    "\\sum x_i y_i\\\\\n",
    "\\end{array}\n",
    "\\right]\n",
    "\\end{equation*}\n",
    "\n",
    "Portanto, os valores em que $D(a,b)$ apresenta um mínimo são obtidos pela solução do sistema linear apresentado."
   ]
  },
  {
   "cell_type": "markdown",
   "metadata": {},
   "source": [
    "**Exemplo:** Utilizando o método dos quadrados mínimos apresentar a regressão linear dos dados tabelados inicialmente.\n",
    "\n",
    "**Solução:**\n",
    "\n",
    "\\begin{array}{|c|c|c|c|c|c|}\n",
    "\t\\hline i & x_i & y_i & x^2_i & x_iy_i & y^2_i\\\\ \n",
    "\t\\hline\n",
    "\t\\hline 1 & 0.3 & 1.8 & 0.09 & 0.54 & 3.24\\\\ \n",
    "\t\\hline 2 & 2.7 & 1.9 & 7.29 & 6.13 & 3.61\\\\\n",
    "\t\\hline 3 & 4.5 & 3.1 & 20.25 & 13.95 & 9.61\\\\\n",
    "\t\\hline 4 & 5.9 & 3.9 & 34.81 & 23.01 & 15.21\\\\\n",
    "\t\\hline 5 & 7.8 & 3.3 & 60.84 & 25.74 & 42.56\\\\\n",
    "\t\\hline\n",
    "\t\\hline \\sum & 21.2 & 14.0 & 123.28 & 68.37 & 74.23\\\\\n",
    "\t\\hline\n",
    "\\end{array} \n",
    "\n",
    "\n",
    "Dessa forma,\n",
    "\\begin{equation*}\n",
    "\\left[\n",
    "\\begin{matrix}\n",
    "5 & 21.2 \\\\\n",
    "21.2 & 123.28\\\\\n",
    "\\end{matrix}\n",
    "\\right]\n",
    "\\left[\n",
    "\\begin{array}{c}\n",
    "a\\\\\n",
    "b\\\\\n",
    "\\end{array}\n",
    "\\right]\n",
    "=\n",
    "\\left[\n",
    "\\begin{array}{c}\n",
    "14.0\\\\\n",
    "68.37\\\\\n",
    "\\end{array}\n",
    "\\right]\n",
    "\\implies\n",
    "a=1.6560 ~\\mathsf{e}~ b=0.2698.\n",
    "\\end{equation*}\n",
    "\n",
    "E o erro cometido $D(1.6560,0.2698)$?\n",
    "\n",
    "\n",
    "\\begin{array}{|c|c|c|c|c|}\n",
    "    \\hline i & x_i & y_i & u_i & d_i\\\\ \n",
    "    \\hline\n",
    "    \\hline 1 & 0.3 & 1.8 & 1.7369 & 0.0631\\\\ \n",
    "    \\hline 2 & 2.7 & 1.9 & 2.3845 & -0.4845\\\\\n",
    "    \\hline 3 & 4.5 & 3.1 & 2.8701 & 0.2299\\\\\n",
    "    \\hline 4 & 5.9 & 3.9 & 3.2478 & 0.6522\\\\\n",
    "    \\hline 5 & 7.8 & 3.3 & 3.7604 & -0.4604\\\\\n",
    "    \\hline\n",
    "\\end{array} \n",
    "\n",
    "$$D(1.6560,0.2698)=0.9289$$\n",
    "\n",
    "## Algoritmo\n",
    "\n",
    "Utilizando operações l-elementares temos a seguinte representação matricial fatorada:\n",
    "\n",
    "\\begin{equation*}\n",
    "\\left[\n",
    "\\begin{matrix}\n",
    "m & \\sum x_i \\\\\n",
    "0 & \\frac{-1}{m}(\\sum x_i)^2 + \\sum x^2_i\\\\\n",
    "\\end{matrix}\n",
    "\\right]\n",
    "\\left[\n",
    "\\begin{array}{c}\n",
    "a\\\\\n",
    "b\\\\\n",
    "\\end{array}\n",
    "\\right]\n",
    "=\n",
    "\\left[\n",
    "\\begin{array}{c}\n",
    "\\sum y_i\\\\\n",
    "\\frac{-1}{m} \\sum x_i \\sum y_i + \\sum x_i y_i\\\\\n",
    "\\end{array}\n",
    "\\right]\n",
    "\\end{equation*}\n",
    "\n",
    "$$b = \\frac{\\sum x_i \\sum y_i - m \\sum x_i y_i}{(\\sum x_i)^2 - m \\sum x^2_i}$$\n",
    "e\n",
    "$$a = \\frac{\\sum y_i - b \\sum x_i}{m}$$"
   ]
  },
  {
   "cell_type": "code",
   "execution_count": 1,
   "metadata": {},
   "outputs": [
    {
     "name": "stdout",
     "output_type": "stream",
     "text": [
      "i\t\txi\t\tyi\t\txi^2\t\txiyi\t\tyi^2\n",
      "1\t0.300000\t1.800000\t0.090000\t0.540000\t3.240000\n",
      "2\t2.700000\t1.900000\t7.290000\t5.130000\t3.610000\n",
      "3\t4.500000\t3.100000\t20.250000\t13.950000\t9.610000\n",
      "4\t5.900000\t3.900000\t34.810000\t23.010000\t15.210000\n",
      "5\t7.800000\t3.300000\t60.840000\t25.740000\t10.890000\n",
      "a = 1.655942\n",
      "b = 0.269825\n",
      "b = 0.269825\n"
     ]
    },
    {
     "data": {
      "image/png": "[encoded data removed]",
      "text/plain": [
       "<IPython.core.display.Image object>"
      ]
     },
     "metadata": {},
     "output_type": "display_data"
    }
   ],
   "source": [
    "%Dados tabelados armazenados como vetor linha\n",
    "xi = [0.3 2.7 4.5 5.9 7.8];\n",
    "yi = [1.8 1.9 3.1 3.9 3.3];\n",
    "\n",
    "%Numero de amostras\n",
    "m = numel(xi);\n",
    "\n",
    "%Inicializa??o dos somatórios da regressão\n",
    "soma_xi = 0;\n",
    "soma_yi = 0;\n",
    "soma_xiyi = 0;\n",
    "soma_xi2 = 0;\n",
    "\n",
    "%Imprime o cabeçalho da tabela de regressão\n",
    "fprintf('i\\t\\txi\\t\\tyi\\t\\txi^2\\t\\txiyi\\t\\tyi^2\\n');\n",
    "for i = 1 : m\n",
    "    xi2 = xi(i)^2;\n",
    "    xiyi = xi(i) * yi(i);\n",
    "    yi2 = yi(i)^2;\n",
    "    soma_xi = soma_xi + xi(i);\n",
    "    soma_yi = soma_yi + yi(i);\n",
    "    soma_xiyi = soma_xiyi + xiyi;\n",
    "    soma_xi2 = soma_xi2 + xi2;\n",
    "    %imprime os valores intermediários da regressão\n",
    "    fprintf('%d\\t%f\\t%f\\t%f\\t%f\\t%f\\n', i, xi(i), yi(i), xi2, xiyi, yi2);\n",
    "end\n",
    "\n",
    "%calcula os coeficientes da reta de regressão linear dada pelo metodo dos\n",
    "%minimos quadrados\n",
    "b = (soma_xi * soma_yi - m * soma_xiyi) / (soma_xi^2 - m * soma_xi2);\n",
    "a = (soma_yi - b * soma_xi) / m;\n",
    "fprintf('a = %f\\nb = %f', a, b);\n",
    "\n",
    "hold on;\n",
    "\n",
    "%Intervalo de projeção dos gráficos\n",
    "x = 0:0.02:8;\n",
    "\n",
    "%Desenha o grafico de dispersão das amostras coletadas\n",
    "scatter(xi, yi);\n",
    "\n",
    "%Desenha o grafico da reta que liga os pontos extremos da tabela\n",
    "y = 1.74 + 0.2*x;\n",
    "plot(x, y, 'b');\n",
    "\n",
    "%Desenha o grafico da reta intermediaria\n",
    "y = 1.5 + 0.25*x;\n",
    "plot(x, y, 'r');\n",
    "\n",
    "%Desenha o grafico da reta dada pelos coeficientes a e b da regress?o linear\n",
    "y = a + b*x;\n",
    "plot(x, y, 'g');\n",
    "\n",
    "title('Grafico de Dispersao');\n",
    "xlabel('variavel explicativa x');\n",
    "ylabel('variavel resposta y');\n",
    "hold off;"
   ]
  },
  {
   "cell_type": "markdown",
   "metadata": {},
   "source": [
    "## Qualidade do ajuste\n",
    "\n",
    "Nessa seção, serão apresentados dois parâmetros para aferir a qualidade do ajuste\n",
    "obtido pela regressão linear: o coeficiente de determinação $r^2$ e a variância residual $\\sigma^2$.\n",
    "\n",
    "### Coeficiente de determinação\n",
    "\n",
    "O coeficiente de determinação será calculado da forma seguinte:\n",
    "\n",
    "$$r^2=\\frac{SQReg}{SQTot} = \\frac{SQTot - SQRes}{SQTot}=1-\\frac{SQRes}{SQTot}$$\n",
    "sendo\n",
    "\n",
    "$\\displaystyle\\sum_i^m (y_i-\\bar{y})^2= SQTot$ (Soma de quadrados totais)\n",
    "\n",
    "$\\displaystyle\\sum_i^m (y_i-u_i)^2= SQRes$ (Soma de quadrados residual)\n",
    "\n",
    "$\\displaystyle\\sum_i^m (u_i-\\bar{y})^2= SQReg$ (Soma de quadrados devido à regressão)\n",
    "\n",
    "Note que $0\\leq r^2 \\leq 1$ e que quanto mais próximo o valor de $r^2$ estiver da unidade, melhor será o ajuste. O coeficiente de determinação $r^2$ pode ser visto como a proporção da variação total dos dados em torno da média $\\bar{y}$ que é explicada pelo modelo de regressão.\n",
    "\n",
    "Outro ponto de destaque é que $D(a,b)=SQRes=\\displaystyle\\sum_i^m(y_i-u_i)^2$ e por uma manipulação algébrica é possível provar que\n",
    "$SQTot=\\displaystyle\\sum_i^m (y_i-\\bar{y})^2=\\displaystyle\\sum_i^m y^2_i - \\frac{1}{m}\\big(\\displaystyle\\sum_i^m y_i\\big)^2$. \n",
    "\n",
    "Sendo assim, o coeficiente de determinação pode ser reescrito como\n",
    "\n",
    "$$r^2 = 1 - \\dfrac{D(a,b)}{\\sum y^2_i - \\frac{1}{m}\\big(\\sum y_i\\big)^2}$$\n",
    "\n",
    "### Variância residual\n",
    "Um outro parâmetro importante para aferir a qualidade do ajuste é a variância residual $\\sigma^2$ definida por $$\\sigma^2 = \\dfrac{D(a,b)}{m - 2}$$\n",
    "\n",
    "onde $D(a,b)=SQRes$, $m$ é a quantidade de pontos tabelados e o número de parâmetros estimados é 2.\n",
    "\n",
    "**Obs:** Tanto o numerador quanto o denominador de $\\sigma^2$ irão diminuir se forem introduzidos mais parâmetros no modelo. Entretanto, se o valor $\\sigma^2$ diminuir significa que mais parâmetros deverão ser incorporados ao modelo.\n",
    "\n",
    "**Exemplo:** Calcular o coeficiente de determinação $r^2$ e variância residual da regressão linear apresentada anteriormente.\n",
    "\n",
    "**Solução:** \n",
    "$$r^2 = 1 - \\frac{D(a,b)}{\\sum y^2_i - \\frac{1}{m}\\big(\\sum y_i\\big)^2}=\n",
    "1 - \\frac{0.9289}{42.56 - (14,5)^2/5}=0.7235$$\n",
    "e\n",
    "$$\\sigma^2 =  \\frac{D(a,b)}{m-2} = \\frac{0.9289}{5-2} = 0.3096.$$\n",
    "\n",
    "**Exercícios:** \n",
    "\n",
    "- Exercicio 1: Implementar funções para as equações dos coeficientes de determinação $r^2$ e a variância $sigma^2$\n",
    "\n",
    "- Exercicio 2: Calcular $r^2$ e $sigma^2$ para a regressão acima usando as funções implementadas"
   ]
  },
  {
   "cell_type": "code",
   "execution_count": null,
   "metadata": {},
   "outputs": [],
   "source": []
  },
  {
   "cell_type": "markdown",
   "metadata": {},
   "source": [
    "## Regressão linear múltipla\n",
    "Um modelo mais completo que relaciona a variável resposta $y$ com as $p$ variáveis explicativas $x_i$ é\n",
    "$$y = a_0 + a_1 x_1 + \\cdots + a_p x_p + \\varepsilon,$$\n",
    "onde $a_i$, $i=0,1,2,\\dots,p$, são os parâmetros a serem estimados e $\\varepsilon$ é uma variável aleatória desconhecida que interfere na verdadeira relação linear.\n",
    "\n",
    "De modo similar à regressão linear simples, o método dos quadrados mínimos pode ser utilizado para estimar os $p+1$ parâmetros $a_i$. Analogamente, é possível descrever um sistema linear associado aos parâmetros $a_i$. \n",
    "\n",
    "O coeficiente de determinação $r^2$ e variância residual $\\sigma^2$ são vistos no modelo de regressão linear múltipla como\n",
    "\n",
    "$$r^2 = 1 - \\dfrac{D(a_0,a_1, \\cdots, a_p)}{\\sum y^2_i - \\frac{1}{m}\\big(\\sum y_i\\big)^2}$$\n",
    "\n",
    "e\n",
    "\n",
    "$$\\sigma^2 = \\dfrac{D(a_0,a_1,\\cdots, a_p)}{m - p - 1}$$\n",
    "\n",
    "\n",
    "### Regressão polinomial\n",
    "Um caso particular e importante da regressão linear múltipla é quando se relaciona a variável reposta com uma variável explicativa $x$, segundo o modelo\n",
    "$$y = a_0 + a_1 x + a_2 x^2 \\cdots + a_n x^n + \\varepsilon,$$\n",
    "denominado regressão polinomial. Em particular, o sistema gerado pelo método dos\n",
    "quadrados mínimos é\n",
    "\\begin{equation*}\n",
    "\\left[\n",
    "\\begin{matrix}\n",
    "m & \\sum x_i & \\sum x_i^2 & \\cdots & \\sum x_i^n \\\\\n",
    "\\sum x_i & \\sum x_i^2 & \\sum x_i^3 & \\cdots & \\sum x_i^{n+1} \\\\\n",
    "\\sum x_i^2 & \\sum x_i^3 & \\sum x_i^4 & \\cdots & \\sum x_i^{n+2} \\\\ \n",
    "\\vdots & \\vdots & \\vdots & \\ddots & \\vdots \\\\\n",
    "\\sum x_i^n & \\sum x_i^{n+1} & \\sum x_i^{n+2} & \\cdots & \\sum x_i^{2n} \\\\\n",
    "\\end{matrix}\n",
    "\\right]\n",
    "\\left[\n",
    "\\begin{array}{c}\n",
    "a_{0}\\\\\n",
    "a_{1}\\\\\n",
    "a_{2}\\\\\n",
    "\\vdots \\\\\n",
    "a_{n}\\\\\n",
    "\\end{array}\n",
    "\\right]\n",
    "=\n",
    "\\left[\n",
    "\\begin{array}{c}\n",
    "\\sum y_i\\\\\n",
    "\\sum x_iy_i\\\\\n",
    "\\sum x_i^2y_i\\\\\n",
    "\\vdots \\\\\n",
    "\\sum x_i^ny_i\\\\\n",
    "\\end{array}\n",
    "\\right]\n",
    "\\end{equation*}\n",
    "\n"
   ]
  },
  {
   "cell_type": "markdown",
   "metadata": {},
   "source": [
    "## Caso geral de ajuste com uma única variável $x$\n",
    "O problema do ajuste de curvas consiste em escolhermos $n$ funções $g_1(x)$, $g_2(x)$, $\\dots$, $g_n(x)$, contínuas e linearmente independentes tais que a função $u(x) = \\alpha_1 g_1(x) + \\alpha_2 g_2(x) + \\dots + \\alpha_n g_n(x)$ se aproxime ao máximo de $f(x)$. \n",
    "\n",
    "Dizemos que este modelo é um modelo linear porque os coeficientes a determinar $\\alpha_1, \\alpha_2, \\dots, \\alpha_n$, aparecem linearmente, embora as funções possam ser não lineares em $x$, como \n",
    "por exemplo, $g_1(x) = e^x$, $g_2 = (1+x^2)$ etc.\n",
    "\n",
    "**Exemplo:** Ajustar a curva $f(x) = a \\cdot cos(x) + b \\cdot ln(x) + c \\cdot e^{\\frac{x}{4}}$ aos dados tabelados utilizando o método dos quadrados mínimos.\n",
    "\n",
    "\\begin{array}{|c|c|c|c|c|c|c|c|c|}\n",
    "\t\\hline  x & 0.1 & 0.4 & 0.9 & 1.2  & 3.7 & 5.5 & 6.4 & 8.3 \\\\ \n",
    "\t\\hline  y & -5.0  & -3.5 & -3.0 & -4.0 & -10.0 & -10.3 & -13.0  & -28.0 \\\\ \n",
    "\t\\hline \n",
    "\\end{array} \n",
    "\n",
    "**Solução:**\n",
    "\n",
    "- Obter o sistema linear por quadrados mínimos:\n",
    "\n",
    "Como $u(x_i) = a cos(x_i) + b ln(x_i) + c e^{\\frac{x_i}{4}}$ então\n",
    "$$D(a,b,c) = \\displaystyle\\sum_{i=1}^m( y_i - u_i)^2 = \n",
    "\\displaystyle\\sum_{i=1}^m( y_i - a cos(x_i) - b ln(x_i) - c e^{\\frac{x_i}{4}})^2$$\n",
    "\n",
    "- Obtendo as derivadas parciais:\n",
    "$$\\frac{\\partial D}{\\partial a}=-2 \\displaystyle\\sum_{i=1}^m( y_i - a cos(x_i) - b ln(x_i) - c e^{\\frac{x_i}{4}}) cos(x_i)$$\n",
    "$$\\frac{\\partial D}{\\partial b}=-2 \\displaystyle\\sum_{i=1}^m( y_i - a cos(x_i) - b ln(x_i) - c e^{\\frac{x_i}{4}}) ln(x_i)$$\n",
    "$$\\frac{\\partial D}{\\partial c}=-2 \\displaystyle\\sum_{i=1}^m( y_i - a cos(x_i) - b ln(x_i) - c e^{\\frac{x_i}{4}}) e^{\\frac{x_i}{4}}$$\n",
    "\n",
    "- Igualando a zero e obtendo o sistema linear:\n",
    "\\begin{equation*}\n",
    "\\left[\n",
    "\\begin{matrix}\n",
    "\\sum cos(x_i) cos(x_i) & \\sum cos(x_i) ln(x_i) & \\sum cos(x_i)e^{\\frac{x_i}{4}}\\\\\n",
    "\\sum ln(x_i) cos(x_i) & \\sum ln(x_i) ln(x_i) & \\sum ln(x_i) e^{\\frac{x_i}{4}}\\\\\n",
    "\\sum e^{\\frac{x_i}{4}} cos(x_i) & \\sum e^{\\frac{x_i}{4}} ln(x_i) & \\sum e^{\\frac{x_i}{4}} e^{\\frac{x_i}{4}}\\\\\n",
    "\\end{matrix}\n",
    "\\right]\n",
    "\\left[\n",
    "\\begin{array}{c}\n",
    "a\\\\\n",
    "b\\\\\n",
    "c\\\\\n",
    "\\end{array}\n",
    "\\right]\n",
    "=\n",
    "\\left[\n",
    "\\begin{array}{c}\n",
    "\\sum cos(x_i) y_i\\\\\n",
    "\\sum ln(x_i) y_i\\\\\n",
    "\\sum e^{\\frac{x_i}{4}}y_i\\\\\n",
    "\\end{array}\n",
    "\\right]\n",
    "\\end{equation*}\n",
    "\n",
    "- Substituindo os valores numéricos:\n",
    "\\begin{equation*}\n",
    "\\left[\n",
    "\\begin{matrix}\n",
    "4.7501 & -2.1052 & 5.4533\\\\\n",
    "-2.1052 & 18.7281 &  32.8318\\\\\n",
    "5.4533 &  32.8318 & 115.6321\\\\\n",
    "\\end{matrix}\n",
    "\\right]\n",
    "\\left[\n",
    "\\begin{array}{c}\n",
    "a\\\\\n",
    "b\\\\\n",
    "c\\\\\n",
    "\\end{array}\n",
    "\\right]\n",
    "=\n",
    "\\left[\n",
    "\\begin{array}{c}\n",
    "-11.164\\\\\n",
    "-99.723\\\\\n",
    "-371.504\\\\\n",
    "\\end{array}\n",
    "\\right]\n",
    "\\end{equation*}\n",
    "\n",
    "- Resolvendo o sistema:\n",
    "$a=2.7958$, $b=1.6983$ e $c=-3.8269$\n",
    "\n",
    "- Calculando o coeficiente de determinação $r^2$ e a variância residual:\n",
    "$$r^2= 1 - \\frac{D(a,b,c)}{\\sum y^2_i - \\frac{1}{m}\\big(\\sum y_i\\big)^2} = 1 - \\frac{0.21643}{1221.3 - (-76.8)^2/8} = 0.99955$$\n",
    "e\n",
    "$$\\sigma^2 = \\frac{D(a,b,c)}{m-p-1} = \\frac{0.21643}{8-3} = 0.043286.$$\n",
    "\n"
   ]
  },
  {
   "cell_type": "code",
   "execution_count": 1,
   "metadata": {},
   "outputs": [
    {
     "name": "stdout",
     "output_type": "stream",
     "text": [
      "\u001b[?2004h"
     ]
    }
   ],
   "source": [
    "graphics_toolkit(\"gnuplot\")"
   ]
  },
  {
   "cell_type": "code",
   "execution_count": 5,
   "metadata": {},
   "outputs": [
    {
     "name": "stdout",
     "output_type": "stream",
     "text": [
      "\u001b[?2004h\u001b[?2004l\u001b[?2004l\u001b[?2004l\u001b[?2004l\u001b[?2004l\u001b[?2004l\u001b[?2004l\u001b[?2004l\u001b[?2004l\u001b[?2004l"
     ]
    }
   ],
   "source": [
    "%Dados tabelados armazenados como vetor linha\n",
    "xi = [ 0.1  0.4  0.9  1.2   3.7   5.5   6.4   8.3];\n",
    "yi = [-5.0 -3.5 -3.0 -4.0 -10.0 -10.3 -13.0 -28.0];\n",
    "\n",
    "%Numero de amostras\n",
    "m = numel(xi);\n",
    "\n",
    "%a) Inicializar os somatórios da regressão usando uma matriz A (3x3) e B (3x1)\n",
    "A = zeros(3);\n",
    "A(1,1) = sum(cos(xi).*cos(xi));\n",
    "A(1,2) = sum(cos(xi).*log(xi));"
   ]
  },
  {
   "cell_type": "code",
   "execution_count": 6,
   "metadata": {},
   "outputs": [
    {
     "name": "stdout",
     "output_type": "stream",
     "text": [
      "A =2004l\n",
      "\n",
      "   4.7501  -2.1052        0\n",
      "        0        0        0\n",
      "        0        0        0\n",
      "\n",
      "\u001b[?2004h"
     ]
    }
   ],
   "source": [
    "A"
   ]
  },
  {
   "cell_type": "code",
   "execution_count": 7,
   "metadata": {},
   "outputs": [
    {
     "name": "stdout",
     "output_type": "stream",
     "text": [
      "\u001b[?2004h\u001b[?2004l\u001b[?2004l\u001b[?2004l\u001b[?2004l\u001b[?2004l\u001b[?2004l\u001b[?2004l\u001b[?2004l\u001b[?2004l\u001b[?2004l\u001b[?2004l\u001b[?2004l\u001b[?2004l\u001b[?2004l\u001b[?2004l\u001b[?2004l\u001b[?2004l\u001b[?2004l\u001b[?2004l\u001b[?2004l\u001b[?2004l\u001b[?2004l\u001b[?2004l\u001b[?2004l\u001b[?2004l"
     ]
    },
    {
     "data": {
      "image/png": "[encoded data removed]",
      "text/plain": [
       "<IPython.core.display.Image object>"
      ]
     },
     "metadata": {},
     "output_type": "display_data"
    }
   ],
   "source": [
    "%b) Imprimir o cabeçalho da tabela de regressão\n",
    "for i = 1 : m\n",
    "    %c) Imprimir os valores intermediários da regressão\n",
    "end\n",
    "\n",
    "%d) Calcular os coeficientes a, b e c da regress?o polinomial dada pelo metodo dos minimos quadrados\n",
    "a = 2.7958; b = 1.6983; c = -3.8269;\n",
    "\n",
    "hold on;\n",
    "\n",
    "%Intervalo de projeção dos gráficos\n",
    "x = 0:0.02:9;\n",
    "\n",
    "%Desenha o grafico de dispersão das amostras coletadas\n",
    "scatter(xi, yi);\n",
    "\n",
    "\n",
    "%Desenha o grafico da reta dada pelos coeficientes a e b da regressão linear\n",
    "y = a*cos(x) + b*log(x) + c*exp(x/4);\n",
    "\n",
    "plot(x, y);\n",
    "\n",
    "title('Grafico de Dispersao');\n",
    "xlabel('variavel explicativa x');\n",
    "ylabel('variavel resposta y');\n",
    "hold off;"
   ]
  },
  {
   "cell_type": "markdown",
   "metadata": {},
   "source": [
    "**Exercício:**  Calcular $r^2$ e $sigma^2$ para a regressão acima usando as funções implementadas anteriormente."
   ]
  },
  {
   "cell_type": "code",
   "execution_count": 9,
   "metadata": {},
   "outputs": [
    {
     "name": "stdout",
     "output_type": "stream",
     "text": [
      "ans = 451\n"
     ]
    }
   ],
   "source": []
  },
  {
   "cell_type": "markdown",
   "metadata": {},
   "source": [
    "## Transformações não lineares\n",
    "\n",
    "Modelos não lineares nos parâmetros podem ser transformados em modelos lineares para simples substituição de variáveis por funções dessas variáveis, por exemplo,\n",
    "\\begin{equation*}\n",
    "\\begin{array}{l}\n",
    "y = ax^b \\implies  log(y) = log(a) + b\\, log(x);\\\\[0.5cm]\n",
    "y = ab^x \\implies  log(y) = log(a) + log(b) x;\\\\[0.5cm]\n",
    "y = a e^{bx} = \\implies ln(y) = ln(a) + bx;\\\\[0.5cm]\n",
    "y = \\frac{1}{a + b x} \\implies \\frac{1}{y} = a + bx\\\\\n",
    "\\end{array}\n",
    "\\end{equation*}\n",
    "\n",
    "**Exemplo:** Em uma reação química de primeira ordem, a constante $k$ de velocidade se relaciona com a concentração $c$ e o tempo $t$ pela expressão\n",
    "$$c = c_0 e^{-kt}$$\n",
    "\n",
    "Utilizando o método dos quadrados mínimos sobre a tabela a seguir, determine o valor de $c_0$ e $k$.\n",
    "\\begin{array}{|c|c|c|c|c|c|}\n",
    "\t\\hline i & 1 & 2 & 3 & 4 & 5 \\\\ \n",
    "\t\\hline t & 0.1 & 0.2 & 0.3 & 0.4 & 0.5 \\\\ \n",
    "\t\\hline c & 0.56 & 0.32 & 0.21 & 0.11 & 0.08 \\\\ \n",
    "\t\\hline \n",
    "\\end{array} \n",
    "\n",
    "**Solução:**\n",
    "\n",
    "- Linearizando a equação:\n",
    "\n",
    "$c = c_0 e^{-kt} \\implies ln(c) = ln(c_0) - kt \\implies z = \\alpha + \\beta t$\n",
    "\n",
    "Fazendo $z = ln(y)$, $\\alpha = ln(c_0)$ e $\\beta = -k$.\n",
    "\n",
    "- Montando o sistema linear:\n",
    "\n",
    "\\begin{equation*}\n",
    "\\left[\n",
    "\\begin{array}{cc}\n",
    "m & \\sum t_i \\\\\n",
    "\\sum t_i & \\sum t^2_i\\\\\n",
    "\\end{array}\n",
    "\\right]\n",
    "\\left[\n",
    "\\begin{array}{c}\n",
    "\\alpha\\\\\n",
    "\\beta\\\\\n",
    "\\end{array}\n",
    "\\right]\n",
    "=\n",
    "\\left[\n",
    "\\begin{array}{c}\n",
    "\\sum z_i\\\\\n",
    "\\sum z_i t_i\\\\\n",
    "\\end{array}\n",
    "\\right]\n",
    "\\end{equation*}\n",
    "\n",
    "- Resolvendo o sistema:\n",
    "\n",
    "\\begin{equation*}\n",
    "\\left[\n",
    "\\begin{array}{cc}\n",
    "5 & 1.5 \\\\\n",
    "1.5 & 0.55\\\\\n",
    "\\end{array}\n",
    "\\right]\n",
    "\\left[\n",
    "\\begin{array}{c}\n",
    "\\alpha\\\\\n",
    "\\beta\\\\\n",
    "\\end{array}\n",
    "\\right]\n",
    "=\n",
    "\\left[\n",
    "\\begin{array}{c}\n",
    "\\sum -8.0129\\\\\n",
    "\\sum -2.8998\\\\\n",
    "\\end{array}\n",
    "\\right]\n",
    "\\implies\n",
    "\\alpha = -0.11479 \\mathsf{~e~} \\beta = -4.9593\n",
    "\\end{equation*}\n",
    "\n",
    "- Transformando as variáveis:\n",
    "\n",
    "$$\\alpha = ln(c_0) \\implies c_0 = e^\\alpha = e^{-0.11479} = 0.8916$$\n",
    "\n",
    "e\n",
    "\n",
    "$$\\beta = -k \\implies k = -\\beta = -(-4.9593) = 4.9593$$\n",
    "\n",
    "### Teste de alinhamento\n",
    "Uma vez escolhida uma função não linear em $\\alpha_1$, $\\alpha_2$, ..., $\\alpha_n$ para ajustar uma função dada, uma forma de verificarmos se a escolha feita foi razoável seria aplicarmos o teste de alinhamento, que consiste em:\n",
    "- fazer a **linearização** da função escolhida;\n",
    "- fazer o diagrama de dispersão dos novos dados;\n",
    "- se os pontos do diagrama estiverem alinhados, isto significará que a função não linear escolhida foi uma **boa escolha**.\n",
    "\n",
    "**Exemplo:** Verificar qual das funções não lineares proporcionará um melhor ajuste $f(x) = a e^{bx}$ ou $g(x) = \\frac{1}{a + b \\,x}$ aos dados tabelados\n",
    "\\begin{array}{|c|c|c|c|c|c|}\n",
    "    \\hline i & 1 & 2 & 3 & 4 & 5 \\\\ \n",
    "    \\hline x & 0.1 & 0.3 & 0.5 & 0.8 & 1.0 \\\\ \n",
    "    \\hline y & 1.1 & 1.3 & 1.7 & 2.2 & 2.7 \\\\ \n",
    "    \\hline \n",
    "\\end{array} \n",
    "\n",
    "\n",
    "\n",
    "**Solução:**\n",
    "$$y=a\\, e^{bx} \\implies ln(y) = ln(a) + bx \\implies z_1 = \\alpha + \\beta x$$ \n",
    "e\n",
    "$$y=\\frac{1}{a + bx} \\implies \\frac{1}{y} = a + bx \\implies z_2 = \\alpha + \\beta x$$\n",
    "\n",
    "\\begin{array}{|c|c|c|c|c|c|}\n",
    "    \\hline i & 1 & 2 & 3 & 4 & 5 \\\\ \n",
    "    \\hline x & 0.1 & 0.3 & 0.5 & 0.8 & 1.0 \\\\ \n",
    "    \\hline z_1 & 0.09531 &  0.262364 &   0.530628 &  0.788457 &  0.993252\\\\\n",
    "    \\hline z_2 &0.90909  & 0.76923 &  0.58824 &  0.45455 &  0.37037\\\\\n",
    "    \\hline\n",
    "\\end{array} \n"
   ]
  },
  {
   "cell_type": "code",
   "execution_count": 8,
   "metadata": {},
   "outputs": [
    {
     "name": "stdout",
     "output_type": "stream",
     "text": [
      "x =2004l\n",
      "\n",
      "   0.1000   0.3000   0.5000   0.8000   1.0000\n",
      "\n",
      "y =2004h\u001b[?2004l\n",
      "\n",
      "   1.1000   1.3000   1.7000   2.2000   2.7000\n",
      "\n",
      "\u001b[?2004h"
     ]
    }
   ],
   "source": [
    "x = [0.1 0.3 0.5 0.8 1.0]\n",
    "y = [1.1 1.3 1.7 2.2 2.7]\n"
   ]
  },
  {
   "cell_type": "code",
   "execution_count": 9,
   "metadata": {},
   "outputs": [
    {
     "name": "stdout",
     "output_type": "stream",
     "text": [
      "i\t\txi\t\tyi\t\txi^2\t\txiyi\t\tyi^22004l\u001b[?2004l\u001b[?2004l\u001b[?2004l\u001b[?2004l\u001b[?2004l\u001b[?2004l\u001b[?2004l\u001b[?2004l\u001b[?2004l\n",
      "1\t0.100000\t0.095310\t0.010000\t0.009531\t0.0090844l\u001b[?2004l\u001b[?2004l\u001b[?2004l\u001b[?2004l\u001b[?2004l\u001b[?2004l\n",
      "2\t0.300000\t0.262364\t0.090000\t0.078709\t0.068835\n",
      "3\t0.500000\t0.530628\t0.250000\t0.265314\t0.281566\n",
      "4\t0.800000\t0.788457\t0.640000\t0.630766\t0.621665\n",
      "5\t1.000000\t0.993252\t1.000000\t0.993252\t0.986549\n",
      "a = -0.009820, b = 1.007078, r2 = 0.995666, s2 = 0.000783[?2004l\u001b[?2004l\u001b[?2004l\u001b[?2004l\n",
      "\u001b[?2004h"
     ]
    }
   ],
   "source": [
    "xi = x;\n",
    "yi = log(y);\n",
    "\n",
    "%Numero de amostras\n",
    "m = numel(xi);\n",
    "\n",
    "soma_xi = 0;\n",
    "soma_yi = 0;\n",
    "soma_xiyi = 0;\n",
    "soma_xi2 = 0;\n",
    "soma_yi2 = 0;\n",
    "\n",
    "fprintf('i\\t\\txi\\t\\tyi\\t\\txi^2\\t\\txiyi\\t\\tyi^2\\n');\n",
    "for i = 1 : m\n",
    "    xi2 = xi(i)^2;\n",
    "    xiyi = xi(i) * yi(i);\n",
    "    yi2 = yi(i)^2;\n",
    "    soma_xi = soma_xi + xi(i);\n",
    "    soma_yi = soma_yi + yi(i);\n",
    "    soma_xiyi = soma_xiyi + xiyi;\n",
    "    soma_xi2 = soma_xi2 + xi2;\n",
    "    soma_yi2 = soma_yi2 + yi2;\n",
    "    fprintf('%d\\t%f\\t%f\\t%f\\t%f\\t%f\\n', i, xi(i), yi(i), xi2, xiyi, yi2);\n",
    "end\n",
    "\n",
    "b = (soma_xi * soma_yi - m * soma_xiyi) / (soma_xi^2 - m * soma_xi2);\n",
    "a = (soma_yi - b * soma_xi) / m;\n",
    "\n",
    "ui = a + b*xi;\n",
    "D_ab = sum((yi-ui).^2);\n",
    "r2 =  1 - (D_ab/(soma_yi2-(1/m)*(soma_yi^2)));\n",
    "s2 = D_ab / (m-2);\n",
    "\n",
    "fprintf('a = %f, b = %f, r2 = %f, s2 = %f\\n', a, b, r2, s2);"
   ]
  },
  {
   "cell_type": "code",
   "execution_count": 10,
   "metadata": {},
   "outputs": [
    {
     "name": "stdout",
     "output_type": "stream",
     "text": [
      "a = -0.009820, b = 1.007078, r2 = 0.995666, s2 = 0.000783\n",
      "\u001b[?2004h"
     ]
    }
   ],
   "source": [
    "[p,S] = polyfit(xi, yi, 1);\n",
    "r2 = 1 - (S.normr/norm(yi - mean(yi)))^2;\n",
    "s2 = (S.normr)^2 / (m-2);\n",
    "fprintf('a = %f, b = %f, r2 = %f, s2 = %f\\n', p(2), p(1), r2, s2);"
   ]
  },
  {
   "cell_type": "code",
   "execution_count": 11,
   "metadata": {},
   "outputs": [
    {
     "name": "stdout",
     "output_type": "stream",
     "text": [
      "\u001b[?2004h\u001b[?2004l\u001b[?2004l\u001b[?2004l\u001b[?2004l\u001b[?2004l\u001b[?2004l\u001b[?2004l\u001b[?2004l\u001b[?2004l\u001b[?2004l"
     ]
    },
    {
     "data": {
      "image/png": "[encoded data removed]",
      "text/plain": [
       "<IPython.core.display.Image object>"
      ]
     },
     "metadata": {},
     "output_type": "display_data"
    }
   ],
   "source": [
    "%Desenha o grafico de dispersão das amostras coletadas\n",
    "scatter(xi, yi);\n",
    "hold on;\n",
    "%Desenha o grafico da reta dada pelos coeficientes a e b da regress?o linear\n",
    "y = a + b*x;\n",
    "plot(x, y, 'g');\n",
    "\n",
    "title('Grafico de Dispersao');\n",
    "xlabel('variavel explicativa x');\n",
    "ylabel('variavel resposta y');\n",
    "hold off;"
   ]
  },
  {
   "cell_type": "code",
   "execution_count": 11,
   "metadata": {},
   "outputs": [
    {
     "name": "stdout",
     "output_type": "stream",
     "text": [
      "i\t\txi\t\tyi\t\txi^2\t\txiyi\t\tyi^22004l\u001b[?2004l\u001b[?2004l\u001b[?2004l\u001b[?2004l\u001b[?2004l\u001b[?2004l\u001b[?2004l\u001b[?2004l\u001b[?2004l\n",
      "1\t0.100000\t0.909091\t0.010000\t0.090909\t0.8264464l\u001b[?2004l\u001b[?2004l\u001b[?2004l\u001b[?2004l\u001b[?2004l\u001b[?2004l\n",
      "2\t0.300000\t0.769231\t0.090000\t0.230769\t0.591716\n",
      "3\t0.500000\t0.588235\t0.250000\t0.294118\t0.346021\n",
      "4\t0.800000\t0.454545\t0.640000\t0.363636\t0.206612\n",
      "5\t1.000000\t0.370370\t1.000000\t0.370370\t0.137174\n",
      "a = 0.942693, b = -0.600738, r2 = 0.976916, s2 = 0.001512[?2004l\u001b[?2004l\u001b[?2004l\u001b[?2004l\n",
      "\u001b[?2004h"
     ]
    }
   ],
   "source": [
    "xi = x;\n",
    "yi = 1./y;\n",
    "\n",
    "%Numero de amostras\n",
    "m = numel(xi);\n",
    "\n",
    "soma_xi = 0;\n",
    "soma_yi = 0;\n",
    "soma_xiyi = 0;\n",
    "soma_xi2 = 0;\n",
    "soma_yi2 = 0;\n",
    "\n",
    "fprintf('i\\t\\txi\\t\\tyi\\t\\txi^2\\t\\txiyi\\t\\tyi^2\\n');\n",
    "for i = 1 : m\n",
    "    xi2 = xi(i)^2;\n",
    "    xiyi = xi(i) * yi(i);\n",
    "    yi2 = yi(i)^2;\n",
    "    soma_xi = soma_xi + xi(i);\n",
    "    soma_yi = soma_yi + yi(i);\n",
    "    soma_xiyi = soma_xiyi + xiyi;\n",
    "    soma_xi2 = soma_xi2 + xi2;\n",
    "    soma_yi2 = soma_yi2 + yi2;\n",
    "    fprintf('%d\\t%f\\t%f\\t%f\\t%f\\t%f\\n', i, xi(i), yi(i), xi2, xiyi, yi2);\n",
    "end\n",
    "\n",
    "b = (soma_xi * soma_yi - m * soma_xiyi) / (soma_xi^2 - m * soma_xi2);\n",
    "a = (soma_yi - b * soma_xi) / m;\n",
    "\n",
    "ui = a + b*xi;\n",
    "D_ab = sum((yi-ui).^2);\n",
    "r2 =  1 - (D_ab/(soma_yi2-(1/m)*(soma_yi^2)));\n",
    "s2 = D_ab / (m-2);\n",
    "\n",
    "fprintf('a = %f, b = %f, r2 = %f, s2 = %f\\n', a, b, r2, s2);\n"
   ]
  },
  {
   "cell_type": "code",
   "execution_count": 12,
   "metadata": {},
   "outputs": [
    {
     "name": "stdout",
     "output_type": "stream",
     "text": [
      "a = 0.942693, b = -0.600738, r2 = 0.976916, s2 = 0.001512\n",
      "\u001b[?2004h"
     ]
    }
   ],
   "source": [
    "[p,S] = polyfit(xi, yi, 1);\n",
    "r2 = 1 - (S.normr/norm(yi - mean(yi)))^2;\n",
    "s2 = (S.normr)^2 / (m-2);\n",
    "fprintf('a = %f, b = %f, r2 = %f, s2 = %f\\n', p(2), p(1), r2, s2);"
   ]
  },
  {
   "cell_type": "code",
   "execution_count": 8,
   "metadata": {},
   "outputs": [
    {
     "name": "stdout",
     "output_type": "stream",
     "text": [
      "\u001b[?2004h\u001b[?2004l\u001b[?2004l\u001b[?2004l\u001b[?2004l\u001b[?2004l\u001b[?2004l\u001b[?2004l\u001b[?2004l\u001b[?2004l\u001b[?2004l"
     ]
    },
    {
     "data": {
      "image/png": "[encoded data removed]",
      "text/plain": [
       "<IPython.core.display.Image object>"
      ]
     },
     "metadata": {},
     "output_type": "display_data"
    }
   ],
   "source": [
    "%Desenha o grafico de dispersão das amostras coletadas\n",
    "scatter(xi, yi);\n",
    "hold on;\n",
    "%Desenha o grafico da reta dada pelos coeficientes a e b da regress?o linear\n",
    "y = a + b*x;\n",
    "plot(x, y, 'g');\n",
    "\n",
    "title('Grafico de Dispersao');\n",
    "xlabel('variavel explicativa x');\n",
    "ylabel('variavel resposta y');\n",
    "hold off;"
   ]
  },
  {
   "cell_type": "code",
   "execution_count": null,
   "metadata": {},
   "outputs": [],
   "source": []
  }
 ],
 "metadata": {
  "kernelspec": {
   "display_name": "Octave",
   "language": "octave",
   "name": "octave"
  },
  "language_info": {
   "file_extension": ".m",
   "help_links": [
    {
     "text": "GNU Octave",
     "url": "https://www.gnu.org/software/octave/support.html"
    },
    {
     "text": "Octave Kernel",
     "url": "https://github.com/Calysto/octave_kernel"
    },
    {
     "text": "MetaKernel Magics",
     "url": "https://metakernel.readthedocs.io/en/latest/source/README.html"
    }
   ],
   "mimetype": "text/x-octave",
   "name": "octave",
   "version": "\u001b[?2004h"
  }
 },
 "nbformat": 4,
 "nbformat_minor": 4
}

{
 "cells": [
  {
   "cell_type": "markdown",
   "metadata": {},
   "source": [
    "# Modelos de Equações Diferenciais Ordinárias\n"
   ]
  },
  {
   "cell_type": "markdown",
   "metadata": {},
   "source": [
    "## 2 - Introdução\n",
    "\n",
    "### 2.1 - Modelo Cinemático de Robôs com Direção Diferencial\n",
    "\n",
    "(O modelo cinemático de robôs com direção diferencial apresentado neste trabalho foi traduzido de http://rossum.sourceforge.net/papers/DiffSteer/)\n",
    "\n",
    "Analisaremos neste trabalho as equações que descrevem a trajetória de um robô ou veículo equipado com um sistema de direção diferencial. Este sistema é comumente usado em robôs menores também conhecido como modelo do monociclo. Possui geralmente duas rodas montadas em um único eixo que são alimentadas e controladas de forma independente, fornecendo funções de acionamento e direção. As equações utilizadas neste trabalho fornecem um modelo básico para o sistema de acionamento com direção diferencial (geralmente chamado de sistema de direção diferencial). Este modelo pode ser usado para prever como um robô equipado com esse sistema responderá a mudanças na velocidade da roda e qual caminho seguirá sob várias condições. O modelo também pode ser usado para calcular a posição de um robô por meio de odometria (técnicas que estimam a posição de um robô com base nas distâncias medidas com os dispositivos de odômetros montados em cada roda).\n",
    "\n",
    "Vale ressaltar que as equações apresentadas aqui representam um modelo básico para o movimento de um robô. Elas descrevem a posição e a orientação do robô em função do movimento de suas rodas, mas ignoram a física subjacente envolvida na realização desse movimento. Questões associadas a torque, forças, atrito, energia e inércia não serão consideradas. Em termos técnicos, esse método de descrição de movimento é chamado de abordagem cinemática, pois ignora as causas do movimento (que seriam estudadas em uma abordagem dinâmica) e foca nos efeitos. Como tal, elas fornecem um primeiro passo para entender o comportamento dos robôs com sistemas de direção diferencial, e não uma descrição completa."
   ]
  },
  {
   "cell_type": "markdown",
   "metadata": {},
   "source": [
    "#### 2.1.1 - O Modelo do Robô Diferencial\n",
    "\n",
    "<img src=\"img/fig4_14.svg\" width=\"50%\" height=\"50%\">\n",
    "\n",
    "O modelo de direção diferencial usado em muitos robôs é essencialmente o mesmo arranjo usado em uma cadeira de rodas. Portanto, a maioria de nós tem uma compreensão intuitiva do seu modo de funcionamento. Se ambas as rodas motrizes girarem no mesmo sentido, o robô se moverá em linha reta. Se uma roda girar mais rápido que a outra, o robô segue um caminho curvilineo para dentro em direção à roda mais lenta. Se as rodas girarem na mesma velocidade, mas em direções opostas, o robô gira em torno do prórpio eixo. Assim, dirigir o robô é apenas uma questão de variar as velocidades das rodas motrizes. Mas como exatamente escolhemos as velocidades para que o robô se mova para onde queremos que ele vá? Neste trabalho, buscaremos refinar esse entendimento intuitivo em expressões matemáticas que podem ser usadas para implementar o software de controle de robôs."
   ]
  },
  {
   "cell_type": "markdown",
   "metadata": {},
   "source": [
    "#### 2.1.2 - Fazendo uma Curva\n",
    "\n",
    "Antes de abordar o modelo de direção diferencial, vamos considerar o problema de fazer com que um robô faça uma curva de 90 graus em uma esquina de um corredor ou de uma estrada. Uma abordagem simples é fazer o robô dirigir até o cruzamento, parar e girar. Claramente, porém, essa abordagem é ineficiente e um pouco desajeitada. Uma abordagem mais elegante seria o robô dobrar a esquina , seguindo um arco circular gradual através do cruzamento, mantendo uma velocidade constante. Para atingir esse objetivo, aumentamos a velocidade da roda externa enquanto diminuímos a velocidade da roda interna.\n",
    "O caminho que o robô segue é verdadeiramente circular ou é algum outro tipo de curva? Mais adiante, mostraremos que, se ambas as rodas girarem em velocidades constantes, mas diferentes, o robô seguirá um caminho circular. Por enquanto, apenas assuma que o caminho é circular. Com isso em mente, vemos que as velocidades das rodas são selecionadas com base na rotação que desejamos que o robô faça.\n",
    "\n",
    "\n",
    "#### Figura 1. Trajeto das rodas em uma curva.\n",
    "\n",
    "<img src=\"img/diff_drive.gif\" width=\"25%\" height=\"25%\">\n",
    "\n",
    "Referindo-se à Figura 1, observe os relacionamentos:\n",
    "$$S_L=r\\theta\\\\S_R=(r+b)\\theta\\\\S_M=(r+\\frac{b}{2})\\theta$$\n",
    "\n",
    "Onde, $S_L,S_R$ indicam o deslocamento (distância percorrida) das rodas esquerda e direita, respectivamente. E $r$ é o raio da trajetória para a roda interna (esquerda), $b$ é a distância entre as rodas (de centro a centro ao longo do comprimento do eixo), e $\\theta$ é o ângulo da curva em radianos. $S_M$ é a velocidade no ponto central do eixo principal. Nesta discussão, trataremos o ponto central do eixo como a origem do sistema de referência do robô simulado.\n"
   ]
  },
  {
   "cell_type": "markdown",
   "metadata": {},
   "source": [
    "#### 2.1.3 - Preliminares e Premissas\n",
    "\n",
    "Depois que estabelecemos a geometria simples para o sistema de direção diferencial, é fácil desenvolver algoritmos para controlar o caminho do robô. Note, no entanto, que fizemos uma importante suposição simplificadora: as rodas mantêm uma velocidade constante. Negligenciamos os efeitos da aceleração. Se as rodas puderem acelerar, a curva que descreve a trajetória do robô pode se tornar muito mais complicada. Ao trabalhar com robôs muito leves, onde a massa (e inércia) da plataforma é pequena, geralmente podemos tratar as mudanças de velocidade quase instantaneamente. O caminho que o robô segue não será verdadeiramente circular, mas estará próximo o suficiente para muitas aplicações. Para robôs maiores e mais pesados, é claro, a massa é importante e a aceleração deve ser considerada. \n",
    "\n",
    "Na discussão acima, consideramos o problema de tentar escolher as velocidades das rodas com base no caminho desejado. Agora consideraremos o problema oposto: como encontrar a trajetória do robô se formos informados a que velocidade as rodas devem girar? A resposta a essa pergunta leva ao desenvolvimento de nosso modelo e também se aplica diretamente ao cálculo de odometria. Essencialmente, esse é um problema conhecido como cinemática direta, ou seja, a técnica de prever o comportamento de um sistema mecânico com base nas entradas desse sistema.\n",
    "\n",
    "Desenvolver um modelo para o sistema de direção diferencial não é difícil, mas requer o uso de cálculo e equações diferenciais. Se você não está familiarizado com o cálculo, pode preferir apenas visualizar os resultados apresentados nas equações (3) e (5) abaixo.\n",
    "\n",
    "Para começar, considere que o que realmente interessa é como as coordenadas $x$ e $y$ (e orientação) mudam com relação ao tempo. A qualquer momento, as coordenadas $x$ e $y$ do ponto central do robô estão mudando com base em sua velocidade e orientação. Tratamos a orientação como um ângulo $q$ medido em radianos, no sentido anti-horário em relação ao eixo x. Lembre-se de que o vetor que indica a direção do movimento para frente do robô será simplesmente $(cos(\\theta), sen(\\theta))$. As coordenadas $x$ e $y$ para o ponto central do robô mudarão dependendo da velocidade do seu movimento ao longo desse vetor.\n",
    "\n",
    "Essas observações sugerem que, considerando $v(t)=\\frac{v_R(t) + v_L(t)}{2}$, $w(t)=v_R(t)-v_L(t)$ e $\\theta(t)$ como funções dependentes do tempo para a velocidade e a orientação do robô, nossa solução terá o seguinte sistema de EDO's (1):\n",
    "\n",
    "$$\\frac{dx}{dt}=v(t)cos(\\theta)\\\\\\frac{dy}{dt}=v(t)sen(\\theta)\\\\\\frac{d\\theta}{dt}=\\frac{w(t)}{b}$$"
   ]
  },
  {
   "cell_type": "markdown",
   "metadata": {},
   "source": [
    "#### 2.1.4 - Derivando o modelo\n",
    "\n",
    "Vamos derivar funções para a trajetória do robô. Por enquanto, será mais fácil ignorar o pensamento sobre aceleração e assumir que as velocidades das rodas são constantes. Se as duas rodas estão se movendo na mesma velocidade, o robô viaja em linha reta e a equação para sua trajetória é trivial. Portanto, consideraremos o caso em que as rodas viajam em velocidades diferentes.\n",
    "\n",
    "Referindo-se à figura 2, observe que, à medida que o robô muda de posição, todos os pontos do robô podem estar em movimento. Para desenvolver uma equação cinemática direta para o movimento de um sistema de direção diferencial, começamos especificando um sistema de referência no qual um ponto escolhido arbitrariamente é tratado como estacionário. Todos os outros pontos do sistema são tratados como se movendo em relação ao ponto de referência. O robô é considerado um corpo rígido. Ao abordar o problema dessa maneira, obteremos informações que podem ser aplicadas ao problema mais geral de modelar o movimento do robô em um sistema de referência absoluto.\n",
    "\n",
    "#### Figura 2. Rodas em diferentes velocidades.\n",
    "<img src=\"img/diff_drive2.gif\" width=\"25%\" height=\"25%\">\n",
    "\n",
    "O ponto que selecionamos como referência é o ponto central da roda esquerda. Este é o ponto em que uma roda ideal faz contato com o piso. Novamente, todo movimento nesse sistema de referência é tratado em relação ao ponto da roda esquerda. Como a roda direita é montada perpendicularmente ao eixo, seu movimento dentro do sistema de referência segue um arco circular com um raio correspondente ao comprimento do eixo.\n",
    "\n",
    "Agora, o próprio ponto central pode estar em movimento, de modo que o caminho real da roda direita não corresponderá necessariamente a esse arco circular específico. Mas a mudança de orientação $\\theta$ não está restrita ao sistema de referência do robô. Como tratamos o robô como um corpo rígido, todos os pontos do sistema sofrem a mesma mudança de orientação. Se girarmos o robô 10 graus sobre a roda esquerda, todos os pontos sofrerão uma mudança de 10 graus na orientação. E qualquer mudança na orientação do sistema de referência especial é, de fato, equivalente à do caso mais geral."
   ]
  },
  {
   "cell_type": "markdown",
   "metadata": {},
   "source": [
    "Com base nessas observações, podemos derivar uma equação diferencial que descreve a mudança na orientação em relação ao tempo. A definição de um ângulo dado em radianos é o comprimento de um arco circular dividido pelo raio desse círculo. A velocidade relativa da roda direita nos dá esse comprimento de arco por unidade de tempo. O comprimento da roda até o ponto central nos dá o raio. Combinando esses fatos, temos (2):\n",
    "\n",
    "$$\\frac{d\\theta}{dt}=\\frac{(v_R - v_L)}{b}$$\n",
    "\n",
    "Integrando (2) e tomando a orientação inicial do robô como $\\theta(0)=\\theta_0$ , encontramos uma função para calcular a orientação do robô em função do tempo e da velocidade da roda (3):\n",
    "\n",
    "$$\\theta(t)=\\frac{(v_R - v_L)t}{b}+\\theta_0$$\n",
    "\n",
    "Como observado acima, essa mudança de orientação também se aplica ao sistema de referência absoluto. Voltando nossa atenção ao sistema absoluto, lembramos de (1) acima que o movimento geral do robô depende da velocidade do seu ponto central (o ponto médio do eixo). Essa velocidade é simplesmente a média para as duas rodas, ou $(v_R + v_L)/2$. Combinamos esse fato com o que sabemos sobre orientação em função do tempo e obtemos as seguintes equações diferenciais:\n",
    "\n",
    "$$\\frac{dx}{dt}=\\frac{(v_R + v_L)t}{2}cos(\\theta(t))\\\\\\frac{dy}{dt}=\\frac{(v_R + v_L)t}{2}sen(\\theta(t))$$\n",
    "\n",
    "Observe que as equações em (4) estão na mesma forma que a mostrada em (1). Integrando e aplicando a posição inicial do robô $x(0)=x_0$ e $y(0)=y_0$, temos (5):\n",
    "\n",
    "$$x(t)=x_0+\\frac{b(v_R + v_L)}{2(v_R - v_L)} \\left[sen(\\frac{(v_R - v_L)t}{b}+\\theta_0)-sen(\\theta_0)\\right]\\\\\n",
    "y(t)=y_0-\\frac{b(v_R + v_L)}{2(v_R - v_L)} \\left[cos(\\frac{(v_R - v_L)t}{b}+\\theta_0)-cos(\\theta_0)\\right]$$\n",
    "\n",
    "Observe que as equações fornecidas em (5) confirmam a afirmação anterior de que, quando as rodas giram em velocidades fixas, o robô segue um caminho circular. O termo $\\frac{b(v_R + v_L)}{2(v_R - v_L)}$ é na verdade o raio de curvatura para a trajetória circular do centro do robô."
   ]
  },
  {
   "cell_type": "markdown",
   "metadata": {},
   "source": [
    "#### 2.1.5 - Seguindo em linha \"reta\"\n",
    "\n",
    "Ao usar (5) em um programa de computador, é necessário implementar um tratamento especial nos casos em que as velocidades das rodas são quase iguais e $$(v_R - v_L) \\approx 0$$"
   ]
  },
  {
   "cell_type": "code",
   "execution_count": 1,
   "metadata": {},
   "outputs": [
    {
     "name": "stdout",
     "output_type": "stream",
     "text": [
      "\u001b[?2004h\u001b[?2004l\u001b[?2004l\u001b[?2004l"
     ]
    }
   ],
   "source": [
    "x = [0 0 0]'; \n",
    "u = [0.3, 0.2];\n",
    "L = 1; % Wheel separation [m] (default 1)\n",
    "dt = 0.1; % Time interval (default 0.1)"
   ]
  },
  {
   "cell_type": "code",
   "execution_count": 2,
   "metadata": {},
   "outputs": [
    {
     "name": "stdout",
     "output_type": "stream",
     "text": [
      "\u001b[?2004h\u001b[?2004l\u001b[?2004l\u001b[?2004l\u001b[?2004l\u001b[?2004l"
     ]
    }
   ],
   "source": [
    "% Escreva o comando para verificar esse tratamento especial\n",
    "if abs(u(2)) > eps \n",
    "    x_t = @(t,u,x) x(1) + L.*u(1)./u(2) .* (sin(u(2).*t./L + x(3))-sin(x(3)));\n",
    "    y_t = @(t,u,x) x(2) - L.*u(1)./u(2) .* (cos(u(2).*t./L + x(3))-cos(x(3)));\n",
    "    t_t = @(t,u,x) x(3) + t.*u(2)./L;\n",
    "end"
   ]
  },
  {
   "cell_type": "code",
   "execution_count": 3,
   "metadata": {},
   "outputs": [
    {
     "name": "stdout",
     "output_type": "stream",
     "text": [
      "\u001b[?2004h\u001b[?2004l\u001b[?2004l\u001b[?2004l\u001b[?2004l\u001b[?2004l\u001b[?2004l"
     ]
    },
    {
     "data": {
      "image/png": "[encoded data removed]",
      "text/plain": [
       "<IPython.core.display.Image object>"
      ]
     },
     "metadata": {},
     "output_type": "display_data"
    }
   ],
   "source": [
    "xx = x_t(0:dt:3,u,x);\n",
    "yy = y_t(0:dt:3,u,x);\n",
    "plot(xx, yy, 'r')\n",
    "grid\n",
    "hold on\n",
    "xlabel('Coordenadas em X')\n",
    "ylabel('Coordenadas em Y')"
   ]
  },
  {
   "cell_type": "markdown",
   "metadata": {},
   "source": [
    "Nesses casos, é claro, o robô viaja em uma linha quase reta. Usando a regra de L'Hospital do cálculo elementar, podemos mostrar que as equações têm limites que se aproximam de uma linha reta na direção da orientação inicial $\\theta_0$ ."
   ]
  },
  {
   "cell_type": "code",
   "execution_count": 4,
   "metadata": {},
   "outputs": [
    {
     "name": "stdout",
     "output_type": "stream",
     "text": [
      "\u001b[?2004h\u001b[?2004l\u001b[?2004l\u001b[?2004l\u001b[?2004l\u001b[?2004l"
     ]
    }
   ],
   "source": [
    "% Reescreva as equações considerando que o robô se move numa trajetória retilínea\n",
    "x = [0 0 pi/4]'; \n",
    "u = [0.3, 0.0];\n",
    "x_t = @(t,u,x) x(1) + t.*u(1).*cos(x(3));\n",
    "y_t = @(t,u,x) x(2) + t.*u(1).*sin(x(3));\n",
    "t_t = @(t,u,x) x(3); "
   ]
  },
  {
   "cell_type": "code",
   "execution_count": 5,
   "metadata": {},
   "outputs": [
    {
     "name": "stdout",
     "output_type": "stream",
     "text": [
      "\u001b[?2004h\u001b[?2004l\u001b[?2004l\u001b[?2004l\u001b[?2004l\u001b[?2004l\u001b[?2004l"
     ]
    },
    {
     "data": {
      "image/png": "[encoded data removed]",
      "text/plain": [
       "<IPython.core.display.Image object>"
      ]
     },
     "metadata": {},
     "output_type": "display_data"
    }
   ],
   "source": [
    "xx = x_t(0:dt:3,u,x);\n",
    "yy = y_t(0:dt:3,u,x);\n",
    "plot(xx, yy, 'r')\n",
    "grid\n",
    "hold on\n",
    "xlabel('Coordenadas em X')\n",
    "ylabel('Coordenadas em Y')"
   ]
  },
  {
   "cell_type": "markdown",
   "metadata": {},
   "source": [
    "#### 2.1.6 - Solução Numerica via EDO's"
   ]
  },
  {
   "cell_type": "code",
   "execution_count": 6,
   "metadata": {},
   "outputs": [
    {
     "name": "stdout",
     "output_type": "stream",
     "text": [
      "\u001b[?2004h\u001b[?2004l"
     ]
    }
   ],
   "source": [
    "speedmax = 5; % Maximum speed (default 5m/s)\n",
    "accelmax = Inf;"
   ]
  },
  {
   "cell_type": "code",
   "execution_count": 7,
   "metadata": {},
   "outputs": [
    {
     "name": "stdout",
     "output_type": "stream",
     "text": [
      "Unicycle: uni = <L=1.000000, dt=0.100000, vmax=5.000000, amax=Inf>\n",
      "\u001b[?2004h"
     ]
    }
   ],
   "source": [
    "addpath('src/trabalho')\n",
    "uni = unicycle(L, dt, speedmax, accelmax)"
   ]
  },
  {
   "cell_type": "code",
   "execution_count": 8,
   "metadata": {},
   "outputs": [
    {
     "name": "stdout",
     "output_type": "stream",
     "text": [
      "\u001b[?2004h\u001b[?2004l\u001b[?2004l"
     ]
    }
   ],
   "source": [
    "% Pag. 123\n",
    "x = [0 0 0]'; \n",
    "u = [0.3, 0.2];"
   ]
  },
  {
   "cell_type": "code",
   "execution_count": 9,
   "metadata": {},
   "outputs": [
    {
     "name": "stdout",
     "output_type": "stream",
     "text": [
      "\u001b[?2004h\u001b[?2004l\u001b[?2004l"
     ]
    },
    {
     "data": {
      "image/png": "[encoded data removed]",
      "text/plain": [
       "<IPython.core.display.Image object>"
      ]
     },
     "metadata": {},
     "output_type": "display_data"
    }
   ],
   "source": [
    "uni_rk4 = path(uni, 0:dt:3, u);\n",
    "plot(uni_rk4(:,1), uni_rk4(:,2))\n",
    "grid on"
   ]
  },
  {
   "cell_type": "markdown",
   "metadata": {},
   "source": [
    "#### 2.1.7 - Solução Analitica"
   ]
  },
  {
   "cell_type": "code",
   "execution_count": 10,
   "metadata": {},
   "outputs": [
    {
     "name": "stdout",
     "output_type": "stream",
     "text": [
      "\u001b[?2004h\u001b[?2004l\u001b[?2004l\u001b[?2004l\u001b[?2004l\u001b[?2004l\u001b[?2004l\u001b[?2004l\u001b[?2004l\u001b[?2004l\u001b[?2004l\u001b[?2004l\u001b[?2004l"
     ]
    },
    {
     "data": {
      "image/png": "[encoded data removed]",
      "text/plain": [
       "<IPython.core.display.Image object>"
      ]
     },
     "metadata": {},
     "output_type": "display_data"
    }
   ],
   "source": [
    "if abs(u(2)) > eps \n",
    "    x_t = @(t,u,x) x(1) + L.*u(1)./u(2) .* (sin(u(2).*t./L + x(3))-sin(x(3)));\n",
    "    y_t = @(t,u,x) x(2) - L.*u(1)./u(2) .* (cos(u(2).*t./L + x(3))-cos(x(3)));\n",
    "    t_t = @(t,u,x) x(3) + t.*u(2)./L ;\n",
    "else\n",
    "    x_t = @(t,u,x) x(1) + t.*u(1).*cos(x(3));\n",
    "    y_t = @(t,u,x) x(2) + t.*u(1).*sin(x(3));\n",
    "    t_t = @(t,u,x) x(3); \n",
    "end\n",
    "xx = x_t(0:dt:3,u,x);\n",
    "yy = y_t(0:dt:3,u,x);\n",
    "plot(xx, yy)\n",
    "grid on"
   ]
  },
  {
   "cell_type": "code",
   "execution_count": 11,
   "metadata": {},
   "outputs": [
    {
     "name": "stdout",
     "output_type": "stream",
     "text": [
      "\u001b[?2004h\u001b[?2004l\u001b[?2004l\u001b[?2004l\u001b[?2004l\u001b[?2004l\u001b[?2004l\u001b[?2004l\u001b[?2004l"
     ]
    },
    {
     "data": {
      "image/png": "[encoded data removed]",
      "text/plain": [
       "<IPython.core.display.Image object>"
      ]
     },
     "metadata": {},
     "output_type": "display_data"
    }
   ],
   "source": [
    "y = x';\n",
    "uni_ana = x';\n",
    "for t=dt:dt:3\n",
    "    y = y + analytics(uni, dt, y, u)';\n",
    "    uni_ana = [uni_ana; y];\n",
    "end\n",
    "\n",
    "plot(uni_ana(:,1), uni_ana(:,2))\n",
    "grid on"
   ]
  },
  {
   "cell_type": "markdown",
   "metadata": {},
   "source": [
    "### Erro entre a solução exata (analítica) e a solução numérica por RK4"
   ]
  },
  {
   "cell_type": "code",
   "execution_count": 12,
   "metadata": {},
   "outputs": [
    {
     "name": "stdout",
     "output_type": "stream",
     "text": [
      "\u001b[?2004h\u001b[?2004l\u001b[?2004l"
     ]
    }
   ],
   "source": [
    "% use dsearch passando como primeiro parâmetro a trajetoria que tem mais linhas, \n",
    "% e como segundo parâmetro a trajetória que tem menos linhas\n",
    "indices = dsearchn(uni_ana(:,1:2), uni_rk4(:,1:2));"
   ]
  },
  {
   "cell_type": "code",
   "execution_count": 13,
   "metadata": {},
   "outputs": [
    {
     "name": "stdout",
     "output_type": "stream",
     "text": [
      "\u001b[?2004h\u001b[?2004l\u001b[?2004l\u001b[?2004l\u001b[?2004l"
     ]
    },
    {
     "data": {
      "image/png": "[encoded data removed]",
      "text/plain": [
       "<IPython.core.display.Image object>"
      ]
     },
     "metadata": {},
     "output_type": "display_data"
    }
   ],
   "source": [
    "% alinha as trajetorias para terem a mesma quantidade de linhas (reduz a trajetória maior)\n",
    "uni_ana_alinhada = uni_ana(indices,:);\n",
    "% calcula o erro entre as trajetorias alinhadas\n",
    "d = uni_ana_alinhada(:,1:2) - uni_rk4(:,1:2);\n",
    "plot(sqrt(sum(d.^2, 2)))"
   ]
  },
  {
   "cell_type": "markdown",
   "metadata": {},
   "source": [
    "#### 2.1.8 - Solução Numérica por Euler"
   ]
  },
  {
   "cell_type": "code",
   "execution_count": 14,
   "metadata": {},
   "outputs": [
    {
     "name": "stdout",
     "output_type": "stream",
     "text": [
      "\u001b[?2004h\u001b[?2004l\u001b[?2004l\u001b[?2004l\u001b[?2004l\u001b[?2004l\u001b[?2004l\u001b[?2004l\u001b[?2004l"
     ]
    },
    {
     "data": {
      "image/png": "[encoded data removed]",
      "text/plain": [
       "<IPython.core.display.Image object>"
      ]
     },
     "metadata": {},
     "output_type": "display_data"
    }
   ],
   "source": [
    "y = x';\n",
    "uni_euler = x';\n",
    "for t=dt:dt:3\n",
    "    y = y + dt * kinematics(uni, [], y, u)';\n",
    "    uni_euler = [uni_euler; y];\n",
    "end\n",
    "\n",
    "plot(uni_euler(:,1), uni_euler(:,2))\n",
    "grid on"
   ]
  },
  {
   "cell_type": "markdown",
   "metadata": {},
   "source": [
    "### Erro entre a solução exata (analítica) e a solução numérica por Euler"
   ]
  },
  {
   "cell_type": "code",
   "execution_count": 15,
   "metadata": {},
   "outputs": [
    {
     "name": "stdout",
     "output_type": "stream",
     "text": [
      "\u001b[?2004h\u001b[?2004l\u001b[?2004l"
     ]
    },
    {
     "data": {
      "image/png": "[encoded data removed]",
      "text/plain": [
       "<IPython.core.display.Image object>"
      ]
     },
     "metadata": {},
     "output_type": "display_data"
    }
   ],
   "source": [
    "% calcula o erro entre as trajetorias alinhadas\n",
    "d = uni_ana(:,1:2) - uni_euler(:,1:2);\n",
    "plot(sqrt(sum(d.^2, 2)))"
   ]
  },
  {
   "cell_type": "markdown",
   "metadata": {},
   "source": [
    "## 2.2 - Modelo Cinemático de Robôs com Direção Ackermann\n",
    "\n",
    "\n",
    "<img src=\"img/fig4_1.svg\" width=\"50%\" height=\"50%\">"
   ]
  },
  {
   "cell_type": "markdown",
   "metadata": {},
   "source": [
    "#### A) Modelo Cinemático com centro de referência no centro do eixo traseiro\n",
    "\n",
    "#### Figura 3. Reformulando o cálculo de theta para o modelo Ackermann.\n",
    "\n",
    "<img src=\"img/ref_rear_theta.png\" width=\"50%\" height=\"50%\">\n"
   ]
  },
  {
   "cell_type": "markdown",
   "metadata": {},
   "source": [
    "\n",
    "#### Figura 4. O modelo cinemático com centro de referência no centro do eixo traseiro.\n",
    "\n",
    "<img src=\"img/ref_rear_ode.png\" width=\"50%\" height=\"50%\">"
   ]
  },
  {
   "cell_type": "markdown",
   "metadata": {},
   "source": [
    "Considerando agora o modelo de direção Ackermann derive as EDO's de posição considerando que a orientação do carro será dada pela equação abaixo e as demais derivadas $dx/dt$ e $dy/dt$ permanecem iguais ao modelo anterior.\n",
    "\n",
    "$$\\dfrac{\\partial x}{\\partial t}=v(t)cos(\\theta)$$\n",
    "$$\\dfrac{\\partial y}{\\partial t}=v(t)sen(\\theta)$$\n",
    "$$\\dfrac{\\partial \\theta}{\\partial t}=\\dfrac{v(t)}{L}tan(\\delta)$$\n",
    "$$\\dfrac{\\partial v}{\\partial t}=a$$"
   ]
  },
  {
   "cell_type": "markdown",
   "metadata": {},
   "source": [
    "#### B) Modelo Cinemático com centro de referência no centro do eixo dianteiro"
   ]
  },
  {
   "cell_type": "code",
   "execution_count": 16,
   "metadata": {},
   "outputs": [
    {
     "name": "stdout",
     "output_type": "stream",
     "text": [
      "\u001b[?2004h\u001b[?2004l\u001b[?2004l\u001b[?2004l\u001b[?2004l\u001b[?2004l\u001b[?2004l\u001b[?2004l\u001b[?2004l\u001b[?2004l\u001b[?2004l"
     ]
    }
   ],
   "source": [
    "% Demonstre a trigonometria para se chegar ao modelo com centro de referência no centro do eixo dianteiro abaixo.\n",
    "\n",
    "% Cateto adjacente-> c.a, cateto oposto-> c.o, tangente-> tan, hipotenusa-> hipo.\n",
    "\n",
    "% θ'=(v/R).\n",
    "\n",
    "% cos(δ + θ)= (c.a/hipo) -> cos(δ + θ)= (xf'/v), logo: xf'= v*cos(δ + θ).\n",
    "\n",
    "% sen(δ + θ)= (c.o/hipo) -> sen(δ + θ)= (yf'/v), portanto yf'= v*sen(δ + θ)\n",
    "\n",
    "% sen (δ) = (L/R) -> R=(L/sen (δ) ), substituindo em θ'=(v/R), temos θ=(v*sen(δ)/l)."
   ]
  },
  {
   "cell_type": "markdown",
   "metadata": {},
   "source": [
    "#### Figura 5. O modelo cinemático com centro de referência no centro do eixo dianteiro.\n",
    "\n",
    "<img src=\"img/ref_front_ode.png\" width=\"50%\" height=\"50%\">\n",
    "\n",
    "\n",
    "#### C) Modelo Cinemático com centro de referência no centro de gravidade"
   ]
  },
  {
   "cell_type": "code",
   "execution_count": 17,
   "metadata": {},
   "outputs": [
    {
     "name": "stdout",
     "output_type": "stream",
     "text": [
      "\u001b[?2004h\u001b[?2004l\u001b[?2004l\u001b[?2004l\u001b[?2004l\u001b[?2004l\u001b[?2004l\u001b[?2004l\u001b[?2004l\u001b[?2004l\u001b[?2004l\u001b[?2004l\u001b[?2004l\u001b[?2004l\u001b[?2004l\u001b[?2004l\u001b[?2004l\u001b[?2004l\u001b[?2004l\u001b[?2004l\u001b[?2004l\u001b[?2004l\u001b[?2004l\u001b[?2004l\u001b[?2004l\u001b[?2004l\u001b[?2004l\u001b[?2004l\u001b[?2004l"
     ]
    }
   ],
   "source": [
    "% Demonstre a trigonometria para se chegar ao modelo com centro de referência no centro de gravidade do veículo abaixo.\n",
    "\n",
    "% Cateto adjacente-> c.a, cateto oposto-> c.o, tangente-> tan, hipotenusa-> hipo.\n",
    "\n",
    "% θ'=(v/R) -> (I).\n",
    "\n",
    "% cos(β + θ)= (c.a/hipo) -> cos(β + θ)= (xc'/v), logo: xc'= v*cos(β + θ).\n",
    "\n",
    "% sen(β + θ)= (c.o/hipo) -> sen(β + θ)= (yc'/v), portanto yc'= v*sen(β + θ)\n",
    "\n",
    "% tan(δ)= (c.o/c.a) ->  tan(δ)= (L/S) -> (II).\n",
    "\n",
    "% cos(β)= (c.a/hipo) -> cos(β)= (S/R), logo S= R*cos(β) -> (III).\n",
    "\n",
    "% Substituindo (III) em (II);\n",
    "\n",
    "% tan(δ)= (L/R*cos(β)) -> R= (L/cos(β)*tan(δ)) ->(IV).\n",
    "\n",
    "% Substituindo (IV) em (I), temos:\n",
    "\n",
    "% θ'=(v/R) -> θ'= (v*cos(β)*tan(δ)/L).\n",
    "\n",
    "%Para calcular β:\n",
    "\n",
    "% tanβ= (c.o/c.a) ->  tanβ= (lr'/S)\n",
    "\n",
    "% Substituindo (III) e (IV) em (V), temos:\n",
    "\n",
    "% tanβ= (lr/R*cos(β)) ->  tanβ= lr * (1/L/cos(β)*tan(β)) * (1/cos(β)) ->  β= arctan(lr*tan(δ)/L)"
   ]
  },
  {
   "cell_type": "markdown",
   "metadata": {},
   "source": [
    "#### Figura 5. O modelo cinemático com centro de referência no centro de gravidade.\n",
    "\n",
    "<img src=\"img/ref_center_ode.png\" width=\"50%\" height=\"50%\">"
   ]
  },
  {
   "cell_type": "markdown",
   "metadata": {},
   "source": [
    "### 2.2.1 - Solução Numerica via EDO's"
   ]
  },
  {
   "cell_type": "code",
   "execution_count": 18,
   "metadata": {},
   "outputs": [
    {
     "name": "stdout",
     "output_type": "stream",
     "text": [
      "\u001b[?2004h\u001b[?2004l\u001b[?2004l\u001b[?2004l"
     ]
    }
   ],
   "source": [
    "L = 2.3; % Wheels baseline (default 4.5m)\n",
    "dt = 0.1; % Time interval (default 0.1)\n",
    "steermax = 1.22; % Maximum steering (default 0.5 radians);\n",
    "accelmax = Inf;"
   ]
  },
  {
   "cell_type": "code",
   "execution_count": 19,
   "metadata": {},
   "outputs": [
    {
     "name": "stdout",
     "output_type": "stream",
     "text": [
      "Bicycle: car = <L=2.300000, amax=Inf, smax=1.220000>\n",
      "\u001b[?2004h"
     ]
    }
   ],
   "source": [
    "addpath('src/trabalho')\n",
    "car = bicycle(L, accelmax, steermax)"
   ]
  },
  {
   "cell_type": "code",
   "execution_count": 20,
   "metadata": {},
   "outputs": [
    {
     "name": "stdout",
     "output_type": "stream",
     "text": [
      "x1 =004h\u001b[?2004l\u001b[?2004l\u001b[?2004l\n",
      "\n",
      "        0\n",
      "        0\n",
      "        0\n",
      "   0.5000\n",
      "\n",
      "u1 =\n",
      "\n",
      "   0.5000   0.5236\n",
      "\n",
      "\u001b[?2004h"
     ]
    }
   ],
   "source": [
    "% Pag. 123\n",
    "x = [0 0 0 0]'; \n",
    "u = [0.5, pi/6];\n",
    "[x1, u1] = kinematics(car, [], x, u)"
   ]
  },
  {
   "cell_type": "code",
   "execution_count": 21,
   "metadata": {},
   "outputs": [
    {
     "name": "stdout",
     "output_type": "stream",
     "text": [
      "\u001b[?2004h\u001b[?2004l\u001b[?2004l"
     ]
    },
    {
     "data": {
      "image/png": "[encoded data removed]",
      "text/plain": [
       "<IPython.core.display.Image object>"
      ]
     },
     "metadata": {},
     "output_type": "display_data"
    }
   ],
   "source": [
    "car_rk4 = path(car, 0:dt:3, u);\n",
    "plot(car_rk4(:,1), car_rk4(:,2))\n",
    "grid on"
   ]
  },
  {
   "cell_type": "markdown",
   "metadata": {},
   "source": [
    "### 2.2.2 - Solução Analitica"
   ]
  },
  {
   "cell_type": "code",
   "execution_count": 22,
   "metadata": {},
   "outputs": [
    {
     "name": "stdout",
     "output_type": "stream",
     "text": [
      "\u001b[?2004h\u001b[?2004l\u001b[?2004l\u001b[?2004l\u001b[?2004l\u001b[?2004l\u001b[?2004l\u001b[?2004l\u001b[?2004l\u001b[?2004l\u001b[?2004l\u001b[?2004l\u001b[?2004l\u001b[?2004l\u001b[?2004l"
     ]
    },
    {
     "data": {
      "image/png": "[encoded data removed]",
      "text/plain": [
       "<IPython.core.display.Image object>"
      ]
     },
     "metadata": {},
     "output_type": "display_data"
    }
   ],
   "source": [
    "% Complete aqui\n",
    "if abs(u(2)) > eps\n",
    "    x_t = @(t,u,x) +(L./tan(u(2))).*(sin((u(1).*tan(u(2)).*t.^2)./(2.*L)));\n",
    "    y_t = @(t,u,x) -(L./tan(u(2))).*(cos((u(1).*tan(u(2)).*t.^2)./(2*L)))+(L./tan(u(2)));\n",
    "else\n",
    "    x_t = @(t,u,x) (u(1).*t.^2)./2;\n",
    "    y_t = @(t,u,x) zeros(1,length(t));\n",
    "end\n",
    "t_t = @(t,u,x) (u(1).*t.^2.*tan(u(2)))./(2.*L);\n",
    "v_t = @(t,u,x) u(1).*t;\n",
    "\n",
    "xx = x_t(0:dt:3,u,x);\n",
    "yy = y_t(0:dt:3,u,x);\n",
    "plot(xx, yy)\n",
    "grid on"
   ]
  },
  {
   "cell_type": "code",
   "execution_count": 23,
   "metadata": {},
   "outputs": [
    {
     "name": "stdout",
     "output_type": "stream",
     "text": [
      "\u001b[?2004h\u001b[?2004l\u001b[?2004l\u001b[?2004l\u001b[?2004l\u001b[?2004l\u001b[?2004l\u001b[?2004l\u001b[?2004l\u001b[?2004l"
     ]
    },
    {
     "data": {
      "image/png": "[encoded data removed]",
      "text/plain": [
       "<IPython.core.display.Image object>"
      ]
     },
     "metadata": {},
     "output_type": "display_data"
    }
   ],
   "source": [
    "y = x';\n",
    "car_ana = x';\n",
    "for t=0:dt:3\n",
    "    y = analytics(car, t, x', u)';\n",
    "    %y = y + analytics(car, dt, y, u)';\n",
    "    car_ana = [car_ana; y];\n",
    "end\n",
    "\n",
    "plot(car_ana(:,1), car_ana(:,2))\n",
    "grid on"
   ]
  },
  {
   "cell_type": "code",
   "execution_count": 24,
   "metadata": {},
   "outputs": [
    {
     "name": "stdout",
     "output_type": "stream",
     "text": [
      "y =2004l\n",
      "\n",
      "   2.1323   0.6187   0.5648   1.5000\n",
      "\n",
      "\u001b[?2004h"
     ]
    }
   ],
   "source": [
    "y"
   ]
  },
  {
   "cell_type": "markdown",
   "metadata": {},
   "source": [
    "### 2.2.3 - Solução Numérica por Euler"
   ]
  },
  {
   "cell_type": "code",
   "execution_count": 25,
   "metadata": {},
   "outputs": [
    {
     "name": "stdout",
     "output_type": "stream",
     "text": [
      "\u001b[?2004h\u001b[?2004l\u001b[?2004l\u001b[?2004l\u001b[?2004l\u001b[?2004l\u001b[?2004l\u001b[?2004l\u001b[?2004l\u001b[?2004l"
     ]
    },
    {
     "data": {
      "image/png": "[encoded data removed]",
      "text/plain": [
       "<IPython.core.display.Image object>"
      ]
     },
     "metadata": {},
     "output_type": "display_data"
    }
   ],
   "source": [
    "% Complete aqui\n",
    "y = x';\n",
    "car_euler = x';\n",
    "for t=dt:dt:3\n",
    "    y = y + dt * kinematics(car, [], y, u)';\n",
    "    car_euler = [car_euler; y];\n",
    "end\n",
    "\n",
    "plot(car_euler(:,1), car_euler(:,2))\n",
    "grid on"
   ]
  },
  {
   "cell_type": "markdown",
   "metadata": {},
   "source": [
    "### 2.2.4 - Mudança de Faixa"
   ]
  },
  {
   "cell_type": "code",
   "execution_count": 26,
   "metadata": {},
   "outputs": [
    {
     "name": "stdout",
     "output_type": "stream",
     "text": [
      "\u001b[?2004h\u001b[?2004l\u001b[?2004l"
     ]
    }
   ],
   "source": [
    "x = [0 0 0 0]; \n",
    "t = 0:0.05:10;\n",
    "[s,sd,sdd] = lspb(0, 5, t);"
   ]
  },
  {
   "cell_type": "code",
   "execution_count": 27,
   "metadata": {},
   "outputs": [
    {
     "name": "stdout",
     "output_type": "stream",
     "text": [
      "\u001b[?2004h\u001b[?2004l\u001b[?2004l"
     ]
    },
    {
     "data": {
      "image/png": "[encoded data removed]",
      "text/plain": [
       "<IPython.core.display.Image object>"
      ]
     },
     "metadata": {},
     "output_type": "display_data"
    }
   ],
   "source": [
    "phi = @(t) (t>3) - (t>4) - (t>5) + (t>6);\n",
    "u = [sdd'; 0.5*phi(t)]';\n",
    "plot(t, u(:,2))"
   ]
  },
  {
   "cell_type": "code",
   "execution_count": 28,
   "metadata": {},
   "outputs": [
    {
     "name": "stdout",
     "output_type": "stream",
     "text": [
      "\u001b[?2004h\u001b[?2004l\u001b[?2004l\u001b[?2004l\u001b[?2004l\u001b[?2004l\u001b[?2004l\u001b[?2004l\u001b[?2004l"
     ]
    }
   ],
   "source": [
    "n = length(t);\n",
    "yy = [x];\n",
    "for i=1:n-1\n",
    "    xx = yy(i,:);\n",
    "    tt = [t(i) t(i+1)];\n",
    "    uu = u(i+1,:);\n",
    "    [T Y] = ode45( @(t,x,u) kinematics(car, t, x, u), tt, xx, uu);\n",
    "    yy = [yy; Y(end,:)];\n",
    "end"
   ]
  },
  {
   "cell_type": "code",
   "execution_count": 29,
   "metadata": {},
   "outputs": [
    {
     "name": "stdout",
     "output_type": "stream",
     "text": [
      "\u001b[?2004h"
     ]
    },
    {
     "data": {
      "image/png": "[encoded data removed]",
      "text/plain": [
       "<IPython.core.display.Image object>"
      ]
     },
     "metadata": {},
     "output_type": "display_data"
    }
   ],
   "source": [
    "plot(yy(:,1), yy(:,2))"
   ]
  },
  {
   "cell_type": "markdown",
   "metadata": {},
   "source": [
    "### 2.2.5 - Trajetórias"
   ]
  },
  {
   "cell_type": "markdown",
   "metadata": {},
   "source": [
    "### 2.2.5.1 - Trajetória Circular (Rotatória)\n",
    "\n",
    "Plote um círculo com pontos linearmente espaçados cujo raio descreva a trajetório de um veículo com direção Ackermann."
   ]
  },
  {
   "cell_type": "code",
   "execution_count": 6,
   "metadata": {},
   "outputs": [
    {
     "name": "stdout",
     "output_type": "stream",
     "text": [
      "\u001b[?2004h\u001b[?2004l\u001b[?2004l\u001b[?2004l\u001b[?2004l\u001b[?2004l\u001b[?2004l\u001b[?2004l\u001b[?2004l\u001b[?2004l\u001b[?2004l\u001b[?2004l\u001b[?2004l\u001b[?2004l\u001b[?2004l\u001b[?2004l\u001b[?2004l\u001b[?2004l\u001b[?2004l"
     ]
    },
    {
     "data": {
      "image/png": "[encoded data removed]",
      "text/plain": [
       "<IPython.core.display.Image object>"
      ]
     },
     "metadata": {},
     "output_type": "display_data"
    }
   ],
   "source": [
    "% Complete aqui\n",
    "addpath('src/trabalho')\n",
    "f = @(x) sqrt(15^2 - (x).^2);\n",
    "\n",
    "k = [-15:0.1:15];\n",
    "y = [f(k) -f(k)];\n",
    "x = [k -k];\n",
    "\n",
    "\n",
    "rotatoria = [x' y'];\n",
    "\n",
    "rotatoria = mstraj(rotatoria, [10,10], [], [-15 0], 0.1, 1);\n",
    "rotatoria = [rotatoria 10*ones(length(rotatoria),1)];\n",
    "\n",
    "plot(rotatoria(:,1), rotatoria(:,2));\n",
    "grid\n",
    "hold on\n",
    "xlabel('x')\n",
    "ylabel('y')"
   ]
  },
  {
   "cell_type": "markdown",
   "metadata": {},
   "source": [
    "### 2.2.5.2 - Trajetória Quadrada (Quarteirão)\n",
    "\n",
    "Plote os pontos de um quadrado equivalente as dimensões de um quarteirão."
   ]
  },
  {
   "cell_type": "code",
   "execution_count": 7,
   "metadata": {},
   "outputs": [
    {
     "name": "stdout",
     "output_type": "stream",
     "text": [
      "\u001b[?2004h\u001b[?2004l\u001b[?2004l\u001b[?2004l\u001b[?2004l\u001b[?2004l\u001b[?2004l\u001b[?2004l\u001b[?2004l\u001b[?2004l\u001b[?2004l\u001b[?2004l\u001b[?2004l"
     ]
    },
    {
     "data": {
      "image/png": "[encoded data removed]",
      "text/plain": [
       "<IPython.core.display.Image object>"
      ]
     },
     "metadata": {},
     "output_type": "display_data"
    }
   ],
   "source": [
    "% Complete aqui\n",
    "addpath('src/trabalho')\n",
    "quart = [20 0; 20 40; -20 40; -20 0; -0.5 0];\n",
    "quart = mstraj(quart, [10,10], [], [0 0], 0.1, 1);\n",
    "quart = [quart 10*ones(length(quart),1)];\n",
    "\n",
    "plot(quart(:,1), quart(:,2));\n",
    "grid\n",
    "hold on\n",
    "xlabel('Coordenadas em X')\n",
    "ylabel('Coordenadas em Y')\n",
    "title('Quarteirao')\n",
    "hold off"
   ]
  },
  {
   "cell_type": "markdown",
   "metadata": {},
   "source": [
    "### 2.2.5.3 - Trajetória Curvilínea (Pista de corrida)\n",
    "\n",
    "Plote os pontos de uma trajetória em formato de oito \"8\" que simule as dimensões de uma pista de corrida."
   ]
  },
  {
   "cell_type": "code",
   "execution_count": 8,
   "metadata": {},
   "outputs": [
    {
     "name": "stdout",
     "output_type": "stream",
     "text": [
      "\u001b[?2004h\u001b[?2004l\u001b[?2004l\u001b[?2004l\u001b[?2004l"
     ]
    },
    {
     "data": {
      "image/png": "[encoded data removed]",
      "text/plain": [
       "<IPython.core.display.Image object>"
      ]
     },
     "metadata": {},
     "output_type": "display_data"
    }
   ],
   "source": [
    "addpath('src/trabalho')\n",
    "viapoints = [20 20; -20 40; 0 60; 20 40; -20 20; -0.5 0];\n",
    "viapoints = mstraj(viapoints, [10,10], [], [0 0], 0.1, 1);\n",
    "viapoints = [viapoints 10*ones(length(viapoints),1)];\n",
    "plot(viapoints(:,1), viapoints(:,2));"
   ]
  },
  {
   "cell_type": "markdown",
   "metadata": {},
   "source": [
    "## Amostragem temporal e espacial\n",
    "\n",
    "Rode a simulação para as três trajetórias (quarteirão, rotatória, pista de corrida) com diferentes intervalos de distância ($\\delta s=1m$, $\\delta s=3m$, $\\delta s=5m$) entre os waypoints que definem as trajetórias. Para tal verifique se o parâmetro Look-Ahead-Distance do controlador lateral (Pure-Pursuit) dentro da função [main.m](src/trabalho/main.m) é maior que o $\\delta s$.\n",
    "\n",
    "Rode a simulação para as três trajetórias (quarteirão, rotatória, pista de corrida) com diferentes intervalos de tempo $\\delta t=\\frac{1}{F}$. Onde $F$ é a frequência em Hertz dos três principais sensores utilizados em veículos autônomos: Velodyne LiDAR 32, GPS Trimble e Câmeras."
   ]
  },
  {
   "cell_type": "code",
   "execution_count": null,
   "metadata": {},
   "outputs": [],
   "source": [
    "ds = 1.0;\n",
    "viapointsXm = viapoints(1,:);\n",
    "for i = 2:length(viapoints)\n",
    "    if norm(viapoints(i,1:2)-viapointsXm(end,1:2)) >= ds\n",
    "        viapointsXm = [viapointsXm; viapoints(i,:)];\n",
    "    end\n",
    "end"
   ]
  },
  {
   "cell_type": "markdown",
   "metadata": {},
   "source": [
    "## 2.3 - Controlador de posição e velocidade\n",
    "\n",
    "Teste o controlador abaixo nas trajetórias definidas anteriormente para diferentes $\\delta t$ e $\\delta s$. "
   ]
  },
  {
   "cell_type": "code",
   "execution_count": null,
   "metadata": {},
   "outputs": [],
   "source": [
    "%%time\n",
    "\n",
    "x = [0 0 0 0]; \n",
    "dt = 1/20;\n",
    "lookahead = 1.0; % look ahead distance (should be greater than ds)\n",
    "baseline = 4.5; % Wheels baseline (default 4.5m)\n",
    "accelmax = 9.5; % Tesla Model S (96Km/h em 2.8s)\n",
    "steermax = 1.22; % Maximum steering (default 0.5 radians);\n",
    "\n",
    "trajectory = main(x, dt, baseline, accelmax, steermax, lookahead, viapoints);"
   ]
  },
  {
   "cell_type": "code",
   "execution_count": null,
   "metadata": {},
   "outputs": [],
   "source": [
    "plot(viapoints(:,1), viapoints(:,2), 'b');\n",
    "hold on\n",
    "plot(trajectory(:,1), trajectory(:,2), 'r');"
   ]
  },
  {
   "cell_type": "markdown",
   "metadata": {},
   "source": [
    "### 2.3.1 - Controlador de velocidade (Longitudinal)\n",
    "\n",
    "<img src=\"img/pid_control.jpg\" width=\"50%\" height=\"50%\">"
   ]
  },
  {
   "cell_type": "code",
   "execution_count": null,
   "metadata": {},
   "outputs": [],
   "source": [
    "% Complete aqui"
   ]
  },
  {
   "cell_type": "markdown",
   "metadata": {},
   "source": [
    "### 2.3.2 - Controlador de posição (Lateral)\n",
    "\n",
    "<img src=\"img/pure_pursuit_4.png\" width=\"50%\" height=\"50%\">"
   ]
  },
  {
   "cell_type": "code",
   "execution_count": null,
   "metadata": {},
   "outputs": [],
   "source": [
    "% Complete aqui"
   ]
  },
  {
   "cell_type": "markdown",
   "metadata": {},
   "source": [
    "## 2.4 - Análise do Erro Total (Arrendondamento e Truncamento)\n",
    "\n",
    "Faça uma análise do Erro Total (Arrendondamento e Truncamento) envolvido na aproximação da pose (posição e orientação) de veículos autônomos levando-se em conta as diferentes frequências de amostragem dos sensores comumente utilizados. Plote um gráfico do erro em relação a frequência de amostragem para os erros de arrendondamento e truncamento."
   ]
  },
  {
   "cell_type": "code",
   "execution_count": null,
   "metadata": {},
   "outputs": [],
   "source": [
    "% Complete aqui"
   ]
  },
  {
   "cell_type": "markdown",
   "metadata": {},
   "source": [
    "## 2.5 - Passos para Implementação em C++\n",
    "\n",
    "- Observe que o Unreal Engine 4 usa o sistema de coordenadas da mão esquerda, de modo que o eixo X no gráfico é invertido\n",
    "- Determinar o timestep (delta t) da simulação\n",
    "- Salvar/Carregar Waypoints\n",
    "- Obter a posição e velocidade atuais do carro\n",
    "- Encontre o waypoint mais próximo (próximo) do carro.\n",
    "- Interpolar Waypoints: como os waypoints são discretos e nosso controlador tem um desempenho melhor com um caminho contínuo, enviaremos um subconjunto dos waypoints a uma certa distância do ponto mais próximo do veículo. A interpolação entre cada waypoint fornecerá um caminho de resolução mais fino e o tornará mais \"contínuo\". Uma interpolação linear simples é usada como método preliminar para resolver esse problema, embora seja melhor abordada com métodos de interpolação melhores (interpolação por spline, por exemplo).\n",
    "- Enviar valores atuais do estado do veiculo para o controlador: x, y, theta, velocidade\n",
    "- Obter comandos do controlador aceleração/throttle (entre 0 e 1), direção/steer (entre -1.22rad e 1.22rad), e freio/brake (entre 0 e 1) \n",
    "- Enviar comandos para simulação (ODE)"
   ]
  },
  {
   "cell_type": "code",
   "execution_count": null,
   "metadata": {},
   "outputs": [],
   "source": []
  }
 ],
 "metadata": {
  "kernelspec": {
   "display_name": "Octave",
   "language": "octave",
   "name": "octave"
  },
  "language_info": {
   "file_extension": ".m",
   "help_links": [
    {
     "text": "GNU Octave",
     "url": "https://www.gnu.org/software/octave/support.html"
    },
    {
     "text": "Octave Kernel",
     "url": "https://github.com/Calysto/octave_kernel"
    },
    {
     "text": "MetaKernel Magics",
     "url": "https://metakernel.readthedocs.io/en/latest/source/README.html"
    }
   ],
   "mimetype": "text/x-octave",
   "name": "octave",
   "version": "\u001b[?2004h"
  }
 },
 "nbformat": 4,
 "nbformat_minor": 4
}

{
 "cells": [
  {
   "cell_type": "markdown",
   "metadata": {},
   "source": [
    "# Redes Neurais Artificiais\n",
    "\n",
    "Redes neurais artificiais (RNAs) foram originalmente concebidas em meados do século XX como um modelo computacional do cérebro humano. Sua utilização foi pequena inicialmente devido ao limitado poder computacional disponível na época, além de algumas questões teóricas que somente foram resolvidas em meados da década de 1980. \n",
    "\n",
    "## Introdução\n",
    "\n",
    "Duas décadas após o ressurgimento das RNAs com a criação do algoritmo de retropropagação de erro em 1986, aliado a um crescente numero dados rotulados e o aumento do poder de processamento em placas gráficas se tornou possivel treinar redes neurais profundas (com mais de três camadas) com técnicas que ficaram conhecidas como **Deep Learning**. Um dos exemplos mais famosos de Deep Learning é o artigo [\"Gato do Youtube\"](https://arxiv.org/abs/1112.6209), de Andrew Ng et al. Para outro exemplo mais recente aplicado em robótica veja esse [artigo](https://arxiv.org/abs/1805.03183) e esse [video](https://www.youtube.com/watch?v=B_UgAlsW99s&feature=youtu.be) de Avelino Forechi et al.\n",
    "\n",
    "Esta aula aborda os fundamentos das RNAs, ou seja, redes de uma única camada. Mesmo simples abordaremos três aplicações: regressão linear, classificação entre duas classes usando o algoritmo perceptron e classificação multi-classe."
   ]
  },
  {
   "cell_type": "markdown",
   "metadata": {},
   "source": [
    "## Histórico\n",
    "\n",
    "O primeiro marco na história das redes neurais artificiais ocorreu com a apresentação de um modelo de neurônio artificial por [McCulloch and Pitts, 1943](https://link.springer.com/article/10.1007/BF02478259). As atividades nessa linha de pesquisa culminaram na concepção do perceptron por [Rosenblatt, 1958](http://dx.doi.org/10.1037/h0042519) e em outro modelo semelhante, o adaline por [Widrow and Hoff, 1960](http://www-isl.stanford.edu/~widrow/papers/c1960adaptiveswitching.pdf). \n",
    "\n",
    "O perceptron é capaz de classificar entre classes que são linearmente separáveis. Foi usado para reconhecer por exemplo caracteres. Essa aplicação foi realizada em uma máquina chamada MARK I PERCEPTRON e causou uma grande euforia certamente exagerada em relação a imaginação das capacidades de futuros robôs inteligentes. \n",
    "\n",
    "A característica importante do perceptron foi a apresentação de um algoritmo de aprendizagem capaz de adaptar os pesos internos do neurônio de maneira que fosse capaz de resolver o problema de classificação linear, em caso da separabilidade linear das classes.\n",
    "\n",
    "O caso exemplar das limitações do perceptron é o problema “Ou exclusivo” (XOR)\n",
    "(f(0,0) = f(1,1) = 0, f(0,1) = f(1,0) = 1) que prova que uma função tão simples de classificação não pode ser calculada pelo perceptron. \n",
    "\n",
    "Essa crítica centrou-se no livro “Perceptrons” de [Minsky and Papert, 1969](https://mitpress.mit.edu/books/perceptrons). O impacto dessa crítica foi tão grande que a comunidade científica abandonou a área das redes neurais artificiais, com a exceção de alguns pesquisadores por exemplo Fukushima, Grossberg, Hopfield e Kohonen.\n",
    "\n",
    "A solução para o problema XOR já era conhecida. Bastava acrescentar mais uma camada de neurônios na rede (uma camada escondida). O que faltava era um algoritmo que fosse capaz de treinar os pesos dessa rede multi-camada para que pudesse classificar corretamente problemas mais complexos. \n",
    "\n",
    "Várias soluções equivalentes foram descobertas durante os anos seguintes, más só a publicação do algoritmo de “retropropagação de erro” (error backpropagation) por [Rumelhart et al., 1986] popularizou uma solução de carácter universal para esse tipo de problema.\n"
   ]
  },
  {
   "cell_type": "markdown",
   "metadata": {},
   "source": [
    "## Teoria\n",
    "\n",
    "A terminologia da rede neural é inspirada nas operações biológicas de células chamadas neurônios. Um neurônio é uma célula que possui várias entradas que podem ser ativadas por algum processo externo. Dependendo da quantidade de ativação, o neurônio produz sua própria atividade e envia isto ao longo de suas saídas. Além disso, caminhos de entrada ou saída específicos podem ser \"reforçados\" ou ponderados mais que outros caminhos. \n",
    "\n",
    "A hipótese é que, como o cérebro humano é formado por uma rede de neurônios, podemos emular o cérebro modelando um neurônio e conectando-o por meio de um grafo de conexões com pesos (caminhos ponderados).\n",
    "\n",
    "O equivalente artificial de uma célula neuronal é um nó (também chamado de neurônio artificial) que recebe um conjunto de entradas ponderadas, calcula a soma das entradas ponderadas para ser utilizada pela função de ativação $ \\phi $, que repassa o resultado da função de ativação para os nós mais adiante no grafo. \n",
    "\n",
    "Graficamente, se parece com o seguinte:\n",
    "\n",
    "<img src=\"img/node.png\" width=\"50%\" height=\"50%\">\n",
    "\n",
    "Observe que é mais simples representar a entrada para nossa função de ativação como um produto escalar:\n",
    "\n",
    "$$ \\phi \\left(\\sum_i w_i a_i\\right) = \\phi(\\mathbf{w}^T\\mathbf a) $$\n",
    "\n",
    "Existem várias funções de ativação: \n",
    "- Podemos usar uma função de ativação linear ou identidade:\n",
    "$$ \\phi (\\mathbf{w}^T \\mathbf{a}) = \\mathbf{w}^T \\mathbf{a} $$\n",
    "\n",
    "- Outro exemplo é a função de ativação sigmóide:\n",
    "$$ \\phi (\\mathbf{w}^T\\mathbf{a}) = \\frac{1} {1+\\exp(-\\mathbf{w}^T \\mathbf{a})} $$\n",
    "\n",
    "- Mais um exemplo é a função de ativação tangente hiperbólica tanh:\n",
    "$$ \\phi (\\mathbf{w}^T\\mathbf{a}) = \\mbox{tanh} (\\mathbf{w}^T\\mathbf{a}) $$\n",
    "\n",
    "Podemos então formar uma rede neural juntando esses nós. Geralmente isso é feito em camadas - as saídas de uma camada de nós são conectadas às próximas entradas da camada."
   ]
  },
  {
   "cell_type": "code",
   "execution_count": 2,
   "metadata": {},
   "outputs": [
    {
     "data": {
      "image/png": "[encoded data removed]",
      "text/plain": [
       "<IPython.core.display.Image object>"
      ]
     },
     "metadata": {},
     "output_type": "display_data"
    }
   ],
   "source": [
    "% plote a função sigmoide no intervalo [-10 10]\n",
    "sigmoid = @(x) 1 ./ (1 + exp(-x));\n",
    "ezplot(sigmoid, [-10 10])\n",
    "\n",
    "% plote a tangente hiperbólica no intervalo [-10 10]"
   ]
  },
  {
   "cell_type": "markdown",
   "metadata": {},
   "source": [
    "## Topologia\n",
    "\n",
    "O potencial e flexibilidade do cálculo baseado em redes neurais vêm da criação de conjuntos de neurônios que estão interligados entre si. \n",
    "\n",
    "Esse paralelismo de elementos com processamento local cria a “inteligência” global da rede. Um elemento da rede recebe um estimulo nas suas entradas, processa esse sinal e emite um novo sinal de saída para fora que por sua vez é recebido pelos outros elementos.\n",
    "\n",
    "Uma categorização fundamental da topologia dos neurônios pode ser feita em relação ao método de propagação da informação recebida, veja a figura abaixo. \n",
    "\n",
    "<img src=\"img/topologia.png\" width=\"50%\" height=\"50%\">\n",
    "\n",
    "Pode-se distinguir entre redes de propagação para frente (feedforward) e redes realimentadas (recurrent). \n",
    "- No caso das redes de propagação para frente o fluxo de informação é unidirecional. \n",
    "- No caso das redes realimentadas não há restrições para estabelecer ligações entre os neurônios. \n",
    "\n",
    "Neurônios que recebem a informação simultaneamente agrupam-se em camadas. Camadas que não estão ligadas às **entradas** e nem às **saídas** da rede chamam-se **camadas ocultas**."
   ]
  },
  {
   "cell_type": "markdown",
   "metadata": {},
   "source": [
    "## Paradigmas de Aprendizagem\n",
    "\n",
    "Uma vez definida a rede neural, essa tem que ser treinada. Isso significa que os graus de liberdade que a rede dispõe, para solucionar a tarefa em consideração, têm que ser adaptados\n",
    "de uma maneira ótima. \n",
    "\n",
    "Normalmente, isso significa que temos que modificar os pesos $w_{ij}$ entre o neurônio $i$ e o neurônio $j$, segundo um algoritmo. Um conjunto finito de n exemplos de treino está à nossa disposição para adaptar os pesos durante a fase de treinamento da rede.\n",
    "\n",
    "Uma distinção principal em relação ao paradigma de aprendizagem que é válido para todo tipo de sistemas com capacidade de adaptação é aprendizagem **supervisionada** e aprendizagem **não-supervisionada**.\n",
    "\n",
    "### Aprendizagem supervisionada\n",
    "\n",
    "Nosso objetivo é treinar uma rede usando dados rotulados para que possamos fornecer um conjunto de entradas e produzir as saídas apropriadas para dados ainda não rotulados. \n",
    "\n",
    "Podemos fazer isso porque temos tanto a entrada $ \\mathbf{x}_i $ quanto a saída de destino desejada $ y_i $ na forma de pares de dados. \n",
    "\n",
    "O treinamento, nesse caso, envolve o aprendizado dos pesos corretos associados a cada sinapse do neurônio para produzir a saída de destino, dada a entrada. \n",
    "\n",
    "A rede e seus pesos treinados formam uma função (denotada $ h $) que opera nos dados de entrada. \n",
    "\n",
    "Com a rede treinada, podemos fazer previsões considerando qualquer entrada de teste não rotulada.\n",
    "\n",
    "<img src=\"img/training_testing.png\" width=\"50%\" height=\"50%\">\n",
    "\n"
   ]
  },
  {
   "cell_type": "markdown",
   "metadata": {},
   "source": [
    "Podemos treinar uma rede neural para realizar regressão ou classificação. Nesta parte, vou mostrar a regressão linear com uma rede de camada única. Redes de classificação e multicamadas serão cobertas posteriormente.\n",
    "\n",
    "## Regressão linear\n",
    "\n",
    "A regressão linear é a forma mais simples de regressão. Modelamos nosso sistema com uma combinação linear de sinapses para produzir uma saída. Isto é,\n",
    "\n",
    "$$ y_i = h(\\mathbf{x}_i,\\mathbf{w}) = \\mathbf{w}^T \\mathbf{x}_i $$\n",
    "\n",
    "Nossa tarefa é, então, encontrar os pesos que fornecem o melhor ajuste aos nossos dados de treinamento. Uma forma de medir nosso ajuste é calcular o erro (ou perda) de mínimos quadrados sobre nosso conjunto de dados:\n",
    "\n",
    "$$ L(\\mathbf{w}) = \\sum_i(e_i)^2 = \\sum_i\\left(h(\\mathbf{x}_i, \\mathbf{w}) - y_i\\right)^2$$\n",
    "\n",
    "Para encontrar a linha de melhor ajuste, devemos minimizar $ L (\\mathbf{w}) $. Que possui uma solução analitica fechada para mínimos quadrados, mas em geral podemos minimizar a perda usando gradiente descendente."
   ]
  },
  {
   "cell_type": "markdown",
   "metadata": {},
   "source": [
    "### Treino\n",
    "\n",
    "Então, o que isso tem a ver com redes neurais? De fato, a rede neural mais simples que existe faz a regressão por mínimos quadrados. Considere a seguinte rede neural de camada única, com um único nó que usa uma função de ativação linear:\n",
    "\n",
    "<img src=\"img/linear_1layer.png\" width=\"50%\" height=\"50%\">\n",
    "\n",
    "Essa rede toma como entrada um conjunto de dados com duas sinapses $ x_i^{(1)}, x_i^{(2)} $, pondera as sinapses com $ w_1, w_2 $ e as soma para ao final fazer uma predição. \n",
    "\n",
    "Poderíamos definir uma rede que coleta dados com mais sinapses, mas teríamos que monitorar mais pesos, por exemplo, $ w_1, \\ldots, w_j $ com $ j $ sinapses.\n",
    "\n",
    "Se usarmos a função de erro quadrático para medir o desempenho de nossa rede, ela seria idêntica ao erro definido para a regressão de mínimos quadrados acima:\n",
    "\n",
    "$$ L (\\mathbf{w}) = \\sum_i \\left(h(\\mathbf{x}_i, \\mathbf{w}) - y_i\\right)^2$$\n",
    "\n",
    "Este é o erro quadrático total das previsões da nossa rede sobre todo o nosso conjunto de treinamento em $i$.\n"
   ]
  },
  {
   "cell_type": "markdown",
   "metadata": {},
   "source": [
    "Em seguida, usaremos método de otimização gradiente descendente sobre o gradiente do erro $ \\nabla_ {\\mathbf{w}} L(\\mathbf{w}) $ para minimizar o erro geral nos dados de treinamento. \n",
    "\n",
    "Primeiro derivamos o gradiente do erro em relação a um peso específico $ w_{j \\rightarrow k} $ (que é apenas o peso da sinapse que conecta o nó $ j $ ao nó $ k $ [note que tratamos as entradas como \"nós\" logo existe um peso $ w_{j \\rightarrow k} $ para cada conexão da entrada (sinapse) para um nó da primeira camada]) no caso geral:\n",
    "\n",
    "$$ \\begin{align} \\frac{\\partial}{\\partial w_{j \\rightarrow k}} L(\\mathbf{w}) =& \\frac{\\partial}{\\partial w_{j \\rightarrow k}} \\sum_i \\left(h(\\mathbf{x}_i, \\mathbf{w})-y_i\\right)^2\\\\ =& \\sum_i \\frac{\\partial}{\\partial w_{j \\rightarrow k}} \\left(h(\\mathbf{x}_i, \\mathbf{w})-y_i\\right)^2\\\\ =& \\sum_i 2\\left(h(\\mathbf{x}_i, \\mathbf{w})-y_i\\right) \\frac{\\partial}{\\partial w_{j \\rightarrow k}} h(\\mathbf{x}_i, \\mathbf{w}) \\end{align} $$\n",
    "\n",
    "Neste ponto, devemos calcular o gradiente da função da rede neural em relação ao peso em questão ($ \\frac{\\partial}{\\partial w_{j \\rightarrow k}} h(\\mathbf{x}_i, \\mathbf{w}) $). No caso de uma rede de camada única, isso acaba sendo bem simples.\n",
    "\n",
    "Lembre-se da rede mais simples de duas entradas acima. A função da rede é $ h(\\mathbf{x}_i, \\mathbf{w}) = w_1x_i^{(1)} + w_2x_i^{(2)} $. O gradiente em relação a $ w_1 $ é apenas $ x_1 $ e o gradiente em relação a $ w_2 $ é apenas $ x_2 $. \n",
    "\n",
    "Geralmente armazenamos todos os pesos da nossa rede em um vetor ou matriz, então o gradiente completo é:\n",
    "$$ \\nabla_{\\mathbf{w}}L(\\mathbf{w}) = \\left(\\frac{\\partial L(\\mathbf{w})}{\\partial w_1}, \\frac{\\partial L(\\mathbf{w})}{\\partial w_2}\\right) = \\left(\\sum_i 2x_i^{(1)}\\mathbf{e}_i, \\sum_i 2x_i^{(2)}\\mathbf{e}_i\\right) $$\n",
    "\n",
    "Com isso, nós podemos atualizar os pesos da rede usando o método de descida gradiente padrão:\n",
    "\n",
    "$$ \\mathbf{w} = \\mathbf{w} - \\eta \\nabla_{\\mathbf{w}} L(\\mathbf{w}) $$\n",
    "\n",
    "Assim como em todos os métodos de gradiente descendente, deve-se ter cuidado ao selecionar o tamanho do passo \"correto\" $ \\eta $, onde \"correto\" é dependente do problema. Depois de uma quantidade definida de épocas, os pesos que encontramos definem a reta com o melhor ajuste aos dados treinados."
   ]
  },
  {
   "cell_type": "markdown",
   "metadata": {},
   "source": [
    "### Teste\n",
    "\n",
    "Com nossa rede treinada, o teste consiste em obter uma previsão para cada conjunto de teste $ x_i $ usando $ h (\\mathbf{x}_i, \\mathbf{w}) $. O erro de teste é calculado com a função de erro quadrático, exatamente como no treinamento:\n",
    "\n",
    "$$ L(\\mathbf{w}) = \\sum_i \\left( h(\\mathbf{x}_i, \\mathbf{w}) - y_i\\right)^2 = \\sum_i \\left( \\hat{y}_i - y_i\\right)^2 $$"
   ]
  },
  {
   "cell_type": "markdown",
   "metadata": {},
   "source": [
    "## Exemplo\n",
    "\n",
    "Para essa implementação, usaremos o peso de um carro para prever seu desempenho em Milhas por Galão (MPG). Os dados são algo como estes exibidos no gráfico de dispersão:\n",
    "\n",
    "<img src=\"img/mpg.png\" width=\"75%\" height=\"75%\">\n",
    "\n",
    "Observe que essa relação não parece ser linear - a regressão linear provavelmente não encontrará a relação subjacente entre peso e MPG. No entanto, ele encontrará uma linha que modela os dados \"muito bem\".\n",
    "\n",
    "Como em nossas aulas, usarei o Octave e matplotlib (para plotagem). Para começar, vamos primeiro carregar os dados do MPG do mpg.csv:"
   ]
  },
  {
   "cell_type": "code",
   "execution_count": 14,
   "metadata": {},
   "outputs": [
    {
     "name": "stdout",
     "output_type": "stream",
     "text": [
      "N =  393\n"
     ]
    }
   ],
   "source": [
    "% Carrega os dados e cria as matrizes de dados X e Y\n",
    "% Isso cria um vetor de entrada X com uma coluna de uns (bias) e uma coluna de pesos de carros.\n",
    "% O vetor alvo Y é uma coluna de valores MPG para cada carro.\n",
    "\n",
    "X_file = csvread('mpg.csv');\n",
    "N = size(X_file)(1)\n",
    "X = [ones(N,1) X_file(:,5)];\n",
    "Y = X_file(:,1);"
   ]
  },
  {
   "cell_type": "code",
   "execution_count": 15,
   "metadata": {},
   "outputs": [
    {
     "data": {
      "image/png": "[encoded data removed]",
      "text/plain": [
       "<IPython.core.display.Image object>"
      ]
     },
     "metadata": {},
     "output_type": "display_data"
    }
   ],
   "source": [
    "% Normaliza a entrada\n",
    "media = mean(X(:, 2));\n",
    "sigma = std(X(:, 2));\n",
    "X(:, 2) = (X(:, 2) - media)/sigma;\n",
    "\n",
    "# Plota os dados\n",
    "plot(X(:, 2), Y, 'kx')\n",
    "xlabel('Peso')\n",
    "ylabel('MPG')\n",
    "title('Gráfico de Dispersão')\n",
    "\n"
   ]
  },
  {
   "cell_type": "code",
   "execution_count": 16,
   "metadata": {},
   "outputs": [
    {
     "name": "stdout",
     "output_type": "stream",
     "text": [
      "max_iter =  100\n",
      "eta =  0.0010000\n",
      "Pesos encontrados:\n",
      "w =\n",
      "\n",
      "   23.3863   -6.1818\n",
      "\n"
     ]
    }
   ],
   "source": [
    "% Há dois pesos, um para o bias e outro para a entrada\n",
    "w = [0, 0];\n",
    "\n",
    "% Inicie o batch de treinamento usando gradiente descendente, \n",
    "% ele será executado por max_iter épocas e terá uma taxa de aprendizado igual a eta\n",
    "max_iter = 100\n",
    "eta = 1E-3\n",
    "for t = 1:max_iter\n",
    "    %Precisamos fazer uma iteração sobre cada conjunto de dados de uma época\n",
    "    grad_t = [0, 0];\n",
    "    for i = 1:N\n",
    "        x_i = X(i, :);\n",
    "        y_i = Y(i);\n",
    "        # Produto escalar, calcula h(x_i, w)\n",
    "        h = dot(w, x_i);\n",
    "        e = h - y_i;\n",
    "        grad_t += 2*x_i*e;\n",
    "    end\n",
    "    # Atualiza os pesos\n",
    "    w = w - eta*grad_t;\n",
    "end\n",
    "disp(\"Pesos encontrados:\")\n",
    "w"
   ]
  },
  {
   "cell_type": "code",
   "execution_count": 34,
   "metadata": {},
   "outputs": [
    {
     "data": {
      "image/png": "[encoded data removed]",
      "text/plain": [
       "<IPython.core.display.Image object>"
      ]
     },
     "metadata": {},
     "output_type": "display_data"
    }
   ],
   "source": [
    "# Plote os dados e a linha de melhor ajuste\n",
    "x = linspace(min(X(:, 2)), max(X(:, 2)), 10);\n",
    "\n",
    "h = @(x,w) w(1)+w(2)*x;\n",
    "\n",
    "plot(X(:, 2), Y, 'kx')\n",
    "hold on\n",
    "plot(tt, h(x,w), 'r-')\n",
    "\n",
    "peso_normalizado_carro_novo = (3000-media)/sigma;\n",
    "mpg_predito_carro_novo = h(peso_normalizado_carro_novo, w);\n",
    "scatter(peso_normalizado_carro_novo, mpg_predito_carro_novo, 400,'b','filled');\n",
    "\n",
    "xlabel('Peso')\n",
    "ylabel('MPG')\n",
    "title('Regressão com RNA')"
   ]
  },
  {
   "cell_type": "markdown",
   "metadata": {},
   "source": [
    "## O que torna a rede neural artificial melhor que a regressão linear simples?\n",
    "\n",
    "Uma rede neural artificial sem camadas ocultas é capaz de resolver problemas de regressão linear, mas assim que você começa a adicionar camadas adicionais, a rede adquire a capacidade de resolver problemas de regressão não linear. A regressão linear pode inclusive ser resolvida por um subconjunto de neurônios de uma rede com arquitetura profunda."
   ]
  },
  {
   "cell_type": "markdown",
   "metadata": {},
   "source": [
    "## Classificação Linear\n",
    "\n",
    "Até então vimos apenas o uso de redes neurais para regressão linear. Mas e se quisermos fazer uma classificação usando uma rede de camada única? \n",
    "\n",
    "Veremos dois métodos: o algoritmo do perceptron e o uso de uma função de ativação sigmóide para gerar uma medida de verossimilhança. \n",
    "\n",
    "## Teoria\n",
    "\n",
    "## Perceptron de Camada Única\n",
    "\n",
    "Talvez a rede neural mais simples que podemos definir para classificação binária seja o perceptron de camada única. Dada uma entrada, o neurônio de saída é acionado (produz uma saída igual a 1) somente se o ponto de dados pertencer à classe de destino. Caso contrário, ele não dispara (produz uma saída igual a -1). A rede é algo assim:\n",
    "\n",
    "<img src=\"img/sl_perceptron.png\" width=\"50%\" height=\"50%\">\n",
    "\n",
    "Em vez de usar uma função de ativação linear como na regressão linear, usamos uma função de sinal. Lembre-se da definição da função de sinal:\n",
    "\n",
    "$$ \\mbox{sign}(\\mathbf{w}^T\\mathbf{x}_i) = \\begin{cases} 1 &\\mbox{if }\\mathbf{w}^T\\mathbf{x}_i > 0 \\\\ 0 &\\mbox{if }\\mathbf{w}^T\\mathbf{x}_i = 0 \\\\ -1 &\\mbox{if }\\mathbf{w}^T\\mathbf{x}_i < 0 \\end{cases} $$\n",
    "\n",
    "Nesta, estamos calculando o produto escalar de uma amostra de dados com nosso vetor de pesos. Pontos com projeções positivas receberão um rótulo 1 e pontos com projeções negativas receberão um rótulo -1. "
   ]
  },
  {
   "cell_type": "code",
   "execution_count": null,
   "metadata": {},
   "outputs": [],
   "source": [
    "?sign"
   ]
  },
  {
   "cell_type": "markdown",
   "metadata": {},
   "source": [
    "Consequentemente, nosso limite de decisão será perpendicular ao nosso vetor de peso. Por quê? Considere um problema de decisão bidimensional. O limite de decisão é a linha em que é igualmente provável que qualquer ponto nesta linha pertença a qualquer das classes, ou seja, $ h(\\mathbf{x}_i, \\mathbf{w}) = \\mbox{sign}(\\mathbf{w}^T\\mathbf{x}_i) = 0 $, or $ \\mathbf{w}^T\\mathbf{x}_i = 0 $. Assim temos:\n",
    "\n",
    "$$ \\begin{align} \\mathbf{w}^T\\mathbf{x}_i =& 0\\\\ w_1+w_2x_i^{(2)} + w_3x_i^{(3)} =& 0\\\\ x_i^{(3)} =& -\\frac{w_2}{w_3}x_i^{(2)} -\\frac{w_1}{w_3} \\end{align} $$\n",
    "\n",
    "Neste caso, $ x_i^{(1)} $ é omitido pois o bias é sempre igual a 1, $ x_i ^ {(2)} $ é \"$ x $\" no plano cartesiano e $ x_i ^ {(3)} $ é \"$ y $\". \n",
    "\n",
    "A inclinação do nosso vetor de peso no plano cartesiano é $ \\frac{w_3}{w_2} $ (o componente \"$ y $\" de $ \\mathbf{w} $ é $ w_3 $ e o componente \"$ x $\" é $ w_2 $), enquanto a inclinação do limite de decisão é $ - \\frac{w_2}{w_3} $ (tornando-os perpendiculares). \n",
    "\n",
    "Graficamente, temos:\n",
    "\n",
    "<img src=\"img/linear_db.png\" width=\"25%\" height=\"25%\">\n",
    "\n",
    "O problema que enfrentamos agora é que a função de sinal não é continuamente diferenciável, e não podemos usar a descida de gradiente padrão para aprender os pesos. Portanto, usaremos o algoritmo perceptron propriamente dito. \n",
    "\n",
    "Esse algoritmo é um método iterativo usado para atualizar sucessivamente os pesos que definem um limite linear se e somente se esse limite não classificar um ponto de treinamento corretamente. O algoritmo é o seguinte:\n",
    "\n",
    "Inicialize o vetor de pesos $ \\mathbf{w} $ para todos com zeros.\n",
    "Repita o seguinte:\n",
    "1. Para cada exemplo de treinamento $ \\mathbf{x}_i $:\n",
    "    - Se $ h (\\mathbf {x}_i, \\mathbf {w}) \\neq y_i $, então atualize os pesos com $ \\mathbf {w} '= \\mathbf {w} + \\eta y_i \\mathbf{x}_i $  (aqui, $ \\eta $ é o tamanho do passo).\n",
    "2. Se a condição de parada $ \\frac {1} {N} \\sum_{j = 0} ^ M | w_j '- w_j | <\\delta $ é atingido, então aceite $ \\mathbf {w} $ como o vetor de peso final ($ M $ nesse caso é o número de dimensões de entrada).\n",
    "\n",
    "Se o nosso problema é linearmente separável, o algoritmo do perceptron é garantido para convergir. Portanto, ao termino do algoritmo, acabaremos com um limite de decisão linear definido por $ \\mathbf {w} $.\n",
    "\n",
    "Finalmente, se quisermos predizer o rótulo $ \\hat {y}_i $ de um exemplo de teste $ \\mathbf {x}_i $, usamos $ \\hat {y}_i = \\mbox {sign} (\\mathbf {w } ^ T \\mathbf {x}_i) $.\n",
    "\n",
    "Para implementar essa teoria, treinaremos um conjunto de pesos que classificam dois grupos de dados 2D usando o algoritmo perceptron. Vamos começar definindo nossos dados 2D!"
   ]
  },
  {
   "cell_type": "code",
   "execution_count": 1,
   "metadata": {},
   "outputs": [
    {
     "name": "stdout",
     "output_type": "stream",
     "text": [
      "N_c =  100\n",
      "N =  200\n"
     ]
    }
   ],
   "source": [
    "# Generate two random clusters of 2D data\n",
    "N_c = 100\n",
    "A = 0.3*randn(N_c, 2)+[1, 1];\n",
    "B = 0.3*randn(N_c, 2)+[3, 3];\n",
    "X = [ones(2*N_c, 1), vertcat(A, B)];\n",
    "Y = [-1*ones(N_c, 1), ones(N_c, 1)];\n",
    "N = 2*N_c"
   ]
  },
  {
   "cell_type": "markdown",
   "metadata": {},
   "source": [
    "Esse código gera dois agrupamentos 2D centralizados em torno dos pontos (1, 1) e (3, 3). Em seguida, acrescenta 1 a cada ponto, que é o nosso bias. Por fim, ele atribui o rótulo 1 a um agrupamento e o rótulo -1 ao outro agrupamento. Os exemplos são colocados na matriz $ X $ e os rótulos no vetor $ Y $.\n",
    "\n",
    "Em seguida, executamos o algoritmo do perceptron para aprender os pesos:"
   ]
  },
  {
   "cell_type": "code",
   "execution_count": 2,
   "metadata": {},
   "outputs": [
    {
     "name": "stdout",
     "output_type": "stream",
     "text": [
      "Converged in 8 steps.Weights found:\n",
      "w =\n",
      "\n",
      "  -0.0900000  -0.0035505   0.0462122\n",
      "\n"
     ]
    }
   ],
   "source": [
    "# Algoritmo perceptron\n",
    "delta = 1E-7;\n",
    "eta = 1E-2;\n",
    "max_iter = 500;\n",
    "w = [0, 0, 0];\n",
    "w_old = [0, 0, 0];\n",
    "for t = 1:max_iter\n",
    "    for i = 1:N\n",
    "        x_i = X(i, :);\n",
    "        y_i = Y(i);\n",
    "        h = sign(dot(w, x_i));\n",
    "        if h ~= y_i\n",
    "            w = w+eta*y_i*x_i;\n",
    "        end\n",
    "    end\n",
    "    if (1/N)*abs(sum(w_old-w)) < delta\n",
    "        fprintf (\"Converged in %d steps.\", t);\n",
    "        break\n",
    "    end\n",
    "    w_old = w;\n",
    "\n",
    "    if t==max_iter\n",
    "        disp (\"Warning, did not converge.\");\n",
    "    end\n",
    "end\n",
    "disp (\"Weights found:\");\n",
    "w"
   ]
  },
  {
   "cell_type": "markdown",
   "metadata": {},
   "source": [
    "Este trecho segue o algoritmo do perceptron diretamente. Na linha 5, inicializamos os pesos em 0. Na linha 6, também inicializamos um vetor que armazena os pesos anteriores, que usaremos para testar a condição de parada. \n",
    "\n",
    "Observe que executamos o algoritmo um numero maximo de iterações max_iter para que ele não seja executado indefinidamente se o problema não for separável.\n",
    "\n",
    "Na linha 12, nós testamos para ver se $ h (\\mathbf {x}_i) = y_i $, e se não atualizamos os pesos de acordo. \n",
    "\n",
    "Finalmente, testamos a condição de parada na linha 16.\n",
    "\n",
    "Em um teste em particular, você pode ver que o algoritmo convergiu em 6 etapas:\n",
    "\n",
    "<img src=\"img/two_class.gif\" width=\"50%\" height=\"50%\">\n",
    "\n",
    "E se, em vez de usar o perceptron, quiséssemos aprender uma sigmoide usando gradiente descendente? Podemos usar o mesmo procedimento para descida de gradiente, conforme detalhado na regressão linear. No entanto, fizemos inicialmente a descida de gradiente por uma quantidade definida de épocas.\n",
    "\n",
    "Aqui nós introduzimos uma condição alternativa de parada. A heurística é a seguinte: se a norma do gradiente for pequena, devemos estar próximos do mínimo da função. Assim, se definirmos um limite para a norma do gradiente e ele ficar abaixo desse limite em uma etapa, paramos. \n"
   ]
  },
  {
   "cell_type": "code",
   "execution_count": 9,
   "metadata": {},
   "outputs": [
    {
     "data": {
      "image/png": "[encoded data removed]",
      "text/plain": [
       "<IPython.core.display.Image object>"
      ]
     },
     "metadata": {},
     "output_type": "display_data"
    }
   ],
   "source": [
    "tt = linspace(min(X(:, 2)), max(X(:, 2)), 10);\n",
    "bf_line = -w(1)/w(3)-w(2)/w(3)*tt;\n",
    "plot(X(1:N_c, 2), X(1:N_c, 3), 'ro', X(N_c:end, 2), X(N_c:end, 3), 'bo', tt, bf_line, 'k-')"
   ]
  },
  {
   "cell_type": "markdown",
   "metadata": {},
   "source": [
    "## Classificação com uma função de ativação sigmóide (softmax)\n",
    "\n",
    "Em vez de um classificador do tipo \"tudo ou nada\" (como a função de sinal), é útil encontrar alguma forma de medir a probabilidade de atribuição, ou seja, $ P( Y = y_i\\ |\\ X = \\mathbf{x}_i, \\mathbf{w} ) $. Se pudermos calcular essa probabilidade, podemos usar como uma medida de confiança de nossas previsões.\n",
    "\n",
    "Em vez de usar uma função de ativação de sinal, podemos usar uma sigmóide (geralmente chamado softmax na literatura de rede neural) para gerar uma probabilidade:\n",
    "\n",
    "$$ P(Y = y\\ |\\ X = \\mathbf{x}_i, \\mathbf{w}) = \\frac{1}{1+\\exp\\left(-y\\mathbf{w}^T\\mathbf{x}_i\\right)}$$\n",
    "\n",
    "Mas como podemos atribuir um rótulo de uma classe quando dado apenas uma probabilidade? Podemos simplesmente \"limitar\" a probabilidade usando uma função de sinal, de modo que qualquer $ P(Y = 1\\ |\\ \\mathbf{x}_i, \\mathbf{w}) \\geq 0.5$ receba um rótulo de classe 1, e qualquer probabilidade menor que 0,5 recebe um rótulo de classe -1. Nossa rede simples agora se parece com o seguinte:\n",
    "\n",
    "<img src=\"img/linear_sigmoid.png\" width=\"50%\" height=\"50%\">\n",
    "\n",
    "Felizmente, essa função é idêntica à probabilidade usada pela regressão logística. Como a sigmoide é diferenciável, podemos usar gradiente padrão para treinar os pesos em vez do algoritmo do perceptron. Para uma derivação do gradiente para regressão logística, veja abaixo.\n",
    "\n",
    "A probabilidade de nossos dados definidos por regressão logística é: $$ P(D_Y | D_X, \\mathbf{w}) = \\prod_i^N \\frac{1}{1+\\exp(-y_i\\mathbf{w}^T\\mathbf{x_i})} $$ \n",
    "\n",
    "Então a probabilidade do log é: $$ \\ell(\\mathbf{w}) = \\log(P(D_Y | D_X, \\mathbf{w})) = -\\sum_i^N \\log(1+\\exp(-y_i\\mathbf{w}^T\\mathbf{x}_i) $$ \n",
    "\n",
    "Para a subida do gradiente, estamos tentando selecionar $ \\mathbf{w} $ para maximizar a probabilidade do log. \n",
    "\n",
    "Para fazer isso, devemos primeiro calcular o gradiente: $$\\begin{align} \\nabla_{\\mathbf{w}}\\ell(\\mathbf{w}) &= \\frac{\\partial}{\\partial \\mathbf{w}} \\left(-\\sum_i^N \\log(1+\\exp(-y_i\\mathbf{w}^T\\mathbf{x}_i))\\right)\\\\ &= \\sum_i^N \\frac{y_i\\mathbf{x}_i\\exp(-y_i\\mathbf{w}^T\\mathbf{x_i})}{1+\\exp(-y_i\\mathbf{w}^T\\mathbf{x}_i)} \\end{align}$$ \n",
    "\n",
    "Porque $$ 1 - P(y_i | \\mathbf{x}_i, \\mathbf{w}) = \\frac{\\exp(-y_i\\mathbf{w}^T\\mathbf{x_i})}{1+\\exp(-y_i\\mathbf{w}^T\\mathbf{x}_i)} $$ o gradiente é $$ \\nabla_{\\mathbf{w}}\\ell(\\mathbf{w}) = \\sum_i^N y_i\\mathbf{x}_i(1-P(y_i | \\mathbf{x}_i, \\mathbf{w})) $$ \n",
    "\n",
    "Para evitar ter que mudar a taxa de aprendizado para diferentes tamanhos de conjuntos de dados, podemos dividir a taxa pelo número de exemplos: $$ \\nabla_{\\mathbf{w}}\\ell(\\mathbf{w}) = \\frac{1}{N}\\sum_i^N y_i\\mathbf{x}_i(1-P(y_i | \\mathbf{x}_i, \\mathbf{w})) $$\n",
    "\n",
    "Para implementar essa teoria, estaremos aprendendo um conjunto de pesos que classificam dois grupos de dados 2D usando o gradiente descendente."
   ]
  },
  {
   "cell_type": "code",
   "execution_count": 17,
   "metadata": {},
   "outputs": [
    {
     "name": "stdout",
     "output_type": "stream",
     "text": [
      "w =\n",
      "\n",
      "   0   0   0\n",
      "\n",
      "Converged in 466 steps.Weights found:\n",
      "w =\n",
      "\n",
      "  -5.5629   1.6095   1.3967\n",
      "\n"
     ]
    }
   ],
   "source": [
    "# Run gradient descent\n",
    "delta = 1E-7;\n",
    "eta = 1E-3;\n",
    "max_iter = 1000;\n",
    "w = [0, 0, 0]\n",
    "grad_thresh = 5;\n",
    "for t = 1:max_iter\n",
    "    grad_t = [0., 0., 0.];\n",
    "    for i = 1:N\n",
    "        x_i = X(i, :);\n",
    "        y_i = Y(i);\n",
    "\n",
    "        grad_t += y_i*x_i*(exp(-y_i*dot(w, x_i)))/(1+exp(-y_i*dot(w, x_i)));\n",
    "    end\n",
    "    w = w + eta*grad_t;\n",
    "    grad_norm = norm(grad_t,2);\n",
    "    if grad_norm < grad_thresh\n",
    "        fprintf( \"Converged in %d steps.\", t);\n",
    "        break\n",
    "    end\n",
    "end\n",
    "disp (\"Weights found:\")\n",
    "w"
   ]
  },
  {
   "cell_type": "markdown",
   "metadata": {},
   "source": [
    "Na linha 13, calculamos o gradiente de acordo com a derivação da sigmoide. Nas linhas 16-17, verificamos se chegamos à condição de parada. Esta é uma heurística simples que pode não funcionar em todos os casos, mas funciona bem o suficiente para um problema simples como este."
   ]
  },
  {
   "cell_type": "code",
   "execution_count": 18,
   "metadata": {},
   "outputs": [
    {
     "data": {
      "image/png": "[encoded data removed]",
      "text/plain": [
       "<IPython.core.display.Image object>"
      ]
     },
     "metadata": {},
     "output_type": "display_data"
    }
   ],
   "source": [
    "tt = linspace(min(X(:, 2)), max(X(:, 2)), 10);\n",
    "bf_line = -w(1)/w(3)-w(2)/w(3)*tt;\n",
    "plot(X(1:N_c, 2), X(1:N_c, 3), 'ro', X(N_c:end, 2), X(N_c:end, 3), 'bo', tt, bf_line, 'k-')"
   ]
  },
  {
   "cell_type": "code",
   "execution_count": null,
   "metadata": {},
   "outputs": [],
   "source": []
  }
 ],
 "metadata": {
  "kernelspec": {
   "display_name": "Octave",
   "language": "octave",
   "name": "octave"
  },
  "language_info": {
   "file_extension": ".m",
   "help_links": [
    {
     "text": "GNU Octave",
     "url": "https://www.gnu.org/software/octave/support.html"
    },
    {
     "text": "Octave Kernel",
     "url": "https://github.com/Calysto/octave_kernel"
    },
    {
     "text": "MetaKernel Magics",
     "url": "https://metakernel.readthedocs.io/en/latest/source/README.html"
    }
   ],
   "mimetype": "text/x-octave",
   "name": "octave",
   "version": "5.1.0"
  }
 },
 "nbformat": 4,
 "nbformat_minor": 4
}

{
 "cells": [
  {
   "cell_type": "markdown",
   "metadata": {},
   "source": [
    "# Programando com Matlab\n",
    "\n",
    "## Objetivos\n",
    "- Aprender a criar scripts Matlab (arquivos M) bem documentados na janela de edição e invocá-los da janela de comando.\n",
    "\n",
    "- Entender a diferença entre arquivos de script e de função.\n",
    "\n",
    "- Compreender como incorporar os comentários de ajuda em funções.\n",
    "\n",
    "- Saber como configurar scripts Matlab para que eles interajam  com os usuários para solicitação de informação e exibição de resultados na janela de comando.\n",
    "\n",
    "- Compreender o papel de subfunções e como são acessadas.\n",
    "\n",
    "- Saber como criar e recuperar arquivos de dados.\n",
    "\n",
    "- Aprender a escrever scripts Matlab claros e bem documentados, empregando conceitos de programação estruturada para implementar lógica e repetição.\n",
    "\n",
    "- Reconhecer a diferença entre if ... elseif e switch.\n",
    "\n",
    "- Reconhecer a diferença entre for ... end e while.\n",
    "\n",
    "- Compreender o que é vetorização e seu beneficio.\n",
    "\n",
    "- Saber como criar graficos animados em MATLAB.\n",
    "\n",
    "## Scripts Matlab (arquivos M)\n",
    "- Enquanto os comandos podem ser inseridos diretamente na janela de comando, MATLAB também permite que você coloque os comandos em arquivos de texto com extensão M, ou seja, arquivos M.\n",
    "\n",
    "- Existem dois tipos principais de arquivos M:\n",
    "    - Arquivos de script\n",
    "    - Arquivos de função\n",
    "\n",
    "## Arquivos de script\n",
    "\n",
    "- Um arquivo de script é apenas um conjunto de comandos MATLAB que são salvos em um arquivo - quando MATLAB executa um arquivo de script, é como se você tivesse digitado na janela de comando os caracteres armazenados no arquivo.\n",
    "\n",
    "- Scripts podem ser executados digitando seu nome (sem a extensão .m) na janela de comando, selecionando os botões Debug, Run (ou Save and Run) na janela de edição, ou pressionando a tecla F5 enquanto estiver na janela de edição. \n",
    "\n",
    "- Note-se que as duas últimas opções irá salvar qualquer edições feitas, enquanto o primeiro será executado o arquivo tal como ele existe no disco.\n",
    "\n",
    "## Arquivos de função\n",
    "- Arquivos de funções servem a um propósito completamente diferente de arquivos de script. \n",
    "- Arquivos de função podem aceitar argumentos de entrada e retornar saídas para a janela de comando.\n",
    "- As variáveis criadas e manipuladas dentro da função não afetam a janela de comando.\n",
    "\n",
    "## Sintaxe de arquivos de função\n",
    "A sintaxe geral é a seguinte:"
   ]
  },
  {
   "cell_type": "code",
   "execution_count": null,
   "metadata": {},
   "outputs": [],
   "source": [
    "function retorno = funcao(parametro)\n",
    "    % comentários\n",
    "    retorno = parametro;\n",
    "endfunction"
   ]
  },
  {
   "cell_type": "code",
   "execution_count": null,
   "metadata": {},
   "outputs": [],
   "source": [
    "funcao(10)"
   ]
  },
  {
   "cell_type": "markdown",
   "metadata": {},
   "source": [
    "## Subfunções\n",
    "- Um arquivo de função pode conter uma única função, mas também pode conter uma função principal e uma ou mais subfunções\n",
    "- A função principal é a função que aparece em primeiro lugar no arquivo-M e seu nome deve ser o mesmo que o nome do arquivo.\n",
    "- Subfunções aparecem abaixo da função principal. \n",
    "    - Note que elas são acessíveis apenas pela função principal e subfunções dentro do mesmo arquivo-M e não pela janela de comando ou quaisquer outras funções ou scripts externos.\n",
    "\n",
    "## Funções anônimas\n",
    "- As funções anônimas permitem criar funções simples sem desenvolver um arquivo-M e podem ser definidas na própria janela de comandos com a seguinte sintaxe\n",
    "\n",
    "        fhandler = @(lista_de_argumentos) expressão\n",
    "\n",
    "- onde fhandle é o identificador da função, seguido da lista de argumentos (parâmetros) e uma expressão válida do MATLAB. Por exemplo:"
   ]
  },
  {
   "cell_type": "code",
   "execution_count": 1,
   "metadata": {},
   "outputs": [
    {
     "name": "stdout",
     "output_type": "stream",
     "text": [
      "f1 =\n",
      "\n",
      "@(x, y) x ^ 2 + y ^ 2\n",
      "\n"
     ]
    }
   ],
   "source": [
    "f1 = @(x, y) x^2 + y^2"
   ]
  },
  {
   "cell_type": "code",
   "execution_count": 2,
   "metadata": {},
   "outputs": [
    {
     "name": "stdout",
     "output_type": "stream",
     "text": [
      "ans =  25\n"
     ]
    }
   ],
   "source": [
    "f1(3, 4)"
   ]
  },
  {
   "cell_type": "markdown",
   "metadata": {},
   "source": [
    "\n",
    "## O comando de entrada input\n",
    "- A maneira mais fácil de obter um valor do usuário é o comando de entrada:\n",
    "- MATLAB exibe a mensagem entre aspas, e armazena o valor digitado em n.  \n",
    "    - Por exemplo, se for digitado pi, n armazenará 3.1416…"
   ]
  },
  {
   "cell_type": "code",
   "execution_count": null,
   "metadata": {},
   "outputs": [],
   "source": [
    "n = input('Digite um valor: ')"
   ]
  },
  {
   "cell_type": "markdown",
   "metadata": {},
   "source": [
    "- MATLAB exibe a mensagem entre aspas, e armazena o valor digitado em n como uma string. \n",
    "    - Por exemplo, se for digitado pi, n armazenará as letras p e i em um vetor de caracteres 2x1."
   ]
  },
  {
   "cell_type": "code",
   "execution_count": null,
   "metadata": {},
   "outputs": [],
   "source": [
    "n = input('Digite um texto: ', 's')"
   ]
  },
  {
   "cell_type": "markdown",
   "metadata": {},
   "source": [
    "## O comando de saida disp\n",
    "- A maneira mais fácil para exibir o valor de uma matriz é digitar o seu nome, mas isso não vai funcionar em arquivos de função ou de script. Ao inves, use o comando disp"
   ]
  },
  {
   "cell_type": "code",
   "execution_count": null,
   "metadata": {},
   "outputs": [],
   "source": [
    "disp(n)"
   ]
  },
  {
   "cell_type": "markdown",
   "metadata": {},
   "source": [
    "- exibirá o conteudo da variável entre parentesis na tela.\n",
    "\n",
    "- Se quiser exibir uma mensagem (ou seja, uma constante do tipo string), envolva-a entre aspas simples.\n",
    "\n",
    "## Exibindo dados formatados\n",
    "- Para saída formatada, ou para a saída gerada pela combinação de valores de variáveis com texto literal, use o comando fprintf:\n",
    "    fprintf('format', x, y,...)\n",
    "\tonde format é uma cadeia de caracteres que especifica como se deseja que o valor das variáveis x, y, e demais  sejam exibidos - incluindo texto literal a ser impresso juntamente com os valores.\n",
    "\n",
    "- Os valores das variáveis são formatados com base em códigos de formatação.\n",
    "\n",
    "## Códigos de formatação\n",
    "- Considerando a string format, os seguintes códigos de formato definem como um valor numérico é exibido :\n",
    "    - %d – formato inteiro\n",
    "    - %e – formato científico com letras minúscula e \n",
    "    - %E – formato científico com letras minúscula E\n",
    "    - %f – formato decimal\n",
    "- Os seguintes códigos de controle produzem resultados especiais dentro da string format:\n",
    "    - \\n – inicia uma nova linha\n",
    "    - \\t – acrescenta tabulação\n",
    "    - \\\\ – imprime uma barra \\"
   ]
  },
  {
   "cell_type": "code",
   "execution_count": null,
   "metadata": {},
   "outputs": [],
   "source": [
    "fprintf('Imprime o valor de PI com 7 casas decimais: %.7f\\n', pi)"
   ]
  },
  {
   "cell_type": "markdown",
   "metadata": {},
   "source": [
    "## Criando e acessando arquivos\n",
    "- MATLAB tem um formato de arquivo interno que pode ser utilizado para guardar e ler os valores de variáveis.\n",
    "    - save filename var1 var2 ... varn: salva as variáveis listadas em um arquivo chamado filename.mat. Se nenhuma variável estiver na lista, todas as variáveis são salvas.\n",
    "    - load filename var1 var2 ...varn: carrega as variáveis listadas a partir de um arquivo chamado filename.mat. Se nenhuma variável estiver na lista, todas as variáveis no arquivo são carregadas. \n",
    "    \n",
    "- **Nota - estes não são arquivos de texto!**"
   ]
  },
  {
   "cell_type": "code",
   "execution_count": null,
   "metadata": {},
   "outputs": [],
   "source": [
    "save 'filename.mat' n\n",
    "load 'filename.mat' n\n",
    "n"
   ]
  },
  {
   "cell_type": "markdown",
   "metadata": {},
   "source": [
    "## Arquivos texto (formato ASCII)\n",
    "- Para criar arquivos legíveis pelo usuário, anexe o parametro -ascii ao final do comando save. Isto irá salvar os dados em um arquivo de texto da mesma forma que o comando disp envia os dados para a tela.\n",
    "- Note que, neste caso, o MATLAB não acrescenta nada ao nome do arquivo. Você pode adicionar uma extensão como .txt ou .dat.\n",
    "- Para carregar uma matriz a partir de um arquivo de texto, basta usar o comando load e o nome do arquivo. Os dados serão copiados para uma matriz com o mesmo nome do arquivo (sem qualquer extensão)."
   ]
  },
  {
   "cell_type": "code",
   "execution_count": null,
   "metadata": {},
   "outputs": [],
   "source": [
    "m = 11 * ones(10);\n",
    "save -ascii 'filename.txt' m\n",
    "load 'filename.txt'\n",
    "filename"
   ]
  },
  {
   "cell_type": "markdown",
   "metadata": {},
   "source": [
    "## Programação estruturada\n",
    "- Programação estruturada permite ao MATLAB tomar decisões ou fazer seleções com base nas condições do programa.\n",
    "- Decisões em MATLAB são baseadas no resultado de operações lógicas e relacionais e são implementados com estruturas if, if ... else, e if … elseif.\n",
    "- Seleções em MATLAB são baseadas em comparações com uma expressão de teste e são implementados com estruturas de switch.\n",
    "\n",
    "## Operadores relacionais\n",
    "\n",
    "![](img/Picture13.png)\n",
    "\n",
    "## Operadores lógicos\n",
    "- ~x (Not): verdadeiro (true) se x for falso (ou zero); falso (false) caso contrário\n",
    "- x & y (And): verdadeiro se ambos x e y forem verdadeiro (ou diferente de zero)\n",
    "- x | y (Or): verdadeiro se x ou y forem verdadeiro (ou diferente de zero)\n",
    "\n",
    "## Precedência de operadores\n",
    "- A prioridade pode ser definida usando parênteses. Depois disso, as expressões matemáticas de mais alta prioridade são: os operadores relacionais e depois os operadores lógicos. No caso de empate, as expressões são avaliadas da esquerda para a direita.\n",
    "- O operador de negação Not (~) é o operador lógico de maior prioridade, seguido pelo And e pelo Or\n",
    "- Geralmente, não se deve combinar dois operadores relacionais!\n",
    "    - Se x=5, 3<x<4 deve ser falso (matematicamente), mas se for calculado como uma expressão em MATLAB : 3<5<4, seria true<4, true é convertido para 1, e 1<4 seria verdadeiro!\n",
    "    - Use (3<x)&(x<4) para obter o resultado apropriado.\n",
    "    \n",
    "## Estruturas de decisão\n",
    "- Decisões são tomadas em MATLAB usando estruturas **if**, que também podem incluir várias alternativas **elseif** e também uma opção else para tratar as exceções.\n",
    "\n",
    "- Decidir qual caminho tomar vai depender do resultado das condições serem verdadeiras ou falsas.  \n",
    "    - Se um if tree for verdadeiro, essa alternativa (e apenas ela) será executda. \n",
    "    - Se um if tree for falso, a alternativa else será executada.\n",
    "\n",
    "- Observação: se a condição for uma matriz, é considerado verdadeiro se e somente se todas as entradas forem verdadeiras (ou não-zero)."
   ]
  },
  {
   "cell_type": "code",
   "execution_count": null,
   "metadata": {},
   "outputs": [],
   "source": [
    "n = input('Digite um valor: ')\n",
    "if n > 0\n",
    "    disp('positivo\\n')\n",
    "elseif n < 0\n",
    "    disp('negativo\\n')\n",
    "else\n",
    "    disp('zero')\n",
    "end    "
   ]
  },
  {
   "cell_type": "markdown",
   "metadata": {},
   "source": [
    "## Estruturas de seleção\n",
    "- As seleções são feitas em MATLAB usando estruturas de switch, que pode também incluir uma alternativa otherwise para tratar exceções as escolhas apresentadas.\n",
    "- Decidir qual alternativa escolher é baseada na comparação do valor de uma expressão de teste com valores associados aos mais diferentes casos (case).\n",
    "    - Se a expressão de teste corresponde ao valor associado a um caso especifico, o ramo desse caso será executado.\n",
    "    - Se a expressão de teste não corresponder a nenhum caso e houver uma declaração otherwise, esta será executada.\n",
    "\n",
    "## Estruturas de repetição\n",
    "- Uma outra estrutura de programação envolve loops, onde as mesmas linhas de código são executadas várias vezes. Existem dois tipos:\n",
    "    - A estrutura for que termina após um determinado número de repetições estabelecidas pelo número de colunas dada a um índice de variável.\n",
    "    - A estrutura while que termina baseada em uma condição lógica.\n",
    "\n",
    "## A estrutura for\n",
    "- A sintaxe para a estrutura **for** é a seguinte:\n",
    "    - onde a variavel index assume os valores sucessivos do vetor criado usando o operador (:)."
   ]
  },
  {
   "cell_type": "code",
   "execution_count": null,
   "metadata": {},
   "outputs": [],
   "source": [
    "% substitua as variáveis start, step e finish por valores apropriados\n",
    "% que a variável index assuma valores pares entre 1 e 300\n",
    "for index = start:step:finish  \n",
    "    % utilize o comando disp para imprimir os valores de index\n",
    "end"
   ]
  },
  {
   "cell_type": "markdown",
   "metadata": {},
   "source": [
    "## Vetorização\n",
    "- Às vezes, é mais eficiente fazer o MATLAB executar cálculos em uma matriz inteira de vez do que processar uma matriz elemento por elemento. Isto pode ser feito através da vetorização."
   ]
  },
  {
   "cell_type": "code",
   "execution_count": null,
   "metadata": {},
   "outputs": [],
   "source": [
    "% Estrutura for\n",
    "i = 0;\n",
    "for t = 0:0.02:50\n",
    "    i = i + 1;\n",
    "    y(i) = cos(t);\n",
    "end\n",
    "\n",
    "% Vetorização\n",
    "t = 0:0.02:50;\n",
    "y = cos(t);"
   ]
  },
  {
   "cell_type": "markdown",
   "metadata": {},
   "source": [
    "## A estrutura while\n",
    "- Uma estrutura while é fundamentalmente diferente de uma estrutura for pois o while pode executar um número indeterminado de vezes. \n",
    "- A sintaxe geral segue abaixo, onde condition é uma expressão lógica.  \n",
    "    - Se condition  for true, os comandos dentro do while serão executados, para em seguida reiniciar o loop e testar novamente a condition.\n",
    "\n",
    "- Observação: embora a condição possa tornar-se falsa a medida que as declarações estão em execução, a única vez que importa é depois que todos os comandos dentro do while tenham sido executados."
   ]
  },
  {
   "cell_type": "code",
   "execution_count": null,
   "metadata": {},
   "outputs": [],
   "source": [
    "condition = true\n",
    "while condition \n",
    "    % outros comandos\n",
    "    condition = false\n",
    "end\n",
    "condition"
   ]
  },
  {
   "cell_type": "markdown",
   "metadata": {},
   "source": [
    "## Finalização antecipada\n",
    "- Às vezes será útil finalizar mais cedo um loop for ou while - isso pode ser feito usando uma instrução break, geralmente em conjunto com uma estrutura if.\n",
    "Exemplo: Produz os seguintes valores para x: 24, 19, 14, 9, 4, -1, e então finaliza."
   ]
  },
  {
   "cell_type": "code",
   "execution_count": null,
   "metadata": {},
   "outputs": [],
   "source": [
    "x = 24\n",
    "while (1)\n",
    "    x = x - 5\n",
    "    if x < 0, break, end\n",
    "end"
   ]
  },
  {
   "cell_type": "markdown",
   "metadata": {},
   "source": [
    "## Identação e aninhamento de estruturas \n",
    "- As estruturas podem ser colocadas dentro de outras estruturas. Por exemplo, dentro de uma estrutura for pode haver multiplas estruturas **if...elseif...else**.\n",
    "- Para maior clareza da leitura, as declarações de uma estrutura são geralmente destinadas a mostrar que linhas de codigo estão sob o controle de que estrutura."
   ]
  }
 ],
 "metadata": {
  "kernelspec": {
   "display_name": "Octave",
   "language": "octave",
   "name": "octave"
  },
  "language_info": {
   "file_extension": ".m",
   "help_links": [
    {
     "text": "GNU Octave",
     "url": "https://www.gnu.org/software/octave/support.html"
    },
    {
     "text": "Octave Kernel",
     "url": "https://github.com/Calysto/octave_kernel"
    },
    {
     "text": "MetaKernel Magics",
     "url": "https://github.com/calysto/metakernel/blob/master/metakernel/magics/README.md"
    }
   ],
   "mimetype": "text/x-octave",
   "name": "octave",
   "version": "4.4.0"
  }
 },
 "nbformat": 4,
 "nbformat_minor": 2
}

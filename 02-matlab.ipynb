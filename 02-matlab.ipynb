{
 "cells": [
  {
   "cell_type": "markdown",
   "metadata": {},
   "source": [
    "# Fundamentos de Matlab\n",
    "\n",
    "## Objetivos\n",
    "\n",
    "- Aprender como números reais e complexos são atribuídos a variáveis.\n",
    "- Aprender como vetores e matrizes são atribuídos valores usando atribuição simples, o operador de cor, e as funções LINSPACE e LOGSPACE.\n",
    "- Compreender as regras de precedência para a construção de expressões matemáticas.\n",
    "- Ganhar uma compreensão geral de funções internas do MATLAB e como você pode aprender mais sobre elas com o Menu de Ajuda do MATLAB.\n",
    "- Aprender a usar vetores para criar um gráfico de linha simples com base em uma equação.\n",
    "\n",
    "## O ambiente de desenvolvimento MATLAB\n",
    "\n",
    "- MATLAB possui três janelas principais:\n",
    "    - Janela de Comandos - usada para inserir comandos e dados\n",
    "    - Janela de Gráficos - usada para exibir desenhos e graficos\n",
    "    - Janela de Edição - usada para criar e editar arquivos texto com extensão M\n",
    "- Dependendo da arquitetura do seu computador e da versão do MATLAB, essas janelas podem ter aparências diferentes.\n",
    "\n",
    "## Modo Calculadora\n",
    "- A janela de comando do MATLAB pode ser usada como uma calculadora onde você pode digitar comandos linha por linha. \n",
    "\n",
    "- Sempre que um cálculo é realizado, MATLAB irá atribuir o resultado à variável interna $ans$\n",
    "\n",
    "Exemplo:"
   ]
  },
  {
   "cell_type": "code",
   "execution_count": 1,
   "metadata": {},
   "outputs": [
    {
     "name": "stdout",
     "output_type": "stream",
     "text": [
      "ans =  39\n"
     ]
    }
   ],
   "source": [
    "55 - 16"
   ]
  },
  {
   "cell_type": "markdown",
   "metadata": {},
   "source": [
    "## Variáveis do MATLAB\n",
    "\n",
    "- A variável $ans$ pode ser útil para a realização de cálculos rápidos, mas a sua natureza transitória torna a menos útil para a programação.\n",
    "- O MATLAB permite atribuir valores aos nomes de variáveis. Isto resulta no armazenamento de valores em locais de memória correspondentes ao nome da variável.\n",
    "- O MATLAB pode armazenar valores individuais, bem como matrizes; ele pode armazenar dados numéricos e de texto (que na verdade é armazenado numericamente tambem).\n",
    "- O MATLAB não exige que você pré-inicialize (declare) uma variável; Se ela não existir, o MATLAB irá criá-la para você.\n",
    "\n",
    "## Constantes\n",
    "\n",
    "- Para atribuir um único valor a uma variável, basta digitar o nome da variável, o sinal de igual (=), e o valor:"
   ]
  },
  {
   "cell_type": "code",
   "execution_count": 3,
   "metadata": {},
   "outputs": [
    {
     "name": "stdout",
     "output_type": "stream",
     "text": [
      "a =  4\n"
     ]
    }
   ],
   "source": [
    "a = 4"
   ]
  },
  {
   "cell_type": "markdown",
   "metadata": {},
   "source": [
    "- Note que nomes de variáveis devem começar com uma letra, embora possam conter letras, números, e o símbolo de sublinhado (_)\n",
    "- Você pode informar ao MATLAB para não exibir o resultado de um cálculo, acrescentando o ponto e vírgula (;) ao final de uma linha. O cálculo ainda será realizado!\n",
    "- Você pode pedir ao MATLAB para exibir o valor armazenado em uma variável digitando seu nome, sem o ponto e vírgula (;):"
   ]
  },
  {
   "cell_type": "code",
   "execution_count": 5,
   "metadata": {},
   "outputs": [
    {
     "name": "stdout",
     "output_type": "stream",
     "text": [
      "a =  4\n"
     ]
    }
   ],
   "source": [
    "a"
   ]
  },
  {
   "cell_type": "markdown",
   "metadata": {},
   "source": [
    "- Você pode usar a variável complexa i (ou j) para representar numeros imaginarios.\n",
    "- Você pode pedir ao MATLAB para exibir os valores de usando vários formatos diferentes, utilizando o comando FORMAT. - Observe que os valores ainda são armazenados da mesma forma, eles são apenas exibidos na tela de forma diferente.  \n",
    "\n",
    "Alguns exemplos:\n",
    "    - short – formato de ponto fixo com 5 digitos\n",
    "    - long – formato de ponto fixo com 15 digitos para DOUBLE e 7 digitos para SINGLE\n",
    "\n",
    "Exemplos de Formatos:"
   ]
  },
  {
   "cell_type": "code",
   "execution_count": 9,
   "metadata": {},
   "outputs": [
    {
     "name": "stdout",
     "output_type": "stream",
     "text": [
      "ans =  3.141592653589793\n"
     ]
    }
   ],
   "source": [
    "format long; pi"
   ]
  },
  {
   "cell_type": "code",
   "execution_count": 10,
   "metadata": {},
   "outputs": [
    {
     "name": "stdout",
     "output_type": "stream",
     "text": [
      "ans =  3.1416\n"
     ]
    }
   ],
   "source": [
    "format short; pi"
   ]
  },
  {
   "cell_type": "code",
   "execution_count": 11,
   "metadata": {},
   "outputs": [
    {
     "name": "stdout",
     "output_type": "stream",
     "text": [
      "ans =  31415.92654\n"
     ]
    }
   ],
   "source": [
    "pi*10000"
   ]
  },
  {
   "cell_type": "markdown",
   "metadata": {},
   "source": [
    "- Note que o formato permanece o mesmo a menos que o comando format seja executado novamente.\n",
    "\n",
    "## Vetores e Matrizes\n",
    "\n",
    "- O MATLAB pode tratar automaticamente arranjos de dados retangulares - matrizes unidimensionais são chamados vetores e matrizes bidimensionais são chamados de matrizes.\n",
    "- Arranjos de dados, seja vetores ou matrizes, são definidos usando colchetes [ e ] no MATLAB\n",
    "- Entradas dentro de uma mesma linha da matriz são separadas por espaços ou vírgulas\n",
    "- Diferentes linhas da matriz são separadas por ponto e vírgula \n",
    "\n",
    "Exemplos de Vetores:"
   ]
  },
  {
   "cell_type": "code",
   "execution_count": 12,
   "metadata": {},
   "outputs": [
    {
     "name": "stdout",
     "output_type": "stream",
     "text": [
      "a =\n",
      "\n",
      "   1   2   3   4   5\n",
      "\n"
     ]
    }
   ],
   "source": [
    "a = [1 2 3 4 5 ]"
   ]
  },
  {
   "cell_type": "code",
   "execution_count": 13,
   "metadata": {},
   "outputs": [
    {
     "name": "stdout",
     "output_type": "stream",
     "text": [
      "b =\n",
      "\n",
      "    2\n",
      "    4\n",
      "    6\n",
      "    8\n",
      "   10\n",
      "\n"
     ]
    }
   ],
   "source": [
    "b = [2;4;6;8;10]"
   ]
  },
  {
   "cell_type": "markdown",
   "metadata": {},
   "source": [
    "## Matrizes\n",
    "- Um arranjo 2-D, ou matriz, de dados é inserido linha por linha, com espaços (ou vírgulas) separando entradas dentro da linha e o ponto e vírgula separando as linhas :"
   ]
  },
  {
   "cell_type": "code",
   "execution_count": 14,
   "metadata": {},
   "outputs": [
    {
     "name": "stdout",
     "output_type": "stream",
     "text": [
      "A =\n",
      "\n",
      "   1   2   3\n",
      "   4   5   6\n",
      "   7   8   9\n",
      "\n"
     ]
    }
   ],
   "source": [
    "A = [1 2 3; 4 5 6; 7 8 9]"
   ]
  },
  {
   "cell_type": "markdown",
   "metadata": {},
   "source": [
    "## Comandos úteis de arranjos de dados\n",
    "- O operador de transposição (apóstrofo) pode ser usado para inverter uma matriz sobre sua própria diagonal. Por exemplo, se b é um vector-linha, b’ é um vector-coluna.\n",
    "- A janela de comandos permite que você separe linhas com a tecla ENTER. O mesmo é valido em arquivos de script (arquivo texto com extensão M)\n",
    "- O comando WHO o nome das variáveis usadas; Ele também fornece o tamanho, memória e tipos de dados para os arranjos de dados (matrizes e vetores).\n"
   ]
  },
  {
   "cell_type": "code",
   "execution_count": 15,
   "metadata": {},
   "outputs": [
    {
     "name": "stdout",
     "output_type": "stream",
     "text": [
      "ans =\n",
      "\n",
      "    2    4    6    8   10\n",
      "\n"
     ]
    }
   ],
   "source": [
    "b'"
   ]
  },
  {
   "cell_type": "code",
   "execution_count": 16,
   "metadata": {},
   "outputs": [
    {
     "name": "stdout",
     "output_type": "stream",
     "text": [
      "Variables in the current scope:\n",
      "\n",
      "A    a    ans  b\n",
      "\n"
     ]
    }
   ],
   "source": [
    "who"
   ]
  },
  {
   "cell_type": "markdown",
   "metadata": {},
   "source": [
    "## Accessando valores dos arranjos de dados\n",
    "- Valores individuais (elementos) dentro de um arranjo de dados podem ser tanto lidos e definidos usando o índice de posição na matriz ou suas coordenadas no formato linha-coluna.\n",
    "- O valor do índice começa com 1 para a entrada no canto superior esquerdo de uma matriz e aumenta para baixo uma coluna\n",
    "\n",
    "Considere a matriz C abaixo de 4 linhas e 3 colunas:"
   ]
  },
  {
   "cell_type": "code",
   "execution_count": 17,
   "metadata": {},
   "outputs": [
    {
     "name": "stdout",
     "output_type": "stream",
     "text": [
      "C =\n",
      "\n",
      "    2    4    9\n",
      "    3    3   16\n",
      "    3    0    8\n",
      "   10   13   17\n",
      "\n"
     ]
    }
   ],
   "source": [
    "C = [ 2     4     9;  3     3    16;  3     0     8; 10    13    17]"
   ]
  },
  {
   "cell_type": "code",
   "execution_count": 19,
   "metadata": {},
   "outputs": [
    {
     "name": "stdout",
     "output_type": "stream",
     "text": [
      "ans =  3\n",
      "ans =  10\n",
      "error: C(13): out of bound 12\n"
     ]
    }
   ],
   "source": [
    "C(2)\n",
    "C(4)\n",
    "C(13)"
   ]
  },
  {
   "cell_type": "markdown",
   "metadata": {},
   "source": [
    "As entradas também podem ser acessadas usando a linha e a coluna:\n",
    "- C(2,1) retorna 3\n",
    "- C(3,2) retorna 0\n",
    "- C(5,1) retorna erro!\n",
    "\n",
    "## Criação de matrizes elementares\n",
    "Existem várias funções embutidas (internas) para criar arranjos de dados:\n",
    "- zeros(r,c) cria uma matriz de r linhas por c colunas preenchidas com zeros\n",
    "- zeros(n) cria uma matriz de n por n preenchidas com zeros\n",
    "- ones(r,c) cria uma matriz de r linhas por c colunas preenchidas com o valor um\n",
    "- ones(n) cria uma matriz de n por n preenchidas com o valor um"
   ]
  },
  {
   "cell_type": "code",
   "execution_count": 21,
   "metadata": {},
   "outputs": [
    {
     "name": "stdout",
     "output_type": "stream",
     "text": [
      "ans =\n",
      "\n",
      "   1   1   1   1   1   1   1   1   1   1\n",
      "   1   1   1   1   1   1   1   1   1   1\n",
      "   1   1   1   1   1   1   1   1   1   1\n",
      "   1   1   1   1   1   1   1   1   1   1\n",
      "   1   1   1   1   1   1   1   1   1   1\n",
      "   1   1   1   1   1   1   1   1   1   1\n",
      "   1   1   1   1   1   1   1   1   1   1\n",
      "   1   1   1   1   1   1   1   1   1   1\n",
      "   1   1   1   1   1   1   1   1   1   1\n",
      "   1   1   1   1   1   1   1   1   1   1\n",
      "\n"
     ]
    }
   ],
   "source": [
    "ones(10)"
   ]
  },
  {
   "cell_type": "markdown",
   "metadata": {},
   "source": [
    "## Criação de arranjos de dados - o operador (:)\n",
    "- O operador dois-pontos (:) é útil em vários contextos. \n",
    "- Ele pode ser usado para criar um arranjo de pontos espaçados de forma linear usando a notação \n",
    "\n",
    "    start:diffval:limit onde,\n",
    "    - start é o primeiro valor no arranjo de dados, \n",
    "    - diffval é a diferença entre valores sucessivos no arranjo de dados, e\n",
    "    - limit é o limite para o último valor (embora não necessariamente, o último valor)."
   ]
  },
  {
   "cell_type": "code",
   "execution_count": 22,
   "metadata": {},
   "outputs": [
    {
     "name": "stdout",
     "output_type": "stream",
     "text": [
      "ans =\n",
      "\n",
      "    1.0000    1.6000    2.2000    2.8000\n",
      "\n"
     ]
    }
   ],
   "source": [
    "1:0.6:3"
   ]
  },
  {
   "cell_type": "markdown",
   "metadata": {},
   "source": [
    "## Operador dois-pontos: observações\n",
    "- Se diffval for omitido, o valor padrão é 1:"
   ]
  },
  {
   "cell_type": "code",
   "execution_count": 23,
   "metadata": {},
   "outputs": [
    {
     "name": "stdout",
     "output_type": "stream",
     "text": [
      "ans =\n",
      "\n",
      "   3   4   5   6\n",
      "\n"
     ]
    }
   ],
   "source": [
    "3:6"
   ]
  },
  {
   "cell_type": "markdown",
   "metadata": {},
   "source": [
    "- Para criar uma série decrescente, diffval deve ser negativo:"
   ]
  },
  {
   "cell_type": "code",
   "execution_count": 24,
   "metadata": {},
   "outputs": [
    {
     "name": "stdout",
     "output_type": "stream",
     "text": [
      "ans =\n",
      "\n",
      "    5.0000    3.8000    2.6000\n",
      "\n"
     ]
    }
   ],
   "source": [
    "5:-1.2:2"
   ]
  },
  {
   "cell_type": "markdown",
   "metadata": {},
   "source": [
    "- Se start+diffval>limit para uma série crescente ou start+diffval<limit  para uma série decrescente, será criado um arranjo vazio:"
   ]
  },
  {
   "cell_type": "code",
   "execution_count": 25,
   "metadata": {},
   "outputs": [
    {
     "name": "stdout",
     "output_type": "stream",
     "text": [
      "ans = [](1x0)\n"
     ]
    }
   ],
   "source": [
    "5:2"
   ]
  },
  {
   "cell_type": "markdown",
   "metadata": {},
   "source": [
    "- Para criar uma coluna, transponha a saída do operador dois-pontos, e não do valor limite; Ou seja, faça isso (3:6)’ e não isso 3:6’"
   ]
  },
  {
   "cell_type": "code",
   "execution_count": 27,
   "metadata": {},
   "outputs": [
    {
     "name": "stdout",
     "output_type": "stream",
     "text": [
      "ans =\n",
      "\n",
      "   3\n",
      "   4\n",
      "   5\n",
      "   6\n",
      "\n"
     ]
    }
   ],
   "source": [
    "(3:6)'"
   ]
  },
  {
   "cell_type": "markdown",
   "metadata": {},
   "source": [
    "## Criação de arranjos de dados - linspace\n",
    "- Para criar um vetor-linha com um número específico de pontos espaçados de forma linear entre dois números, use o comando linspace.\n",
    "- linspace(x1, x2, n) cria um arranjo linearmente espaçado de n pontos entre x1 e x2"
   ]
  },
  {
   "cell_type": "code",
   "execution_count": 29,
   "metadata": {},
   "outputs": [
    {
     "name": "stdout",
     "output_type": "stream",
     "text": [
      "ans =\n",
      "\n",
      "   0.00000   0.20000   0.40000   0.60000   0.80000   1.00000\n",
      "\n"
     ]
    }
   ],
   "source": [
    "linspace(0, 1, 6)"
   ]
  },
  {
   "cell_type": "markdown",
   "metadata": {},
   "source": [
    "- Se n for omitido, serão criados 100 pontos.\n",
    "- Para gerar uma coluna, transponha a saída do comando linspace.\n",
    "\n",
    "## Criação de arranjos de dados - logspace\n",
    "- Para criar um vetor-linha com um número específico de pontos espaçado logaritmicamente entre dois números, use o comando logspace.\n",
    "- logspace(x1, x2, n) cria uma matriz logaritmicamente espaçada de n pontos entre $10^{x1}$ e $10^{x2}$"
   ]
  },
  {
   "cell_type": "code",
   "execution_count": 30,
   "metadata": {},
   "outputs": [
    {
     "name": "stdout",
     "output_type": "stream",
     "text": [
      "ans =\n",
      "\n",
      "     0.10000     1.00000    10.00000   100.00000\n",
      "\n"
     ]
    }
   ],
   "source": [
    "logspace(-1, 2, 4)"
   ]
  },
  {
   "cell_type": "markdown",
   "metadata": {},
   "source": [
    "- Se n for omitido, serão criados 100.\n",
    "- Para gerar uma coluna, transponha a saída do comando logspace.\n",
    "\n",
    "Exercício: Plotar os valores de v(t) para diferentes intervalos de tempo, começando em 2s e diminuindo gradativamente para analisar o impacto na curva do gráfico $v \\times t$. Utilize a equação da velocidade encontrada pelo método de Euler."
   ]
  },
  {
   "cell_type": "code",
   "execution_count": 1,
   "metadata": {},
   "outputs": [
    {
     "name": "stdout",
     "output_type": "stream",
     "text": [
      "t =\n",
      "\n",
      "    0    2    4    6    8   10   12\n",
      "\n",
      "v =\n",
      "\n",
      "    0.00000   18.72920   33.11800   42.07620   46.95750   49.42140   50.61750\n",
      "\n",
      "Fontconfig warning: \"/usr/local/etc/fonts/fonts.conf\", line 86: unknown element \"blank\"\n"
     ]
    },
    {
     "data": {
      "image/svg+xml": [
       "<svg height=\"420px\" viewBox=\"0 0 560 420\" width=\"560px\" xmlns=\"http://www.w3.org/2000/svg\" xmlns:xlink=\"http://www.w3.org/1999/xlink\">\n",
       "\n",
       "<title>Gnuplot</title>\n",
       "<desc>Produced by GNUPLOT 5.2 patchlevel 3 </desc>\n",
       "\n",
       "<g id=\"gnuplot_canvas\">\n",
       "\n",
       "<rect fill=\"#ffffff\" height=\"420\" width=\"560\" x=\"0\" y=\"0\"/>\n",
       "<defs>\n",
       "\n",
       "\t<circle id=\"gpDot\" r=\"0.5\" stroke=\"currentColor\" stroke-width=\"0.5\"/>\n",
       "\t<path d=\"M-1,0 h2 M0,-1 v2\" id=\"gpPt0\" stroke=\"currentColor\" stroke-width=\"0.357\"/>\n",
       "\t<path d=\"M-1,-1 L1,1 M1,-1 L-1,1\" id=\"gpPt1\" stroke=\"currentColor\" stroke-width=\"0.357\"/>\n",
       "\t<path d=\"M-1,0 L1,0 M0,-1 L0,1 M-1,-1 L1,1 M-1,1 L1,-1\" id=\"gpPt2\" stroke=\"currentColor\" stroke-width=\"0.357\"/>\n",
       "\t<rect height=\"2\" id=\"gpPt3\" stroke=\"currentColor\" stroke-width=\"0.357\" width=\"2\" x=\"-1\" y=\"-1\"/>\n",
       "\t<rect fill=\"currentColor\" height=\"2\" id=\"gpPt4\" stroke=\"currentColor\" stroke-width=\"0.357\" width=\"2\" x=\"-1\" y=\"-1\"/>\n",
       "\t<circle cx=\"0\" cy=\"0\" id=\"gpPt5\" r=\"1\" stroke=\"currentColor\" stroke-width=\"0.357\"/>\n",
       "\t<use fill=\"currentColor\" id=\"gpPt6\" stroke=\"none\" xlink:href=\"#gpPt5\"/>\n",
       "\t<path d=\"M0,-1.33 L-1.33,0.67 L1.33,0.67 z\" id=\"gpPt7\" stroke=\"currentColor\" stroke-width=\"0.357\"/>\n",
       "\t<use fill=\"currentColor\" id=\"gpPt8\" stroke=\"none\" xlink:href=\"#gpPt7\"/>\n",
       "\t<use id=\"gpPt9\" stroke=\"currentColor\" transform=\"rotate(180)\" xlink:href=\"#gpPt7\"/>\n",
       "\t<use fill=\"currentColor\" id=\"gpPt10\" stroke=\"none\" xlink:href=\"#gpPt9\"/>\n",
       "\t<use id=\"gpPt11\" stroke=\"currentColor\" transform=\"rotate(45)\" xlink:href=\"#gpPt3\"/>\n",
       "\t<use fill=\"currentColor\" id=\"gpPt12\" stroke=\"none\" xlink:href=\"#gpPt11\"/>\n",
       "\t<path d=\"M0,1.330 L1.265,0.411 L0.782,-1.067 L-0.782,-1.076 L-1.265,0.411 z\" id=\"gpPt13\" stroke=\"currentColor\" stroke-width=\"0.357\"/>\n",
       "\t<use fill=\"currentColor\" id=\"gpPt14\" stroke=\"none\" xlink:href=\"#gpPt13\"/>\n",
       "\t<filter filterUnits=\"objectBoundingBox\" height=\"1\" id=\"textbox\" width=\"1\" x=\"0\" y=\"0\">\n",
       "\t  <feFlood flood-color=\"#FFFFFF\" flood-opacity=\"1\" result=\"bgnd\"/>\n",
       "\t  <feComposite in=\"SourceGraphic\" in2=\"bgnd\" operator=\"atop\"/>\n",
       "\t</filter>\n",
       "\t<filter filterUnits=\"objectBoundingBox\" height=\"1\" id=\"greybox\" width=\"1\" x=\"0\" y=\"0\">\n",
       "\t  <feFlood flood-color=\"lightgrey\" flood-opacity=\"1\" result=\"grey\"/>\n",
       "\t  <feComposite in=\"SourceGraphic\" in2=\"grey\" operator=\"atop\"/>\n",
       "\t</filter>\n",
       "</defs>\n",
       "<g color=\"#FFFFFF\" fill=\"none\" stroke=\"currentColor\" stroke-linecap=\"butt\" stroke-linejoin=\"miter\" stroke-width=\"1.00\">\n",
       "</g>\n",
       "<g color=\"black\" fill=\"none\" stroke=\"currentColor\" stroke-linecap=\"butt\" stroke-linejoin=\"miter\" stroke-width=\"1.00\">\n",
       "\t<g shape-rendering=\"crispEdges\" stroke=\"none\">\n",
       "\t\t<polygon fill=\"rgb(255, 255, 255)\" points=\"23.4,397.6 544.2,397.6 544.2,11.4 23.4,11.4 \"/>\n",
       "\t</g>\n",
       "</g>\n",
       "<g color=\"black\" fill=\"none\" stroke=\"currentColor\" stroke-linecap=\"butt\" stroke-linejoin=\"miter\" stroke-width=\"1.00\">\n",
       "\t<path d=\"M23.4,397.6 L31.2,397.6 M544.3,397.6 L536.5,397.6  \" stroke=\"rgb(  0,   0,   0)\"/>\t<g fill=\"rgb(38,38,38)\" font-family=\"Arial\" font-size=\"10.00\" stroke=\"none\" text-anchor=\"end\" transform=\"translate(18.2,400.9)\">\n",
       "\t\t<text><tspan font-family=\"Arial\">0</tspan></text>\n",
       "\t</g>\n",
       "</g>\n",
       "<g color=\"black\" fill=\"none\" stroke=\"currentColor\" stroke-linecap=\"butt\" stroke-linejoin=\"miter\" stroke-width=\"1.00\">\n",
       "\t<path d=\"M23.4,333.2 L31.2,333.2 M544.3,333.2 L536.5,333.2  \" stroke=\"rgb(  0,   0,   0)\"/>\t<g fill=\"rgb(38,38,38)\" font-family=\"Arial\" font-size=\"10.00\" stroke=\"none\" text-anchor=\"end\" transform=\"translate(18.2,336.5)\">\n",
       "\t\t<text><tspan font-family=\"Arial\">10</tspan></text>\n",
       "\t</g>\n",
       "</g>\n",
       "<g color=\"black\" fill=\"none\" stroke=\"currentColor\" stroke-linecap=\"butt\" stroke-linejoin=\"miter\" stroke-width=\"1.00\">\n",
       "\t<path d=\"M23.4,268.8 L31.2,268.8 M544.3,268.8 L536.5,268.8  \" stroke=\"rgb(  0,   0,   0)\"/>\t<g fill=\"rgb(38,38,38)\" font-family=\"Arial\" font-size=\"10.00\" stroke=\"none\" text-anchor=\"end\" transform=\"translate(18.2,272.1)\">\n",
       "\t\t<text><tspan font-family=\"Arial\">20</tspan></text>\n",
       "\t</g>\n",
       "</g>\n",
       "<g color=\"black\" fill=\"none\" stroke=\"currentColor\" stroke-linecap=\"butt\" stroke-linejoin=\"miter\" stroke-width=\"1.00\">\n",
       "\t<path d=\"M23.4,204.4 L31.2,204.4 M544.3,204.4 L536.5,204.4  \" stroke=\"rgb(  0,   0,   0)\"/>\t<g fill=\"rgb(38,38,38)\" font-family=\"Arial\" font-size=\"10.00\" stroke=\"none\" text-anchor=\"end\" transform=\"translate(18.2,207.7)\">\n",
       "\t\t<text><tspan font-family=\"Arial\">30</tspan></text>\n",
       "\t</g>\n",
       "</g>\n",
       "<g color=\"black\" fill=\"none\" stroke=\"currentColor\" stroke-linecap=\"butt\" stroke-linejoin=\"miter\" stroke-width=\"1.00\">\n",
       "\t<path d=\"M23.4,140.1 L31.2,140.1 M544.3,140.1 L536.5,140.1  \" stroke=\"rgb(  0,   0,   0)\"/>\t<g fill=\"rgb(38,38,38)\" font-family=\"Arial\" font-size=\"10.00\" stroke=\"none\" text-anchor=\"end\" transform=\"translate(18.2,143.4)\">\n",
       "\t\t<text><tspan font-family=\"Arial\">40</tspan></text>\n",
       "\t</g>\n",
       "</g>\n",
       "<g color=\"black\" fill=\"none\" stroke=\"currentColor\" stroke-linecap=\"butt\" stroke-linejoin=\"miter\" stroke-width=\"1.00\">\n",
       "\t<path d=\"M23.4,75.7 L31.2,75.7 M544.3,75.7 L536.5,75.7  \" stroke=\"rgb(  0,   0,   0)\"/>\t<g fill=\"rgb(38,38,38)\" font-family=\"Arial\" font-size=\"10.00\" stroke=\"none\" text-anchor=\"end\" transform=\"translate(18.2,79.0)\">\n",
       "\t\t<text><tspan font-family=\"Arial\">50</tspan></text>\n",
       "\t</g>\n",
       "</g>\n",
       "<g color=\"black\" fill=\"none\" stroke=\"currentColor\" stroke-linecap=\"butt\" stroke-linejoin=\"miter\" stroke-width=\"1.00\">\n",
       "\t<path d=\"M23.4,11.3 L31.2,11.3 M544.3,11.3 L536.5,11.3  \" stroke=\"rgb(  0,   0,   0)\"/>\t<g fill=\"rgb(38,38,38)\" font-family=\"Arial\" font-size=\"10.00\" stroke=\"none\" text-anchor=\"end\" transform=\"translate(18.2,14.6)\">\n",
       "\t\t<text><tspan font-family=\"Arial\">60</tspan></text>\n",
       "\t</g>\n",
       "</g>\n",
       "<g color=\"black\" fill=\"none\" stroke=\"currentColor\" stroke-linecap=\"butt\" stroke-linejoin=\"miter\" stroke-width=\"1.00\">\n",
       "\t<path d=\"M23.4,397.6 L23.4,389.8 M23.4,11.3 L23.4,19.1  \" stroke=\"rgb(  0,   0,   0)\"/>\t<g fill=\"rgb(38,38,38)\" font-family=\"Arial\" font-size=\"10.00\" stroke=\"none\" text-anchor=\"middle\" transform=\"translate(23.4,412.1)\">\n",
       "\t\t<text><tspan font-family=\"Arial\">0</tspan></text>\n",
       "\t</g>\n",
       "</g>\n",
       "<g color=\"black\" fill=\"none\" stroke=\"currentColor\" stroke-linecap=\"butt\" stroke-linejoin=\"miter\" stroke-width=\"1.00\">\n",
       "\t<path d=\"M110.2,397.6 L110.2,389.8 M110.2,11.3 L110.2,19.1  \" stroke=\"rgb(  0,   0,   0)\"/>\t<g fill=\"rgb(38,38,38)\" font-family=\"Arial\" font-size=\"10.00\" stroke=\"none\" text-anchor=\"middle\" transform=\"translate(110.2,412.1)\">\n",
       "\t\t<text><tspan font-family=\"Arial\">2</tspan></text>\n",
       "\t</g>\n",
       "</g>\n",
       "<g color=\"black\" fill=\"none\" stroke=\"currentColor\" stroke-linecap=\"butt\" stroke-linejoin=\"miter\" stroke-width=\"1.00\">\n",
       "\t<path d=\"M197.0,397.6 L197.0,389.8 M197.0,11.3 L197.0,19.1  \" stroke=\"rgb(  0,   0,   0)\"/>\t<g fill=\"rgb(38,38,38)\" font-family=\"Arial\" font-size=\"10.00\" stroke=\"none\" text-anchor=\"middle\" transform=\"translate(197.0,412.1)\">\n",
       "\t\t<text><tspan font-family=\"Arial\">4</tspan></text>\n",
       "\t</g>\n",
       "</g>\n",
       "<g color=\"black\" fill=\"none\" stroke=\"currentColor\" stroke-linecap=\"butt\" stroke-linejoin=\"miter\" stroke-width=\"1.00\">\n",
       "\t<path d=\"M283.9,397.6 L283.9,389.8 M283.9,11.3 L283.9,19.1  \" stroke=\"rgb(  0,   0,   0)\"/>\t<g fill=\"rgb(38,38,38)\" font-family=\"Arial\" font-size=\"10.00\" stroke=\"none\" text-anchor=\"middle\" transform=\"translate(283.9,412.1)\">\n",
       "\t\t<text><tspan font-family=\"Arial\">6</tspan></text>\n",
       "\t</g>\n",
       "</g>\n",
       "<g color=\"black\" fill=\"none\" stroke=\"currentColor\" stroke-linecap=\"butt\" stroke-linejoin=\"miter\" stroke-width=\"1.00\">\n",
       "\t<path d=\"M370.7,397.6 L370.7,389.8 M370.7,11.3 L370.7,19.1  \" stroke=\"rgb(  0,   0,   0)\"/>\t<g fill=\"rgb(38,38,38)\" font-family=\"Arial\" font-size=\"10.00\" stroke=\"none\" text-anchor=\"middle\" transform=\"translate(370.7,412.1)\">\n",
       "\t\t<text><tspan font-family=\"Arial\">8</tspan></text>\n",
       "\t</g>\n",
       "</g>\n",
       "<g color=\"black\" fill=\"none\" stroke=\"currentColor\" stroke-linecap=\"butt\" stroke-linejoin=\"miter\" stroke-width=\"1.00\">\n",
       "\t<path d=\"M457.5,397.6 L457.5,389.8 M457.5,11.3 L457.5,19.1  \" stroke=\"rgb(  0,   0,   0)\"/>\t<g fill=\"rgb(38,38,38)\" font-family=\"Arial\" font-size=\"10.00\" stroke=\"none\" text-anchor=\"middle\" transform=\"translate(457.5,412.1)\">\n",
       "\t\t<text><tspan font-family=\"Arial\">10</tspan></text>\n",
       "\t</g>\n",
       "</g>\n",
       "<g color=\"black\" fill=\"none\" stroke=\"currentColor\" stroke-linecap=\"butt\" stroke-linejoin=\"miter\" stroke-width=\"1.00\">\n",
       "\t<path d=\"M544.3,397.6 L544.3,389.8 M544.3,11.3 L544.3,19.1  \" stroke=\"rgb(  0,   0,   0)\"/>\t<g fill=\"rgb(38,38,38)\" font-family=\"Arial\" font-size=\"10.00\" stroke=\"none\" text-anchor=\"middle\" transform=\"translate(544.3,412.1)\">\n",
       "\t\t<text><tspan font-family=\"Arial\">12</tspan></text>\n",
       "\t</g>\n",
       "</g>\n",
       "<g color=\"black\" fill=\"none\" stroke=\"currentColor\" stroke-linecap=\"butt\" stroke-linejoin=\"miter\" stroke-width=\"1.00\">\n",
       "</g>\n",
       "<g color=\"black\" fill=\"none\" stroke=\"currentColor\" stroke-linecap=\"butt\" stroke-linejoin=\"miter\" stroke-width=\"1.00\">\n",
       "</g>\n",
       "\t<g id=\"gnuplot_plot_1a\"><title>gnuplot_plot_1a</title>\n",
       "<g color=\"#FFFFFF\" fill=\"none\" stroke=\"rgb(  0,   0,   0)\" stroke-linecap=\"butt\" stroke-linejoin=\"miter\" stroke-width=\"0.50\">\n",
       "</g>\n",
       "<g color=\"black\" fill=\"none\" stroke=\"currentColor\" stroke-linecap=\"butt\" stroke-linejoin=\"miter\" stroke-width=\"0.50\">\n",
       "\t<path d=\"M23.4,397.6 L110.2,277.0 L197.0,184.4 L283.9,126.7 L370.7,95.3 L457.5,79.4 L544.3,71.7  \" stroke=\"rgb(  0, 114, 189)\"/></g>\n",
       "\t</g>\n",
       "<g color=\"#FFFFFF\" fill=\"none\" stroke=\"rgb(  0, 114, 189)\" stroke-linecap=\"butt\" stroke-linejoin=\"miter\" stroke-width=\"2.00\">\n",
       "</g>\n",
       "<g color=\"black\" fill=\"none\" stroke=\"currentColor\" stroke-linecap=\"butt\" stroke-linejoin=\"miter\" stroke-width=\"2.00\">\n",
       "</g>\n",
       "<g color=\"black\" fill=\"none\" stroke=\"black\" stroke-linecap=\"butt\" stroke-linejoin=\"miter\" stroke-width=\"0.50\">\n",
       "\t<path d=\"M23.4,397.6 L544.3,397.6 M23.4,11.3 L544.3,11.3 M23.4,397.6 L23.4,11.3 M544.3,397.6 L544.3,11.3    \" stroke=\"rgb( 38,  38,  38)\"/></g>\n",
       "<g color=\"black\" fill=\"none\" stroke=\"rgb( 38,  38,  38)\" stroke-linecap=\"butt\" stroke-linejoin=\"miter\" stroke-width=\"1.00\">\n",
       "</g>\n",
       "<g color=\"black\" fill=\"none\" stroke=\"currentColor\" stroke-linecap=\"butt\" stroke-linejoin=\"miter\" stroke-width=\"1.00\">\n",
       "</g>\n",
       "</g>\n",
       "</svg>"
      ],
      "text/plain": [
       "<IPython.core.display.SVG object>"
      ]
     },
     "metadata": {},
     "output_type": "display_data"
    }
   ],
   "source": [
    "t = 0:2:12\n",
    "v = [0 18.7292 33.118 42.0762 46.9575 49.4214 50.6175]\n",
    "plot(t, v)"
   ]
  },
  {
   "cell_type": "markdown",
   "metadata": {},
   "source": [
    "## Cadeia (String) de Caracteres & Reticências (…)\n",
    "- Constantes alfanuméricas são delimitadas por aspas simples (')\n"
   ]
  },
  {
   "cell_type": "code",
   "execution_count": 2,
   "metadata": {},
   "outputs": [],
   "source": [
    "f = 'Miles ';\n",
    "s = 'Davis';"
   ]
  },
  {
   "cell_type": "markdown",
   "metadata": {},
   "source": [
    "Concatenação: união de strings"
   ]
  },
  {
   "cell_type": "code",
   "execution_count": 3,
   "metadata": {},
   "outputs": [
    {
     "name": "stdout",
     "output_type": "stream",
     "text": [
      "x = Miles Davis\n"
     ]
    }
   ],
   "source": [
    "x = [f s]"
   ]
  },
  {
   "cell_type": "markdown",
   "metadata": {},
   "source": [
    "Reticências (...): Usada para quebrar linhas longas"
   ]
  },
  {
   "cell_type": "code",
   "execution_count": 4,
   "metadata": {},
   "outputs": [
    {
     "name": "stdout",
     "output_type": "stream",
     "text": [
      "a =\n",
      "\n",
      "   1   2   3   4   5   6   7   8\n",
      "\n"
     ]
    }
   ],
   "source": [
    "a = [1 2 3 4 5 ...\n",
    "6 7 8]"
   ]
  },
  {
   "cell_type": "markdown",
   "metadata": {},
   "source": [
    "- Você **não** pode usar reticências entre aspas simples para quebrar uma string. \n",
    "\n",
    "- Mas você pode unir strings mais curtos com o uso de reticências"
   ]
  },
  {
   "cell_type": "code",
   "execution_count": 5,
   "metadata": {},
   "outputs": [
    {
     "name": "stdout",
     "output_type": "stream",
     "text": [
      "quote = Instituto Federal do Espírito Santo, Curso de Engenharia Mecânica\n"
     ]
    }
   ],
   "source": [
    "quote = ['Instituto Federal do Espírito Santo,' ...\n",
    "' Curso de Engenharia Mecânica']"
   ]
  },
  {
   "cell_type": "markdown",
   "metadata": {},
   "source": [
    "## Operações Matemáticas\n",
    "- As operações matemáticas em MATLAB podem ser realizadas tanto com constantes, quanto com arranjos de dados.\n",
    "\n",
    "- Os operadores comuns, em ordem de precedência, são :\n",
    "\n",
    "![](img/Picture12.png)\n",
    "\n",
    "- A ordem de execução das operações é definida primeiramente pelos parênteses e, em seguida, pela ordem padrão dado abaixo:\n",
    "\n",
    "y = -4 ^ 2  resulta em y = -16\n",
    "    - uma vez que a exponenciação ocorre primeiro, devido à sua maior ordem de prioridade, mas\n",
    "\n",
    "y = (-4) ^ 2 resulta em y = 16\n",
    "    - uma vez que o operador de negação sobre a constante 4 ocorre primeiro\n",
    "    \n",
    "## Números Complexos\n",
    "- Todas as operações abaixo podem ser utilizadas com números complexos (isto é, valores que contêm uma parte imaginária i ou j) "
   ]
  },
  {
   "cell_type": "code",
   "execution_count": 7,
   "metadata": {},
   "outputs": [
    {
     "name": "stdout",
     "output_type": "stream",
     "text": [
      "ans =   6 + 12i\n"
     ]
    }
   ],
   "source": [
    "x = 2+i*4; %(or 2+4i, or 2+j*4, or 2+4j)\n",
    "y = 16;\n",
    "3 * x"
   ]
  },
  {
   "cell_type": "code",
   "execution_count": 8,
   "metadata": {},
   "outputs": [
    {
     "name": "stdout",
     "output_type": "stream",
     "text": [
      "ans =  18 +  4i\n"
     ]
    }
   ],
   "source": [
    "x + y"
   ]
  },
  {
   "cell_type": "code",
   "execution_count": 9,
   "metadata": {},
   "outputs": [
    {
     "name": "stdout",
     "output_type": "stream",
     "text": [
      "ans =  2 - 4i\n"
     ]
    }
   ],
   "source": [
    "x'"
   ]
  },
  {
   "cell_type": "markdown",
   "metadata": {},
   "source": [
    "## Cálculos entre Vetor-Matriz\n",
    "MATLAB também pode executar operações em vetores e matrizes.\n",
    "\n",
    "- O operador * para matrizes é definido como produto externo ou como é comumente conhecido “multiplicação de matrizes”.  \n",
    "- O número de colunas da primeira matriz deve corresponder ao número de linhas na segunda matriz.\n",
    "- O tamanho do resultado terá tantas linhas como a primeira matriz e tantas colunas como a segunda matriz.\n",
    "- A exceção a isso é a multiplicação por uma matriz 1x1, que é na verdade uma operação escalar.\n",
    "- O operador ^ para matrizes resulta em um matriz sendo sendo multiplicada (produto externo) por ela mesma um número especifico de vezes.  \n",
    "- Observe que neste caso, a matriz deve ser quadrada!\n",
    "\n",
    "## Cálculos Elemento-a-Elemento\n",
    "Às vezes, deseja-se realizar calculos item a item num vetor ou matriz. No MATLAB estes calculos são chamados de operações de arranjos. Eles são também frequentemente referenciados como operações elemento-a-elemento  \n",
    "\n",
    "- MATLAB define .* e ./ (note o ponto antes do sinal de multiplicação e divisão) como operadores de multiplicação e divisão sobre arranjos de dados.\n",
    "- Para operações de arranjo, ambas as matrizes têm de ser do mesmo tamanho ou uma das matrizes deve ser 1x1\n",
    "- Exponenciação de arranjos (elevar cada elemento a uma potência correspondente na outra matriz) é realizado por .^\n",
    "- Mais uma vez, para operações de arranjo, ambas as matrizes têm de ser do mesmo tamanho ou uma das matrizes deve ser 1x1\n",
    "\n",
    "## Funções internas (embutidas)\n",
    "\n",
    "Existem várias funções internas que você pode usar para criar e manipular dados.\n",
    "\n",
    "- O comando de ajuda contem mais informações sobre as funções que existem e como essas funções são usadas:\n",
    "- help elmat lista as funções de criação de matriz e operações elementares, incluindo funções para obter informações sobre matrizes.\n",
    "- help elfun lista as funções matemáticas elementares, incluindo trigonometricas, exponencial, números complexos, arredondamento, e as funções de resto de divisão.\n",
    "- O comando interno lookfor procura por arquivos de ajuda para as ocorrências de texto e pode ser útil se você conhecer o propósito de uma função, mas não o seu nome."
   ]
  },
  {
   "cell_type": "markdown",
   "metadata": {},
   "source": [
    "## Gráficos\n",
    "\n",
    "O MATLAB possui um conjunto completo de funções internas voltadas para gráficos.\n",
    "- Duas das principais funções são plot (para plotar dados 2-D) e plot3 (para plotar dados 3-D).\n",
    "- Além dos comandos de plotagem, o MATLAB permite rotular eixos e fazer anotações em gráficos usando os comandos title, xlabel, ylabel, e legend.\n",
    "\n",
    "Exemplo de gráfico:"
   ]
  },
  {
   "cell_type": "code",
   "execution_count": 2,
   "metadata": {},
   "outputs": [
    {
     "data": {
      "image/png": "[encoded data removed]",
      "text/plain": [
       "<IPython.core.display.Image object>"
      ]
     },
     "metadata": {},
     "output_type": "display_data"
    }
   ],
   "source": [
    "%plot --format png\n",
    "t = [0:2:20]';\n",
    "g = 9.81; \n",
    "m = 68.1; \n",
    "cd = 0.25;\n",
    "v = sqrt(g*m/cd) * tanh(sqrt(g*cd/m)*t);\n",
    "plot(t, v)"
   ]
  },
  {
   "cell_type": "markdown",
   "metadata": {},
   "source": [
    "Exemplo de gráfico com anotação:"
   ]
  },
  {
   "cell_type": "code",
   "execution_count": 15,
   "metadata": {},
   "outputs": [
    {
     "data": {
      "image/svg+xml": [
       "<svg height=\"420px\" viewBox=\"0 0 560 420\" width=\"560px\" xmlns=\"http://www.w3.org/2000/svg\" xmlns:xlink=\"http://www.w3.org/1999/xlink\">\n",
       "\n",
       "<title>Gnuplot</title>\n",
       "<desc>Produced by GNUPLOT 5.2 patchlevel 3 </desc>\n",
       "\n",
       "<g id=\"gnuplot_canvas\">\n",
       "\n",
       "<rect fill=\"#ffffff\" height=\"420\" width=\"560\" x=\"0\" y=\"0\"/>\n",
       "<defs>\n",
       "\n",
       "\t<circle id=\"gpDot\" r=\"0.5\" stroke=\"currentColor\" stroke-width=\"0.5\"/>\n",
       "\t<path d=\"M-1,0 h2 M0,-1 v2\" id=\"gpPt0\" stroke=\"currentColor\" stroke-width=\"0.357\"/>\n",
       "\t<path d=\"M-1,-1 L1,1 M1,-1 L-1,1\" id=\"gpPt1\" stroke=\"currentColor\" stroke-width=\"0.357\"/>\n",
       "\t<path d=\"M-1,0 L1,0 M0,-1 L0,1 M-1,-1 L1,1 M-1,1 L1,-1\" id=\"gpPt2\" stroke=\"currentColor\" stroke-width=\"0.357\"/>\n",
       "\t<rect height=\"2\" id=\"gpPt3\" stroke=\"currentColor\" stroke-width=\"0.357\" width=\"2\" x=\"-1\" y=\"-1\"/>\n",
       "\t<rect fill=\"currentColor\" height=\"2\" id=\"gpPt4\" stroke=\"currentColor\" stroke-width=\"0.357\" width=\"2\" x=\"-1\" y=\"-1\"/>\n",
       "\t<circle cx=\"0\" cy=\"0\" id=\"gpPt5\" r=\"1\" stroke=\"currentColor\" stroke-width=\"0.357\"/>\n",
       "\t<use fill=\"currentColor\" id=\"gpPt6\" stroke=\"none\" xlink:href=\"#gpPt5\"/>\n",
       "\t<path d=\"M0,-1.33 L-1.33,0.67 L1.33,0.67 z\" id=\"gpPt7\" stroke=\"currentColor\" stroke-width=\"0.357\"/>\n",
       "\t<use fill=\"currentColor\" id=\"gpPt8\" stroke=\"none\" xlink:href=\"#gpPt7\"/>\n",
       "\t<use id=\"gpPt9\" stroke=\"currentColor\" transform=\"rotate(180)\" xlink:href=\"#gpPt7\"/>\n",
       "\t<use fill=\"currentColor\" id=\"gpPt10\" stroke=\"none\" xlink:href=\"#gpPt9\"/>\n",
       "\t<use id=\"gpPt11\" stroke=\"currentColor\" transform=\"rotate(45)\" xlink:href=\"#gpPt3\"/>\n",
       "\t<use fill=\"currentColor\" id=\"gpPt12\" stroke=\"none\" xlink:href=\"#gpPt11\"/>\n",
       "\t<path d=\"M0,1.330 L1.265,0.411 L0.782,-1.067 L-0.782,-1.076 L-1.265,0.411 z\" id=\"gpPt13\" stroke=\"currentColor\" stroke-width=\"0.357\"/>\n",
       "\t<use fill=\"currentColor\" id=\"gpPt14\" stroke=\"none\" xlink:href=\"#gpPt13\"/>\n",
       "\t<filter filterUnits=\"objectBoundingBox\" height=\"1\" id=\"textbox\" width=\"1\" x=\"0\" y=\"0\">\n",
       "\t  <feFlood flood-color=\"#FFFFFF\" flood-opacity=\"1\" result=\"bgnd\"/>\n",
       "\t  <feComposite in=\"SourceGraphic\" in2=\"bgnd\" operator=\"atop\"/>\n",
       "\t</filter>\n",
       "\t<filter filterUnits=\"objectBoundingBox\" height=\"1\" id=\"greybox\" width=\"1\" x=\"0\" y=\"0\">\n",
       "\t  <feFlood flood-color=\"lightgrey\" flood-opacity=\"1\" result=\"grey\"/>\n",
       "\t  <feComposite in=\"SourceGraphic\" in2=\"grey\" operator=\"atop\"/>\n",
       "\t</filter>\n",
       "</defs>\n",
       "<g color=\"#FFFFFF\" fill=\"none\" stroke=\"currentColor\" stroke-linecap=\"butt\" stroke-linejoin=\"miter\" stroke-width=\"1.00\">\n",
       "</g>\n",
       "<g color=\"black\" fill=\"none\" stroke=\"currentColor\" stroke-linecap=\"butt\" stroke-linejoin=\"miter\" stroke-width=\"1.00\">\n",
       "\t<g shape-rendering=\"crispEdges\" stroke=\"none\">\n",
       "\t\t<polygon fill=\"rgb(255, 255, 255)\" points=\"23.4,397.6 544.2,397.6 544.2,11.4 23.4,11.4 \"/>\n",
       "\t</g>\n",
       "</g>\n",
       "<g color=\"black\" fill=\"none\" stroke=\"currentColor\" stroke-linecap=\"butt\" stroke-linejoin=\"miter\" stroke-width=\"1.00\">\n",
       "\t<path d=\"M23.4,397.6 L31.2,397.6 M544.3,397.6 L536.5,397.6  \" stroke=\"rgb(  0,   0,   0)\"/>\t<g fill=\"rgb(38,38,38)\" font-family=\"Arial\" font-size=\"10.00\" stroke=\"none\" text-anchor=\"end\" transform=\"translate(18.2,400.9)\">\n",
       "\t\t<text><tspan font-family=\"Arial\">0</tspan></text>\n",
       "\t</g>\n",
       "</g>\n",
       "<g color=\"black\" fill=\"none\" stroke=\"currentColor\" stroke-linecap=\"butt\" stroke-linejoin=\"miter\" stroke-width=\"1.00\">\n",
       "\t<path d=\"M23.4,333.2 L31.2,333.2 M544.3,333.2 L536.5,333.2  \" stroke=\"rgb(  0,   0,   0)\"/>\t<g fill=\"rgb(38,38,38)\" font-family=\"Arial\" font-size=\"10.00\" stroke=\"none\" text-anchor=\"end\" transform=\"translate(18.2,336.5)\">\n",
       "\t\t<text><tspan font-family=\"Arial\">10</tspan></text>\n",
       "\t</g>\n",
       "</g>\n",
       "<g color=\"black\" fill=\"none\" stroke=\"currentColor\" stroke-linecap=\"butt\" stroke-linejoin=\"miter\" stroke-width=\"1.00\">\n",
       "\t<path d=\"M23.4,268.8 L31.2,268.8 M544.3,268.8 L536.5,268.8  \" stroke=\"rgb(  0,   0,   0)\"/>\t<g fill=\"rgb(38,38,38)\" font-family=\"Arial\" font-size=\"10.00\" stroke=\"none\" text-anchor=\"end\" transform=\"translate(18.2,272.1)\">\n",
       "\t\t<text><tspan font-family=\"Arial\">20</tspan></text>\n",
       "\t</g>\n",
       "</g>\n",
       "<g color=\"black\" fill=\"none\" stroke=\"currentColor\" stroke-linecap=\"butt\" stroke-linejoin=\"miter\" stroke-width=\"1.00\">\n",
       "\t<path d=\"M23.4,204.4 L31.2,204.4 M544.3,204.4 L536.5,204.4  \" stroke=\"rgb(  0,   0,   0)\"/>\t<g fill=\"rgb(38,38,38)\" font-family=\"Arial\" font-size=\"10.00\" stroke=\"none\" text-anchor=\"end\" transform=\"translate(18.2,207.7)\">\n",
       "\t\t<text><tspan font-family=\"Arial\">30</tspan></text>\n",
       "\t</g>\n",
       "</g>\n",
       "<g color=\"black\" fill=\"none\" stroke=\"currentColor\" stroke-linecap=\"butt\" stroke-linejoin=\"miter\" stroke-width=\"1.00\">\n",
       "\t<path d=\"M23.4,140.1 L31.2,140.1 M544.3,140.1 L536.5,140.1  \" stroke=\"rgb(  0,   0,   0)\"/>\t<g fill=\"rgb(38,38,38)\" font-family=\"Arial\" font-size=\"10.00\" stroke=\"none\" text-anchor=\"end\" transform=\"translate(18.2,143.4)\">\n",
       "\t\t<text><tspan font-family=\"Arial\">40</tspan></text>\n",
       "\t</g>\n",
       "</g>\n",
       "<g color=\"black\" fill=\"none\" stroke=\"currentColor\" stroke-linecap=\"butt\" stroke-linejoin=\"miter\" stroke-width=\"1.00\">\n",
       "\t<path d=\"M23.4,75.7 L31.2,75.7 M544.3,75.7 L536.5,75.7  \" stroke=\"rgb(  0,   0,   0)\"/>\t<g fill=\"rgb(38,38,38)\" font-family=\"Arial\" font-size=\"10.00\" stroke=\"none\" text-anchor=\"end\" transform=\"translate(18.2,79.0)\">\n",
       "\t\t<text><tspan font-family=\"Arial\">50</tspan></text>\n",
       "\t</g>\n",
       "</g>\n",
       "<g color=\"black\" fill=\"none\" stroke=\"currentColor\" stroke-linecap=\"butt\" stroke-linejoin=\"miter\" stroke-width=\"1.00\">\n",
       "\t<path d=\"M23.4,11.3 L31.2,11.3 M544.3,11.3 L536.5,11.3  \" stroke=\"rgb(  0,   0,   0)\"/>\t<g fill=\"rgb(38,38,38)\" font-family=\"Arial\" font-size=\"10.00\" stroke=\"none\" text-anchor=\"end\" transform=\"translate(18.2,14.6)\">\n",
       "\t\t<text><tspan font-family=\"Arial\">60</tspan></text>\n",
       "\t</g>\n",
       "</g>\n",
       "<g color=\"black\" fill=\"none\" stroke=\"currentColor\" stroke-linecap=\"butt\" stroke-linejoin=\"miter\" stroke-width=\"1.00\">\n",
       "\t<path d=\"M23.4,397.6 L23.4,389.8 M23.4,11.3 L23.4,19.1  \" stroke=\"rgb(  0,   0,   0)\"/>\t<g fill=\"rgb(38,38,38)\" font-family=\"Arial\" font-size=\"10.00\" stroke=\"none\" text-anchor=\"middle\" transform=\"translate(23.4,412.1)\">\n",
       "\t\t<text><tspan font-family=\"Arial\">0</tspan></text>\n",
       "\t</g>\n",
       "</g>\n",
       "<g color=\"black\" fill=\"none\" stroke=\"currentColor\" stroke-linecap=\"butt\" stroke-linejoin=\"miter\" stroke-width=\"1.00\">\n",
       "\t<path d=\"M153.6,397.6 L153.6,389.8 M153.6,11.3 L153.6,19.1  \" stroke=\"rgb(  0,   0,   0)\"/>\t<g fill=\"rgb(38,38,38)\" font-family=\"Arial\" font-size=\"10.00\" stroke=\"none\" text-anchor=\"middle\" transform=\"translate(153.6,412.1)\">\n",
       "\t\t<text><tspan font-family=\"Arial\">5</tspan></text>\n",
       "\t</g>\n",
       "</g>\n",
       "<g color=\"black\" fill=\"none\" stroke=\"currentColor\" stroke-linecap=\"butt\" stroke-linejoin=\"miter\" stroke-width=\"1.00\">\n",
       "\t<path d=\"M283.9,397.6 L283.9,389.8 M283.9,11.3 L283.9,19.1  \" stroke=\"rgb(  0,   0,   0)\"/>\t<g fill=\"rgb(38,38,38)\" font-family=\"Arial\" font-size=\"10.00\" stroke=\"none\" text-anchor=\"middle\" transform=\"translate(283.9,412.1)\">\n",
       "\t\t<text><tspan font-family=\"Arial\">10</tspan></text>\n",
       "\t</g>\n",
       "</g>\n",
       "<g color=\"black\" fill=\"none\" stroke=\"currentColor\" stroke-linecap=\"butt\" stroke-linejoin=\"miter\" stroke-width=\"1.00\">\n",
       "\t<path d=\"M414.1,397.6 L414.1,389.8 M414.1,11.3 L414.1,19.1  \" stroke=\"rgb(  0,   0,   0)\"/>\t<g fill=\"rgb(38,38,38)\" font-family=\"Arial\" font-size=\"10.00\" stroke=\"none\" text-anchor=\"middle\" transform=\"translate(414.1,412.1)\">\n",
       "\t\t<text><tspan font-family=\"Arial\">15</tspan></text>\n",
       "\t</g>\n",
       "</g>\n",
       "<g color=\"black\" fill=\"none\" stroke=\"currentColor\" stroke-linecap=\"butt\" stroke-linejoin=\"miter\" stroke-width=\"1.00\">\n",
       "\t<path d=\"M544.3,397.6 L544.3,389.8 M544.3,11.3 L544.3,19.1  \" stroke=\"rgb(  0,   0,   0)\"/>\t<g fill=\"rgb(38,38,38)\" font-family=\"Arial\" font-size=\"10.00\" stroke=\"none\" text-anchor=\"middle\" transform=\"translate(544.3,412.1)\">\n",
       "\t\t<text><tspan font-family=\"Arial\">20</tspan></text>\n",
       "\t</g>\n",
       "</g>\n",
       "<g color=\"black\" fill=\"none\" stroke=\"currentColor\" stroke-linecap=\"butt\" stroke-linejoin=\"miter\" stroke-width=\"1.00\">\n",
       "</g>\n",
       "<g color=\"black\" fill=\"none\" stroke=\"currentColor\" stroke-linecap=\"butt\" stroke-linejoin=\"miter\" stroke-width=\"1.00\">\n",
       "</g>\n",
       "\t<g id=\"gnuplot_plot_1a\"><title>gnuplot_plot_1a</title>\n",
       "<g color=\"#FFFFFF\" fill=\"none\" stroke=\"rgb(  0,   0,   0)\" stroke-linecap=\"butt\" stroke-linejoin=\"miter\" stroke-width=\"0.50\">\n",
       "</g>\n",
       "<g color=\"black\" fill=\"none\" stroke=\"currentColor\" stroke-linecap=\"butt\" stroke-linejoin=\"miter\" stroke-width=\"0.50\">\n",
       "\t<path d=\"M23.4,397.6 L75.5,277.0 L127.6,184.4 L179.7,126.7 L231.8,95.3 L283.9,79.4 L335.9,71.7 L388.0,68.0   L440.1,66.3 L492.2,65.5 L544.3,65.1  \" stroke=\"rgb(  0, 114, 189)\"/></g>\n",
       "\t</g>\n",
       "<g color=\"#FFFFFF\" fill=\"none\" stroke=\"rgb(  0, 114, 189)\" stroke-linecap=\"butt\" stroke-linejoin=\"miter\" stroke-width=\"2.00\">\n",
       "</g>\n",
       "<g color=\"black\" fill=\"none\" stroke=\"currentColor\" stroke-linecap=\"butt\" stroke-linejoin=\"miter\" stroke-width=\"2.00\">\n",
       "</g>\n",
       "<g color=\"black\" fill=\"none\" stroke=\"black\" stroke-linecap=\"butt\" stroke-linejoin=\"miter\" stroke-width=\"0.50\">\n",
       "\t<path d=\"M23.4,397.6 L544.3,397.6 M23.4,11.3 L544.3,11.3 M23.4,397.6 L23.4,11.3 M544.3,397.6 L544.3,11.3    \" stroke=\"rgb( 38,  38,  38)\"/></g>\n",
       "<g color=\"black\" fill=\"none\" stroke=\"rgb( 38,  38,  38)\" stroke-linecap=\"butt\" stroke-linejoin=\"miter\" stroke-width=\"1.00\">\n",
       "</g>\n",
       "<g color=\"black\" fill=\"none\" stroke=\"currentColor\" stroke-linecap=\"butt\" stroke-linejoin=\"miter\" stroke-width=\"1.00\">\n",
       "</g>\n",
       "</g>\n",
       "</svg>"
      ],
      "text/plain": [
       "<IPython.core.display.SVG object>"
      ]
     },
     "metadata": {},
     "output_type": "display_data"
    }
   ],
   "source": [
    "title('Plot de v versus t')\n",
    "xlabel('Valores de t')\n",
    "ylabel('Valores de v')\n",
    "grid\n",
    "plot(t, v)"
   ]
  },
  {
   "cell_type": "markdown",
   "metadata": {},
   "source": [
    "## Opções de Plotagem\n",
    "\n",
    "Ao plotar dados, MATLAB pode usar várias cores diferentes, estilos dos pontos e estilos de linha. Estes são especificados no final do comando plot usando parâmetros especificadores de plotagem. \n",
    "\n",
    "Exemplos de estilos de plotagem:\n",
    "- 'ro:' - linha pontilhada vermelha com círculos nos pontos\n",
    "- 'gd' - diamantes verdes nos pontos sem linha\n",
    "- 'm--' - linha tracejada magenta sem símbolos de ponto \n",
    "\n",
    "O caso padrão para um único conjunto de dados é criar uma linha azul sem pontos. \n",
    "\n",
    "Se um estilo de linha é especificado com nenhum estilo de ponto, nenhum ponto será desenhada no lugar dos pontos individuais; \n",
    "\n",
    "Da mesma forma, se um estilo de ponto é especificado sem estilo de linha, nenhuma linha será desenhada.\n",
    "\n",
    "## Outros Comandos de Plotagem\n",
    "\n",
    "- hold on e hold off \n",
    "\n",
    "    hold on diz ao MATLAB para manter os dados atuais plotados e adicionar os resultados de qualquer plotagem seguinte ao gráfico.  Isso continua até o comando hold off, que diz ao MATLAB para limpar o gráfico e começar de novo se outro comando de plotagem é dado.  hold on deve ser utilizado após a primeira plotagem de uma série.\n",
    "\n",
    "- subplot(m, n, p)\n",
    "\n",
    "    subplot divide a janela de figura em uma matriz mxn de pequenos eixos e torna o pésimo ativo.  Note que o primeiro subplot é no canto superior esquerdo, em seguida, a numeração continua do outro lado da linha. Isto é diferente da forma como os elementos são numerados dentro de uma matriz!\n"
   ]
  },
  {
   "cell_type": "code",
   "execution_count": null,
   "metadata": {},
   "outputs": [],
   "source": []
  }
 ],
 "metadata": {
  "kernelspec": {
   "display_name": "Octave",
   "language": "octave",
   "name": "octave"
  },
  "language_info": {
   "file_extension": ".m",
   "help_links": [
    {
     "text": "GNU Octave",
     "url": "https://www.gnu.org/software/octave/support.html"
    },
    {
     "text": "Octave Kernel",
     "url": "https://github.com/Calysto/octave_kernel"
    },
    {
     "text": "MetaKernel Magics",
     "url": "https://metakernel.readthedocs.io/en/latest/source/README.html"
    }
   ],
   "mimetype": "text/x-octave",
   "name": "octave",
   "version": "5.1.0"
  }
 },
 "nbformat": 4,
 "nbformat_minor": 4
}

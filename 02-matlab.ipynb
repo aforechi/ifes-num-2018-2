{
 "cells": [
  {
   "cell_type": "markdown",
   "metadata": {},
   "source": [
    "# Fundamentos de Matlab\n",
    "\n",
    "## Objetivos\n",
    "\n",
    "- Aprender como números reais e complexos são atribuídos a variáveis.\n",
    "- Aprender como vetores e matrizes são atribuídos valores usando atribuição simples, o operador de cor, e as funções LINSPACE e LOGSPACE.\n",
    "- Compreender as regras de precedência para a construção de expressões matemáticas.\n",
    "- Ganhar uma compreensão geral de funções internas do MATLAB e como você pode aprender mais sobre elas com o Menu de Ajuda do MATLAB.\n",
    "- Aprender a usar vetores para criar um gráfico de linha simples com base em uma equação.\n",
    "\n",
    "## O ambiente de desenvolvimento MATLAB\n",
    "\n",
    "- MATLAB possui três janelas principais:\n",
    "    - Janela de Comandos - usada para inserir comandos e dados\n",
    "    - Janela de Gráficos - usada para exibir desenhos e graficos\n",
    "    - Janela de Edição - usada para criar e editar arquivos texto com extensão M\n",
    "- Dependendo da arquitetura do seu computador e da versão do MATLAB, essas janelas podem ter aparências diferentes.\n",
    "\n",
    "## Modo Calculadora\n",
    "- A janela de comando do MATLAB pode ser usada como uma calculadora onde você pode digitar comandos linha por linha. \n",
    "\n",
    "- Sempre que um cálculo é realizado, MATLAB irá atribuir o resultado à variável interna $ans$\n",
    "\n",
    "Exemplo:"
   ]
  },
  {
   "cell_type": "code",
   "execution_count": 1,
   "metadata": {},
   "outputs": [
    {
     "name": "stdout",
     "output_type": "stream",
     "text": [
      "ans =  39\n"
     ]
    }
   ],
   "source": [
    "55 - 16"
   ]
  },
  {
   "cell_type": "markdown",
   "metadata": {},
   "source": [
    "## Variáveis do MATLAB\n",
    "\n",
    "- A variável $ans$ pode ser útil para a realização de cálculos rápidos, mas a sua natureza transitória torna a menos útil para a programação.\n",
    "- O MATLAB permite atribuir valores aos nomes de variáveis. Isto resulta no armazenamento de valores em locais de memória correspondentes ao nome da variável.\n",
    "- O MATLAB pode armazenar valores individuais, bem como matrizes; ele pode armazenar dados numéricos e de texto (que na verdade é armazenado numericamente tambem).\n",
    "- O MATLAB não exige que você pré-inicialize (declare) uma variável; Se ela não existir, o MATLAB irá criá-la para você.\n",
    "\n",
    "## Constantes\n",
    "\n",
    "- Para atribuir um único valor a uma variável, basta digitar o nome da variável, o sinal de igual (=), e o valor:"
   ]
  },
  {
   "cell_type": "code",
   "execution_count": 3,
   "metadata": {},
   "outputs": [
    {
     "name": "stdout",
     "output_type": "stream",
     "text": [
      "a =  4\n"
     ]
    }
   ],
   "source": [
    "a = 4"
   ]
  },
  {
   "cell_type": "markdown",
   "metadata": {},
   "source": [
    "- Note que nomes de variáveis devem começar com uma letra, embora possam conter letras, números, e o símbolo de sublinhado (_)\n",
    "- Você pode informar ao MATLAB para não exibir o resultado de um cálculo, acrescentando o ponto e vírgula (;) ao final de uma linha. O cálculo ainda será realizado!\n",
    "- Você pode pedir ao MATLAB para exibir o valor armazenado em uma variável digitando seu nome, sem o ponto e vírgula (;):"
   ]
  },
  {
   "cell_type": "code",
   "execution_count": 5,
   "metadata": {},
   "outputs": [
    {
     "name": "stdout",
     "output_type": "stream",
     "text": [
      "a =  4\n"
     ]
    }
   ],
   "source": [
    "a"
   ]
  },
  {
   "cell_type": "markdown",
   "metadata": {},
   "source": [
    "- Você pode usar a variável complexa i (ou j) para representar numeros imaginarios.\n",
    "- Você pode pedir ao MATLAB para exibir os valores de usando vários formatos diferentes, utilizando o comando FORMAT. - Observe que os valores ainda são armazenados da mesma forma, eles são apenas exibidos na tela de forma diferente.  \n",
    "\n",
    "Alguns exemplos:\n",
    "    - short – formato de ponto fixo com 5 digitos\n",
    "    - long – formato de ponto fixo com 15 digitos para DOUBLE e 7 digitos para SINGLE\n",
    "\n",
    "Exemplos de Formatos:"
   ]
  },
  {
   "cell_type": "code",
   "execution_count": 9,
   "metadata": {},
   "outputs": [
    {
     "name": "stdout",
     "output_type": "stream",
     "text": [
      "ans =  3.141592653589793\n"
     ]
    }
   ],
   "source": [
    "format long; pi"
   ]
  },
  {
   "cell_type": "code",
   "execution_count": 10,
   "metadata": {},
   "outputs": [
    {
     "name": "stdout",
     "output_type": "stream",
     "text": [
      "ans =  3.1416\n"
     ]
    }
   ],
   "source": [
    "format short; pi"
   ]
  },
  {
   "cell_type": "code",
   "execution_count": 11,
   "metadata": {},
   "outputs": [
    {
     "name": "stdout",
     "output_type": "stream",
     "text": [
      "ans =  31415.92654\n"
     ]
    }
   ],
   "source": [
    "pi*10000"
   ]
  },
  {
   "cell_type": "markdown",
   "metadata": {},
   "source": [
    "- Note que o formato permanece o mesmo a menos que o comando format seja executado novamente.\n",
    "\n",
    "## Vetores e Matrizes\n",
    "\n",
    "- O MATLAB pode tratar automaticamente arranjos de dados retangulares - matrizes unidimensionais são chamados vetores e matrizes bidimensionais são chamados de matrizes.\n",
    "- Arranjos de dados, seja vetores ou matrizes, são definidos usando colchetes [ e ] no MATLAB\n",
    "- Entradas dentro de uma mesma linha da matriz são separadas por espaços ou vírgulas\n",
    "- Diferentes linhas da matriz são separadas por ponto e vírgula \n",
    "\n",
    "Exemplos de Vetores:"
   ]
  },
  {
   "cell_type": "code",
   "execution_count": 12,
   "metadata": {},
   "outputs": [
    {
     "name": "stdout",
     "output_type": "stream",
     "text": [
      "a =\n",
      "\n",
      "   1   2   3   4   5\n",
      "\n"
     ]
    }
   ],
   "source": [
    "a = [1 2 3 4 5 ]"
   ]
  },
  {
   "cell_type": "code",
   "execution_count": 13,
   "metadata": {},
   "outputs": [
    {
     "name": "stdout",
     "output_type": "stream",
     "text": [
      "b =\n",
      "\n",
      "    2\n",
      "    4\n",
      "    6\n",
      "    8\n",
      "   10\n",
      "\n"
     ]
    }
   ],
   "source": [
    "b = [2;4;6;8;10]"
   ]
  },
  {
   "cell_type": "markdown",
   "metadata": {},
   "source": [
    "## Matrizes\n",
    "- Um arranjo 2-D, ou matriz, de dados é inserido linha por linha, com espaços (ou vírgulas) separando entradas dentro da linha e o ponto e vírgula separando as linhas :"
   ]
  },
  {
   "cell_type": "code",
   "execution_count": 14,
   "metadata": {},
   "outputs": [
    {
     "name": "stdout",
     "output_type": "stream",
     "text": [
      "A =\n",
      "\n",
      "   1   2   3\n",
      "   4   5   6\n",
      "   7   8   9\n",
      "\n"
     ]
    }
   ],
   "source": [
    "A = [1 2 3; 4 5 6; 7 8 9]"
   ]
  },
  {
   "cell_type": "markdown",
   "metadata": {},
   "source": [
    "## Comandos úteis de arranjos de dados\n",
    "- O operador de transposição (apóstrofo) pode ser usado para inverter uma matriz sobre sua própria diagonal. Por exemplo, se b é um vector-linha, b’ é um vector-coluna.\n",
    "- A janela de comandos permite que você separe linhas com a tecla ENTER. O mesmo é valido em arquivos de script (arquivo texto com extensão M)\n",
    "- O comando WHO o nome das variáveis usadas; Ele também fornece o tamanho, memória e tipos de dados para os arranjos de dados (matrizes e vetores).\n"
   ]
  },
  {
   "cell_type": "code",
   "execution_count": 15,
   "metadata": {},
   "outputs": [
    {
     "name": "stdout",
     "output_type": "stream",
     "text": [
      "ans =\n",
      "\n",
      "    2    4    6    8   10\n",
      "\n"
     ]
    }
   ],
   "source": [
    "b'"
   ]
  },
  {
   "cell_type": "code",
   "execution_count": 16,
   "metadata": {},
   "outputs": [
    {
     "name": "stdout",
     "output_type": "stream",
     "text": [
      "Variables in the current scope:\n",
      "\n",
      "A    a    ans  b\n",
      "\n"
     ]
    }
   ],
   "source": [
    "who"
   ]
  },
  {
   "cell_type": "markdown",
   "metadata": {},
   "source": [
    "## Accessando valores dos arranjos de dados\n",
    "- Valores individuais (elementos) dentro de um arranjo de dados podem ser tanto lidos e definidos usando o índice de posição na matriz ou suas coordenadas no formato linha-coluna.\n",
    "- O valor do índice começa com 1 para a entrada no canto superior esquerdo de uma matriz e aumenta para baixo uma coluna\n",
    "\n",
    "Considere a matriz C abaixo de 4 linhas e 3 colunas:"
   ]
  },
  {
   "cell_type": "code",
   "execution_count": 17,
   "metadata": {},
   "outputs": [
    {
     "name": "stdout",
     "output_type": "stream",
     "text": [
      "C =\n",
      "\n",
      "    2    4    9\n",
      "    3    3   16\n",
      "    3    0    8\n",
      "   10   13   17\n",
      "\n"
     ]
    }
   ],
   "source": [
    "C = [ 2     4     9;  3     3    16;  3     0     8; 10    13    17]"
   ]
  },
  {
   "cell_type": "code",
   "execution_count": 19,
   "metadata": {},
   "outputs": [
    {
     "name": "stdout",
     "output_type": "stream",
     "text": [
      "ans =  3\n",
      "ans =  10\n",
      "error: C(13): out of bound 12\n"
     ]
    }
   ],
   "source": [
    "C(2)\n",
    "C(4)\n",
    "C(13)"
   ]
  },
  {
   "cell_type": "markdown",
   "metadata": {},
   "source": [
    "As entradas também podem ser acessadas usando a linha e a coluna:\n",
    "- C(2,1) retorna 3\n",
    "- C(3,2) retorna 0\n",
    "- C(5,1) retorna erro!\n",
    "\n",
    "## Criação de matrizes elementares\n",
    "Existem várias funções embutidas (internas) para criar arranjos de dados:\n",
    "- zeros(r,c) cria uma matriz de r linhas por c colunas preenchidas com zeros\n",
    "- zeros(n) cria uma matriz de n por n preenchidas com zeros\n",
    "- ones(r,c) cria uma matriz de r linhas por c colunas preenchidas com o valor um\n",
    "- ones(n) cria uma matriz de n por n preenchidas com o valor um"
   ]
  },
  {
   "cell_type": "code",
   "execution_count": 21,
   "metadata": {},
   "outputs": [
    {
     "name": "stdout",
     "output_type": "stream",
     "text": [
      "ans =\n",
      "\n",
      "   1   1   1   1   1   1   1   1   1   1\n",
      "   1   1   1   1   1   1   1   1   1   1\n",
      "   1   1   1   1   1   1   1   1   1   1\n",
      "   1   1   1   1   1   1   1   1   1   1\n",
      "   1   1   1   1   1   1   1   1   1   1\n",
      "   1   1   1   1   1   1   1   1   1   1\n",
      "   1   1   1   1   1   1   1   1   1   1\n",
      "   1   1   1   1   1   1   1   1   1   1\n",
      "   1   1   1   1   1   1   1   1   1   1\n",
      "   1   1   1   1   1   1   1   1   1   1\n",
      "\n"
     ]
    }
   ],
   "source": [
    "ones(10)"
   ]
  },
  {
   "cell_type": "markdown",
   "metadata": {},
   "source": [
    "## Criação de arranjos de dados - o operador (:)\n",
    "- O operador dois-pontos (:) é útil em vários contextos. \n",
    "- Ele pode ser usado para criar um arranjo de pontos espaçados de forma linear usando a notação \n",
    "\n",
    "    start:diffval:limit onde,\n",
    "    - start é o primeiro valor no arranjo de dados, \n",
    "    - diffval é a diferença entre valores sucessivos no arranjo de dados, e\n",
    "    - limit é o limite para o último valor (embora não necessariamente, o último valor)."
   ]
  },
  {
   "cell_type": "code",
   "execution_count": 22,
   "metadata": {},
   "outputs": [
    {
     "name": "stdout",
     "output_type": "stream",
     "text": [
      "ans =\n",
      "\n",
      "    1.0000    1.6000    2.2000    2.8000\n",
      "\n"
     ]
    }
   ],
   "source": [
    "1:0.6:3"
   ]
  },
  {
   "cell_type": "markdown",
   "metadata": {},
   "source": [
    "## Operador dois-pontos: observações\n",
    "- Se diffval for omitido, o valor padrão é 1:"
   ]
  },
  {
   "cell_type": "code",
   "execution_count": 23,
   "metadata": {},
   "outputs": [
    {
     "name": "stdout",
     "output_type": "stream",
     "text": [
      "ans =\n",
      "\n",
      "   3   4   5   6\n",
      "\n"
     ]
    }
   ],
   "source": [
    "3:6"
   ]
  },
  {
   "cell_type": "markdown",
   "metadata": {},
   "source": [
    "- Para criar uma série decrescente, diffval deve ser negativo:"
   ]
  },
  {
   "cell_type": "code",
   "execution_count": 24,
   "metadata": {},
   "outputs": [
    {
     "name": "stdout",
     "output_type": "stream",
     "text": [
      "ans =\n",
      "\n",
      "    5.0000    3.8000    2.6000\n",
      "\n"
     ]
    }
   ],
   "source": [
    "5:-1.2:2"
   ]
  },
  {
   "cell_type": "markdown",
   "metadata": {},
   "source": [
    "- Se start+diffval>limit para uma série crescente ou start+diffval<limit  para uma série decrescente, será criado um arranjo vazio:"
   ]
  },
  {
   "cell_type": "code",
   "execution_count": 25,
   "metadata": {},
   "outputs": [
    {
     "name": "stdout",
     "output_type": "stream",
     "text": [
      "ans = [](1x0)\n"
     ]
    }
   ],
   "source": [
    "5:2"
   ]
  },
  {
   "cell_type": "markdown",
   "metadata": {},
   "source": [
    "- Para criar uma coluna, transponha a saída do operador dois-pontos, e não do valor limite; Ou seja, faça isso (3:6)’ e não isso 3:6’"
   ]
  },
  {
   "cell_type": "code",
   "execution_count": 27,
   "metadata": {},
   "outputs": [
    {
     "name": "stdout",
     "output_type": "stream",
     "text": [
      "ans =\n",
      "\n",
      "   3\n",
      "   4\n",
      "   5\n",
      "   6\n",
      "\n"
     ]
    }
   ],
   "source": [
    "(3:6)'"
   ]
  },
  {
   "cell_type": "markdown",
   "metadata": {},
   "source": [
    "## Criação de arranjos de dados - linspace\n",
    "- Para criar um vetor-linha com um número específico de pontos espaçados de forma linear entre dois números, use o comando linspace.\n",
    "- linspace(x1, x2, n) cria um arranjo linearmente espaçado de n pontos entre x1 e x2"
   ]
  },
  {
   "cell_type": "code",
   "execution_count": 29,
   "metadata": {},
   "outputs": [
    {
     "name": "stdout",
     "output_type": "stream",
     "text": [
      "ans =\n",
      "\n",
      "   0.00000   0.20000   0.40000   0.60000   0.80000   1.00000\n",
      "\n"
     ]
    }
   ],
   "source": [
    "linspace(0, 1, 6)"
   ]
  },
  {
   "cell_type": "markdown",
   "metadata": {},
   "source": [
    "- Se n for omitido, serão criados 100 pontos.\n",
    "- Para gerar uma coluna, transponha a saída do comando linspace.\n",
    "\n",
    "## Criação de arranjos de dados - logspace\n",
    "- Para criar um vetor-linha com um número específico de pontos espaçado logaritmicamente entre dois números, use o comando logspace.\n",
    "- logspace(x1, x2, n) cria uma matriz logaritmicamente espaçada de n pontos entre $10^{x1}$ e $10^{x2}$"
   ]
  },
  {
   "cell_type": "code",
   "execution_count": 30,
   "metadata": {},
   "outputs": [
    {
     "name": "stdout",
     "output_type": "stream",
     "text": [
      "ans =\n",
      "\n",
      "     0.10000     1.00000    10.00000   100.00000\n",
      "\n"
     ]
    }
   ],
   "source": [
    "logspace(-1, 2, 4)"
   ]
  },
  {
   "cell_type": "markdown",
   "metadata": {},
   "source": [
    "- Se n for omitido, serão criados 100.\n",
    "- Para gerar uma coluna, transponha a saída do comando logspace."
   ]
  },
  {
   "cell_type": "code",
   "execution_count": null,
   "metadata": {},
   "outputs": [],
   "source": []
  }
 ],
 "metadata": {
  "kernelspec": {
   "display_name": "Octave",
   "language": "octave",
   "name": "octave"
  },
  "language_info": {
   "file_extension": ".m",
   "help_links": [
    {
     "text": "GNU Octave",
     "url": "https://www.gnu.org/software/octave/support.html"
    },
    {
     "text": "Octave Kernel",
     "url": "https://github.com/Calysto/octave_kernel"
    },
    {
     "text": "MetaKernel Magics",
     "url": "https://github.com/calysto/metakernel/blob/master/metakernel/magics/README.md"
    }
   ],
   "mimetype": "text/x-octave",
   "name": "octave",
   "version": "4.4.0"
  }
 },
 "nbformat": 4,
 "nbformat_minor": 2
}
